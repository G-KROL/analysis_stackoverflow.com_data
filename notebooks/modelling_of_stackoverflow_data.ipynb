{
 "cells": [
  {
   "cell_type": "markdown",
   "source": [
    " Before you start using this notebook change **datalake_name** in the Python variable and file system command\n"
   ],
   "metadata": {
    "collapsed": false
   }
  },
  {
   "cell_type": "code",
   "source": [
    "from pyspark.sql.types import *\n",
    "from pyspark.sql import SparkSession\n",
    "from pyspark.sql.functions import *\n",
    "import numpy as np\n",
    "import matplotlib\n",
    "import matplotlib.pyplot as plt"
   ],
   "metadata": {
    "application/vnd.databricks.v1+cell": {
     "showTitle": false,
     "cellMetadata": {},
     "nuid": "2ca72235-8b10-45a8-b108-80e205f6b22b",
     "inputWidgets": {},
     "title": ""
    }
   },
   "outputs": [],
   "execution_count": null
  },
  {
   "cell_type": "code",
   "execution_count": null,
   "outputs": [],
   "source": [
    "font = {'size'   : 12}\n",
    "matplotlib.rc('font', **font)"
   ],
   "metadata": {
    "collapsed": false
   }
  },
  {
   "cell_type": "code",
   "source": [
    "datalake_name = 'cadlstoreev6d3ekjm3w7e'"
   ],
   "metadata": {
    "application/vnd.databricks.v1+cell": {
     "showTitle": false,
     "cellMetadata": {},
     "nuid": "abb3823e-9f39-4771-b299-082e936958f9",
     "inputWidgets": {},
     "title": ""
    }
   },
   "outputs": [],
   "execution_count": null
  },
  {
   "cell_type": "code",
   "source": [
    "%fs ls adl://cadlstoreev6d3ekjm3w7e.azuredatalakestore.net/"
   ],
   "metadata": {
    "application/vnd.databricks.v1+cell": {
     "showTitle": false,
     "cellMetadata": {},
     "nuid": "af7ecf33-da01-4402-b74f-2785e0cca478",
     "inputWidgets": {},
     "title": ""
    }
   },
   "outputs": [],
   "execution_count": null
  },
  {
   "cell_type": "code",
   "source": [
    "%python\n",
    "configs = {\n",
    "  'fs.adl.oauth2.access.token.provider.type': 'CustomAccessTokenProvider',\n",
    "  'fs.adl.oauth2.access.token.custom.provider': spark.conf.get('spark.databricks.passthrough.adls.tokenProviderClassName')\n",
    "}\n",
    "dbutils.fs.mount(\n",
    "source = f'adl://{datalake_name}.azuredatalakestore.net/',\n",
    "mount_point = '/mnt/datalake',\n",
    "extra_configs = configs)"
   ],
   "metadata": {
    "application/vnd.databricks.v1+cell": {
     "showTitle": false,
     "cellMetadata": {},
     "nuid": "b2fa5149-52ec-43af-b105-29732a08b8da",
     "inputWidgets": {},
     "title": ""
    }
   },
   "outputs": [],
   "execution_count": null
  },
  {
   "cell_type": "code",
   "source": [
    "questions_with_cleaned_text_columns_output_path = f'adl://{datalake_name}.azuredatalakestore.net/questions_with_cleaned_text_columns.parquet'\n",
    "most_popular_questions_with_unique_tag_path = f'adl://{datalake_name}.azuredatalakestore.net/most_popular_questions_with_unique_tag.parquet'"
   ],
   "metadata": {
    "application/vnd.databricks.v1+cell": {
     "showTitle": false,
     "cellMetadata": {},
     "nuid": "7f3dca6a-2f7f-4aca-b2f0-f199e60c6c53",
     "inputWidgets": {},
     "title": ""
    }
   },
   "outputs": [],
   "execution_count": null
  },
  {
   "cell_type": "code",
   "source": [
    "questions_with_cleaned_text_columns_df = spark.read.parquet(questions_with_cleaned_text_columns_output_path)\n",
    "most_popular_questions_with_unique_tag_df = spark.read.parquet(most_popular_questions_with_unique_tag_path)"
   ],
   "metadata": {
    "application/vnd.databricks.v1+cell": {
     "showTitle": false,
     "cellMetadata": {},
     "nuid": "79ea537a-0d8c-4b61-839f-064bf432422a",
     "inputWidgets": {},
     "title": ""
    }
   },
   "outputs": [],
   "execution_count": null
  },
  {
   "cell_type": "markdown",
   "source": [
    "## The most common words in the questions titles without consideration stopwords"
   ],
   "metadata": {
    "collapsed": false
   }
  },
  {
   "cell_type": "code",
   "source": [
    "most_frequent_words_in_titles = questions_with_cleaned_text_columns_df \\\n",
    "    .withColumn('Word', explode(split(col('TitleWithout'), ' ')))\\\n",
    "    .groupBy('Word') \\\n",
    "    .count() \\\n",
    "    .sort(desc('count'))\n",
    "\n",
    "most_frequent_words_in_titles.show()"
   ],
   "metadata": {
    "application/vnd.databricks.v1+cell": {
     "showTitle": false,
     "cellMetadata": {},
     "nuid": "87d4641b-7d77-4408-96e1-2a9f03d1f238",
     "inputWidgets": {},
     "title": ""
    }
   },
   "outputs": [],
   "execution_count": null
  },
  {
   "cell_type": "markdown",
   "source": [
    "## The most common words in the questions titles without consideration stopwords - PLOT"
   ],
   "metadata": {
    "collapsed": false
   }
  },
  {
   "cell_type": "code",
   "source": [
    "top_ten_most_frequent_words_in_titles_pandas = most_frequent_words_in_titles \\\n",
    "    .limit(10) \\\n",
    "    .sort(asc('count')) \\\n",
    "    .toPandas()\n",
    "\n",
    "fig, ax = plt.subplots(figsize=(10, 10), facecolor='white', dpi=100)\n",
    "plt.barh(top_ten_most_frequent_words_in_titles_pandas['Word'], top_ten_most_frequent_words_in_titles_pandas['count'])\n",
    "plt.ticklabel_format(axis='x', style='plain')\n",
    "\n",
    "most_popular_tags_pandas_min_value = most_popular_tags_pandas_df['count'].min().round(decimals=-5)\n",
    "most_popular_tags_pandas_max_value = most_popular_tags_pandas_df['count'].max().round(decimals=-5)\n",
    "most_popular_tags_pandas_max_step = most_popular_tags_pandas_max_value/5\n",
    "plt.xticks(np.arange(most_popular_tags_pandas_min_value, (most_popular_tags_pandas_max_value + most_popular_tags_pandas_max_step), step=most_popular_tags_pandas_max_step), rotation = 45)\n",
    "\n",
    "\n",
    "plt.ylabel('Słowa')\n",
    "plt.xlabel('Ilość wystąpień', labelpad= 20.0)\n",
    "plt.title('Najczęściej pojawiające się słowa w tytułach pytań \\n według danych z portalu stackoverflow.com')\n",
    "plt.savefig('top_ten_most_frequent_words_in_titles.png', facecolor='white')\n",
    "plt.show()"
   ],
   "metadata": {
    "application/vnd.databricks.v1+cell": {
     "showTitle": false,
     "cellMetadata": {},
     "nuid": "b7b9c485-010d-4d74-a273-e9ec22247baf",
     "inputWidgets": {},
     "title": ""
    }
   },
   "outputs": [],
   "execution_count": null
  },
  {
   "cell_type": "markdown",
   "source": [
    "## Modelling stackoverflow data for auto-tagging prediction of the assigning tags to the questions based on title and body of the question"
   ],
   "metadata": {
    "collapsed": false
   }
  },
  {
   "cell_type": "code",
   "source": [
    "questions_for_model = questions_with_cleaned_text_columns_df \\\n",
    "    .withColumn('TitleWithBodyOfQuestion', concat_ws(' ', col('Title'), col('Body')))\n",
    "\n",
    "questions_for_model.show()"
   ],
   "metadata": {
    "application/vnd.databricks.v1+cell": {
     "showTitle": false,
     "cellMetadata": {},
     "nuid": "3be3a5ca-d1f1-4205-8640-c067b4e59927",
     "inputWidgets": {},
     "title": ""
    }
   },
   "outputs": [],
   "execution_count": null
  },
  {
   "cell_type": "code",
   "source": [
    "questions_for_model_with_tag = questions_for_model.alias('q') \\\n",
    "    .join(most_popular_questions_with_unique_tag_df.alias('mq'), col('q.Id') == col('mq.Id')) \\\n",
    "    .select('q.*', 'mq.Tag')\n",
    "\n",
    "questions_for_model_with_tag.show()"
   ],
   "metadata": {
    "application/vnd.databricks.v1+cell": {
     "showTitle": false,
     "cellMetadata": {},
     "nuid": "909856df-5b7a-466f-bed0-794a3ee36869",
     "inputWidgets": {},
     "title": ""
    }
   },
   "outputs": [],
   "execution_count": null
  },
  {
   "cell_type": "code",
   "source": [
    "javascript_questions_for_model_df = questions_for_model_with_tag \\\n",
    "    .drop('Body', 'Title', 'Tags') \\\n",
    "    .filter(col('Tag') == '<javascript>') \\\n",
    "    .withColumn('Tag', translate(col('Tag'), '<>', ''))"
   ],
   "metadata": {
    "application/vnd.databricks.v1+cell": {
     "showTitle": false,
     "cellMetadata": {},
     "nuid": "1673d873-f051-4ed7-a395-ae341666aedd",
     "inputWidgets": {},
     "title": ""
    }
   },
   "outputs": [],
   "execution_count": null
  },
  {
   "cell_type": "code",
   "source": [
    "javascript_questions_for_model_df.show()"
   ],
   "metadata": {
    "application/vnd.databricks.v1+cell": {
     "showTitle": false,
     "cellMetadata": {},
     "nuid": "a9b15e3c-5e14-466e-af9d-ffc74c04c4fa",
     "inputWidgets": {},
     "title": ""
    }
   },
   "outputs": [],
   "execution_count": null
  },
  {
   "cell_type": "code",
   "source": [
    "javascript_questions_for_model_with_label = javascript_questions_for_model_df \\\n",
    "    .withColumn('Label', when(col('TitleWithBodyOfQuestion').contains(col('Tag')), 1).otherwise(0))\n",
    "\n",
    "javascript_questions_for_model_with_label.show()"
   ],
   "metadata": {
    "application/vnd.databricks.v1+cell": {
     "showTitle": false,
     "cellMetadata": {},
     "nuid": "dd800aad-5609-4c0b-ad64-92884d100fe4",
     "inputWidgets": {},
     "title": ""
    }
   },
   "outputs": [],
   "execution_count": null
  },
  {
   "cell_type": "code",
   "source": [
    "from pyspark.sql.functions import regexp_replace\n",
    "from pyspark.ml.feature import Tokenizer\n",
    "\n",
    "questions_for_model_train = javascript_questions_for_model_with_label \\\n",
    "    .withColumn('Text', regexp_replace(col('TitleWithBodyOfQuestion'), '[_():;,.!?\\\\-]', ' '))\n",
    "\n",
    "questions_for_model_train = questions_for_model_train \\\n",
    "    .withColumn('Text', regexp_replace(col('Text'), '[0-9]', ' '))\n",
    "\n",
    "questions_for_model_train = questions_for_model_train \\\n",
    "    .withColumn('Text', regexp_replace(col('Text'), ' +', ' '))\n",
    "\n",
    "questions_for_model_train = Tokenizer(inputCol='Text', outputCol='Words').transform(questions_for_model_train)\n",
    "\n",
    "questions_for_model_train.show(truncate=False)"
   ],
   "metadata": {
    "application/vnd.databricks.v1+cell": {
     "showTitle": false,
     "cellMetadata": {},
     "nuid": "974aa6e0-8034-47d5-8b10-38c81c0e62f1",
     "inputWidgets": {},
     "title": ""
    }
   },
   "outputs": [],
   "execution_count": null
  },
  {
   "cell_type": "code",
   "source": [
    "from pyspark.ml.feature import StopWordsRemover, HashingTF, IDF\n",
    "\n",
    "questions_for_model_train = StopWordsRemover(inputCol='Words', outputCol='Terms').transform(questions_for_model_train)\n",
    "\n",
    "questions_for_model_train = HashingTF(inputCol='Terms', outputCol='Hash', numFeatures=1024).transform(questions_for_model_train)\n",
    "\n",
    "questions_for_model_train_idf = IDF(inputCol='Hash', outputCol='Features').fit(questions_for_model_train).transform(questions_for_model_train)\n",
    "      \n",
    "questions_for_model_train_idf.select('Terms', 'Features').show(truncate=False)"
   ],
   "metadata": {
    "application/vnd.databricks.v1+cell": {
     "showTitle": false,
     "cellMetadata": {},
     "nuid": "ba786485-3694-44a1-9006-edf235cdd2de",
     "inputWidgets": {},
     "title": ""
    }
   },
   "outputs": [],
   "execution_count": null
  },
  {
   "cell_type": "code",
   "source": [
    "from pyspark.ml.classification import LogisticRegression\n",
    "\n",
    "questions_train, questions_test = questions_for_model_train_idf.randomSplit([0.8, 0.2], seed=13)\n",
    "\n",
    "logistic = LogisticRegression(labelCol='Label', featuresCol='Features', regParam=0.2).fit(questions_train)\n",
    "\n",
    "predictions = logistic.transform(questions_test)\n",
    "\n",
    "predictions.groupBy('Label', 'prediction').count().show()"
   ],
   "metadata": {
    "application/vnd.databricks.v1+cell": {
     "showTitle": false,
     "cellMetadata": {},
     "nuid": "e9d48c2e-d398-4a43-b0f3-e2d959905db8",
     "inputWidgets": {},
     "title": ""
    }
   },
   "outputs": [],
   "execution_count": null
  },
  {
   "cell_type": "code",
   "source": [
    "from pyspark.ml.evaluation import BinaryClassificationEvaluator\n",
    "\n",
    "evaluator = BinaryClassificationEvaluator(labelCol='Label')\n",
    "print('Poziom poniżej ROC', evaluator.evaluate(predictions))"
   ],
   "metadata": {
    "application/vnd.databricks.v1+cell": {
     "showTitle": false,
     "cellMetadata": {},
     "nuid": "d3daa732-ccb4-4e33-9657-833c010e2744",
     "inputWidgets": {},
     "title": ""
    }
   },
   "outputs": [],
   "execution_count": null
  },
  {
   "cell_type": "markdown",
   "source": [
    "## Modelling stackoverflow data for auto-tagging prediction of the assigning tags to the questions based on title and body of the question - Coefficients PLOT"
   ],
   "metadata": {
    "collapsed": false
   }
  },
  {
   "cell_type": "code",
   "source": [
    "model_coefficients = np.sort(logistic.coefficients)\n",
    "\n",
    "fig, ax = plt.subplots(figsize=(10, 10), facecolor='white', dpi=100)\n",
    "plt.plot(model_coefficients)\n",
    "\n",
    "plt.ylabel('Coefficients')\n",
    "plt.title('Regresja logistyczna')\n",
    "plt.savefig('Coefficients_LogisticRegression.png', facecolor='white')\n",
    "plt.show()"
   ],
   "metadata": {
    "application/vnd.databricks.v1+cell": {
     "showTitle": false,
     "cellMetadata": {},
     "nuid": "21ec3164-c98a-4277-af16-ac0cf2ae1982",
     "inputWidgets": {},
     "title": ""
    }
   },
   "outputs": [],
   "execution_count": null
  },
  {
   "cell_type": "code",
   "source": [
    "training_summary = logistic.summary"
   ],
   "metadata": {
    "application/vnd.databricks.v1+cell": {
     "showTitle": false,
     "cellMetadata": {},
     "nuid": "8b3c4dbe-695e-4edb-be8e-8139d4151f2d",
     "inputWidgets": {},
     "title": ""
    }
   },
   "outputs": [],
   "execution_count": null
  },
  {
   "cell_type": "markdown",
   "source": [
    "## Modelling stackoverflow data for auto-tagging prediction of the assigning tags to the questions based on title and body of the question - Distribution False-Positive and True-Positive based on model - PLOT\n"
   ],
   "metadata": {
    "collapsed": false
   }
  },
  {
   "cell_type": "code",
   "source": [
    "model_roc = training_summary.roc.toPandas()\n",
    "\n",
    "fig, ax = plt.subplots(figsize=(10, 10), facecolor='white', dpi=100)\n",
    "plt.plot(model_roc['FPR'], model_roc['TPR'])\n",
    "\n",
    "plt.xlabel('Wskaźnik False Positive')\n",
    "plt.ylabel('Wskaźnik True Positive')\n",
    "plt.title('Regresja logistyczna - krzywa ROC \\n Model treningowy poniżej poziomu ROC: 0.9515951309201413')\n",
    "plt.savefig('ROC_LogisticRegression.png', facecolor='white')\n",
    "plt.show()\n",
    "print('Model treningowy poniżej poziomu ROC: ' + str(training_summary.areaUnderROC))"
   ],
   "metadata": {
    "application/vnd.databricks.v1+cell": {
     "showTitle": false,
     "cellMetadata": {},
     "nuid": "a1ec294d-940e-460f-94a7-cdf67195ac5d",
     "inputWidgets": {},
     "title": ""
    }
   },
   "outputs": [],
   "execution_count": null
  },
  {
   "cell_type": "markdown",
   "source": [
    "## Modelling stackoverflow data for auto-tagging prediction of the assigning tags to the questions based on title and body of the question - Distribution Precision and Recall based on model - PLOT"
   ],
   "metadata": {
    "collapsed": false
   }
  },
  {
   "cell_type": "code",
   "source": [
    "model_precision = training_summary.pr.toPandas()\n",
    "\n",
    "fig, ax = plt.subplots(figsize=(10, 10), facecolor='white', dpi=100)\n",
    "plt.plot(model_precision['recall'], model_precision['precision'])\n",
    "\n",
    "plt.ylabel('Metryka precyzji')\n",
    "plt.xlabel('Metryka przywołania')\n",
    "plt.title('Regresja logistyczna - metryki wydajności')\n",
    "plt.savefig('model_precision_LogisticRegression.png', facecolor='white')\n",
    "plt.show()"
   ],
   "metadata": {
    "application/vnd.databricks.v1+cell": {
     "showTitle": false,
     "cellMetadata": {},
     "nuid": "4c12b54c-d97c-4bad-97e4-6a83b96163f9",
     "inputWidgets": {},
     "title": ""
    }
   },
   "outputs": [],
   "execution_count": null
  },
  {
   "cell_type": "markdown",
   "source": [
    "## Modelling stackoverflow data for auto-tagging prediction of the assigning tags to the questions based on title and body of the question - Prediction result based on model"
   ],
   "metadata": {
    "collapsed": false
   }
  },
  {
   "cell_type": "code",
   "source": [
    "accuracy = predictions.filter(predictions.Label == predictions.prediction).count() / float(predictions.count())\n",
    "\n",
    "predictions.select('Id', 'Label', 'Terms', 'rawPrediction', 'probability', 'prediction').show(10)\n",
    "print('Ewaluacja modelu testowego poniżej poziomu ROC: ', evaluator.evaluate(predictions))\n",
    "print('Dokładność modelu testowego: ', accuracy)"
   ],
   "metadata": {
    "application/vnd.databricks.v1+cell": {
     "showTitle": false,
     "cellMetadata": {},
     "nuid": "1365b7d9-7a19-4fcc-b2a1-5b41615166c3",
     "inputWidgets": {},
     "title": ""
    }
   },
   "outputs": [],
   "execution_count": null
  }
 ],
 "metadata": {
  "application/vnd.databricks.v1+notebook": {
   "notebookName": "modelling_of_stackoverflow_data",
   "dashboards": [],
   "notebookMetadata": {
    "pythonIndentUnit": 4,
    "mostRecentlyExecutedCommandWithImplicitDF": {
     "commandId": 2571161976442711,
     "dataframes": [
      "_sqldf"
     ]
    }
   },
   "language": "python",
   "widgets": {},
   "notebookOrigID": 2571161976442573
  }
 },
 "nbformat": 4,
 "nbformat_minor": 0
}
