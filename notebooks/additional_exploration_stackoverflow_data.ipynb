{
 "cells": [
  {
   "cell_type": "markdown",
   "source": [],
   "metadata": {
    "collapsed": false
   }
  },
  {
   "cell_type": "markdown",
   "source": [
    " Before you start using this notebook change **datalake_name** in the Python variable and file system command"
   ],
   "metadata": {
    "collapsed": false
   }
  },
  {
   "cell_type": "code",
   "source": [
    "from pyspark.sql.types import *\n",
    "from pyspark.sql import SparkSession\n",
    "from pyspark.sql.functions import *\n",
    "import numpy as np\n",
    "import matplotlib\n",
    "import matplotlib.pyplot as plt"
   ],
   "metadata": {
    "application/vnd.databricks.v1+cell": {
     "showTitle": false,
     "cellMetadata": {},
     "nuid": "72d645d8-a1f7-46ce-8ead-e2197bd0cd3e",
     "inputWidgets": {},
     "title": ""
    }
   },
   "outputs": [],
   "execution_count": null
  },
  {
   "cell_type": "code",
   "source": [
    "font = {'size'   : 12}\n",
    "\n",
    "matplotlib.rc('font', **font)"
   ],
   "metadata": {
    "application/vnd.databricks.v1+cell": {
     "showTitle": false,
     "cellMetadata": {},
     "nuid": "d6459fe7-3640-4ef9-9693-c30a445f751c",
     "inputWidgets": {},
     "title": ""
    }
   },
   "outputs": [],
   "execution_count": null
  },
  {
   "cell_type": "code",
   "source": [
    "datalake_name = 'cadlstorec6o67ihsthjni'"
   ],
   "metadata": {
    "application/vnd.databricks.v1+cell": {
     "showTitle": false,
     "cellMetadata": {},
     "nuid": "140340d9-e82d-4b0f-848f-4d0fe4fd7adf",
     "inputWidgets": {},
     "title": ""
    }
   },
   "outputs": [],
   "execution_count": null
  },
  {
   "cell_type": "code",
   "source": [
    "%fs ls adl://cadlstorec6o67ihsthjni.azuredatalakestore.net/"
   ],
   "metadata": {
    "application/vnd.databricks.v1+cell": {
     "showTitle": false,
     "cellMetadata": {},
     "nuid": "27886683-cc53-4f05-ac61-fd1f26cd5f12",
     "inputWidgets": {},
     "title": ""
    }
   },
   "outputs": [],
   "execution_count": null
  },
  {
   "cell_type": "code",
   "source": [
    "%python\n",
    "configs = {\n",
    "  'fs.adl.oauth2.access.token.provider.type': 'CustomAccessTokenProvider',\n",
    "  'fs.adl.oauth2.access.token.custom.provider': spark.conf.get('spark.databricks.passthrough.adls.tokenProviderClassName')\n",
    "}\n",
    "dbutils.fs.mount(\n",
    "source = f'adl://{datalake_name}.azuredatalakestore.net/',\n",
    "mount_point = '/mnt/datalake',\n",
    "extra_configs = configs)"
   ],
   "metadata": {
    "application/vnd.databricks.v1+cell": {
     "showTitle": false,
     "cellMetadata": {},
     "nuid": "59d6bda9-f19b-4ac6-872f-89dd31207041",
     "inputWidgets": {},
     "title": ""
    }
   },
   "outputs": [],
   "execution_count": null
  },
  {
   "cell_type": "code",
   "source": [
    "tags_parquet_path = f'adl://{datalake_name}.azuredatalakestore.net/tags.parquet'\n",
    "posts_parquet_path = f'adl://{datalake_name}.azuredatalakestore.net/posts.parquet'\n",
    "users_parquet_path = f'adl://{datalake_name}.azuredatalakestore.net/users.parquet'\n",
    "\n",
    "\n",
    "most_popular_questions_with_unique_tag_parquet_path = f'adl://{datalake_name}.azuredatalakestore.net/most_popular_questions_with_unique_tag.parquet'\n",
    "most_popular_answers_with_unique_tag_parquet_path = f'adl://{datalake_name}.azuredatalakestore.net/most_popular_answers_with_unique_tag.parquet'\n",
    "most_popular_accepted_answers_with_unique_tag_parquet_path = f'adl://{datalake_name}.azuredatalakestore.net/most_popular_accepted_answers_with_unique_tag.parquet'\n",
    "users_questions_with_most_popular_tags_parquet_path = f'adl://{datalake_name}.azuredatalakestore.net/users_questions_with_most_popular_tags.parquet'\n",
    "users_answers_with_most_popular_tags_parquet_path = f'adl://{datalake_name}.azuredatalakestore.net/users_answers_with_most_popular_tags.parquet'\n",
    "users_accepted_answers_with_most_popular_tags_parquet_path = f'adl://{datalake_name}.azuredatalakestore.net/users_accepted_answers_with_most_popular_tags.parquet'\n",
    "users_questions_and_answers_with_most_popular_tags_parquet_path = f'adl://{datalake_name}.azuredatalakestore.net/users_questions_and_answers_with_most_popular_tags.parquet'\n",
    "\n",
    "\n",
    "lowest_popular_questions_with_unique_tag_parquet_path = f'adl://{datalake_name}.azuredatalakestore.net/lowest_popular_questions_with_unique_tag.parquet'\n",
    "lowest_popular_answers_with_unique_tag_parquet_path = f'adl://{datalake_name}.azuredatalakestore.net/lowest_popular_answers_with_unique_tag.parquet'\n",
    "lowest_popular_accepted_answers_with_unique_tag_parquet_path = f'adl://{datalake_name}.azuredatalakestore.net/lowest_popular_accepted_answers_with_unique_tag.parquet'\n",
    "users_questions_with_lowest_popular_tags_parquet_path = f'adl://{datalake_name}.azuredatalakestore.net/users_questions_with_lowest_popular_tags.parquet'\n",
    "users_answers_with_lowest_popular_tags_parquet_path = f'adl://{datalake_name}.azuredatalakestore.net/users_answers_with_lowest_popular_tags.parquet'\n",
    "users_accepted_answers_with_lowest_popular_tags_parquet_path = f'adl://{datalake_name}.azuredatalakestore.net/users_accepted_answers_with_lowest_popular_tags.parquet'\n",
    "users_questions_and_answers_with_lowest_popular_tags_parquet_path = f'adl://{datalake_name}.azuredatalakestore.net/users_questions_and_answers_with_lowest_popular_tags.parquet'"
   ],
   "metadata": {
    "application/vnd.databricks.v1+cell": {
     "showTitle": false,
     "cellMetadata": {},
     "nuid": "e220ff8b-04c6-4483-822b-8db7e3e6f5dd",
     "inputWidgets": {},
     "title": ""
    }
   },
   "outputs": [],
   "execution_count": null
  },
  {
   "cell_type": "code",
   "execution_count": null,
   "outputs": [],
   "source": [
    "tags_df = spark.read.parquet(tags_parquet_path)\n",
    "posts_df = spark.read.parquet(posts_parquet_path)\n",
    "\n",
    "questions_df = posts_df.filter((col('PostTypeId') == 1) & (col('ClosedDate').isNull()))\n",
    "answers_df = posts_df.filter((col('PostTypeId') == 2) & (col('ClosedDate').isNull()))\n",
    "\n",
    "users_df = spark.read.parquet(users_parquet_path)\n",
    "\n",
    "\n",
    "most_popular_questions_with_unique_tag_df = spark.read.parquet(most_popular_questions_with_unique_tag_path)\n",
    "most_popular_answers_with_unique_tag_df = spark.read.parquet(most_popular_answers_with_unique_tag_path)\n",
    "most_popular_accepted_answers_with_unique_tag_df = spark.read.parquet(most_popular_accepted_answers_with_unique_tag_path)\n",
    "users_questions_with_most_popular_tags_df = spark.read.parquet(users_questions_with_most_popular_tags_parquet_path)\n",
    "users_answers_with_most_popular_tags_df = spark.read.parquet(users_answers_with_most_popular_tags_parquet_path)\n",
    "users_accepted_answers_with_most_popular_tags_df = spark.read.parquet(users_accepted_answers_with_most_popular_tags_parquet_path)\n",
    "users_questions_and_answers_with_most_popular_tags_df = spark.read.parquet(users_questions_and_answers_with_most_popular_tags_parquet_path)\n",
    "\n",
    "\n",
    "lowest_popular_questions_with_unique_tag_df = spark.read.parquet(lowest_popular_questions_with_unique_tag_path)\n",
    "lowest_popular_answers_with_unique_tag_df = spark.read.parquet(lowest_popular_answers_with_unique_tag_path)\n",
    "lowest_popular_accepted_answers_with_unique_tag_df = spark.read.parquet(lowest_popular_accepted_answers_with_unique_tag_path)\n",
    "users_questions_with_lowest_popular_tags_df = spark.read.parquet(users_questions_with_lowest_popular_tags_parquet_path)\n",
    "users_answers_with_lowest_popular_tags_df = spark.read.parquet(users_answers_with_lowest_popular_tags_parquet_path)\n",
    "users_accepted_answers_with_lowest_popular_tags_df = spark.read.parquet(users_accepted_answers_with_lowest_popular_tags_parquet_path)\n",
    "users_questions_and_answers_with_lowest_popular_tags_df = spark.read.parquet(users_questions_and_answers_with_lowest_popular_tags_parquet_path)"
   ],
   "metadata": {
    "collapsed": false
   }
  },
  {
   "cell_type": "code",
   "source": [
    "spark = SparkSession.builder.getOrCreate()"
   ],
   "metadata": {
    "application/vnd.databricks.v1+cell": {
     "showTitle": false,
     "cellMetadata": {},
     "nuid": "f3508539-3a6c-40e9-82c1-92c81449113a",
     "inputWidgets": {},
     "title": ""
    }
   },
   "outputs": [],
   "execution_count": null
  },
  {
   "cell_type": "code",
   "source": [
    "tags_df.show()"
   ],
   "metadata": {
    "collapsed": false,
    "application/vnd.databricks.v1+cell": {
     "showTitle": false,
     "cellMetadata": {},
     "nuid": "aa6aede2-033d-4507-9b19-b9c4ae4e55ec",
     "inputWidgets": {},
     "title": ""
    }
   },
   "outputs": [],
   "execution_count": null
  },
  {
   "cell_type": "code",
   "source": [
    "print(f'Questions: {questions_df.count()}')\n",
    "print(f'Answers: {answers_df.count()}')\n",
    "print(f'Users: {users_df.count()}')"
   ],
   "metadata": {
    "application/vnd.databricks.v1+cell": {
     "showTitle": false,
     "cellMetadata": {},
     "nuid": "baf0a8b3-069f-40fa-942e-1230626a27df",
     "inputWidgets": {},
     "title": ""
    }
   },
   "outputs": [],
   "execution_count": null
  },
  {
   "cell_type": "markdown",
   "source": [
    "## What are the most popular Tags based on Tags Summary?"
   ],
   "metadata": {
    "collapsed": false,
    "application/vnd.databricks.v1+cell": {
     "showTitle": false,
     "cellMetadata": {},
     "nuid": "d5f88616-e28a-490a-96c1-5a5a6663b84e",
     "inputWidgets": {},
     "title": ""
    }
   }
  },
  {
   "cell_type": "code",
   "source": [
    "tags_df.orderBy(col('Count').desc()).show()"
   ],
   "metadata": {
    "collapsed": false,
    "application/vnd.databricks.v1+cell": {
     "showTitle": false,
     "cellMetadata": {},
     "nuid": "50732fcc-bb87-4865-9112-23bc5751d6d7",
     "inputWidgets": {},
     "title": ""
    }
   },
   "outputs": [],
   "execution_count": null
  },
  {
   "cell_type": "markdown",
   "source": [
    "## What are the lowest popular Tags based on Tags Summary?"
   ],
   "metadata": {
    "application/vnd.databricks.v1+cell": {
     "showTitle": false,
     "cellMetadata": {},
     "nuid": "26e2e774-beb1-49e8-9b49-0653f420986b",
     "inputWidgets": {},
     "title": ""
    }
   }
  },
  {
   "cell_type": "code",
   "source": [
    "tags_df.orderBy(col('Count')).show()"
   ],
   "metadata": {
    "application/vnd.databricks.v1+cell": {
     "showTitle": false,
     "cellMetadata": {},
     "nuid": "0360f3db-e756-44d2-a957-817632586724",
     "inputWidgets": {},
     "title": ""
    }
   },
   "outputs": [],
   "execution_count": null
  },
  {
   "cell_type": "markdown",
   "source": [
    "## What is the number of questions asked in the top 10th most and least popular Technologies due to the StackOverflow Professionals Survey based on Tags Summary?"
   ],
   "metadata": {
    "collapsed": false,
    "application/vnd.databricks.v1+cell": {
     "showTitle": false,
     "cellMetadata": {},
     "nuid": "1eb07695-4ebf-4e84-ba70-06e4ef5437e1",
     "inputWidgets": {},
     "title": ""
    }
   }
  },
  {
   "cell_type": "code",
   "source": [
    "top_10_the_most_popular_technologies_based_on_the_survey_tags = ['javascript', 'html', 'sql', 'python', 'typescript', 'java', 'c#', 'bash', 'php', 'c++']\n",
    "top_10_the_lowest_popular_technologies_based_on_the_survey_tags = ['crystal-lang', 'apl', 'sas', 'ocaml', 'cobol', 'fortran', 'erlang', 'julia', 'f#', 'lisp']\n",
    "\n",
    "most_popular_tags_df = tags_df.filter(tags_df['TagName'].isin(top_10_the_most_popular_technologies_based_on_the_survey_tags)).sort(asc('Count'))\n",
    "\n",
    "lowest_popular_tags_df = tags_df.filter(tags_df['TagName'].isin(top_10_the_lowest_popular_technologies_based_on_the_survey_tags)).sort(asc('Count'))\n",
    "\n",
    "most_popular_tags_df.show()\n",
    "lowest_popular_tags_df.show()"
   ],
   "metadata": {
    "collapsed": false,
    "application/vnd.databricks.v1+cell": {
     "showTitle": false,
     "cellMetadata": {},
     "nuid": "837818fd-7236-43f6-a35d-60887fa11a75",
     "inputWidgets": {},
     "title": ""
    }
   },
   "outputs": [],
   "execution_count": null
  },
  {
   "cell_type": "markdown",
   "source": [
    "## What is the number of questions asked in the top 10th most and least popular Technologies due to the StackOverflow Professionals Survey based on Tags Summary? - PLOT\n"
   ],
   "metadata": {
    "collapsed": false
   }
  },
  {
   "cell_type": "code",
   "source": [
    "most_popular_tags_pandas_df = most_popular_tags_df.toPandas()\n",
    "\n",
    "fig, ax = plt.subplots(figsize=(10, 10), facecolor='white', dpi=100)\n",
    "plt.barh(most_popular_tags_pandas_df['TagName'], most_popular_tags_pandas_df['Count'])\n",
    "plt.ticklabel_format(axis='x', style='plain')\n",
    "\n",
    "most_popular_tags_pandas_min_value = most_popular_tags_pandas_df['Count'].min().round(decimals=-5)\n",
    "most_popular_tags_pandas_max_value = most_popular_tags_pandas_df['Count'].max().round(decimals=-5)\n",
    "most_popular_tags_pandas_max_step = most_popular_tags_pandas_max_value/5\n",
    "plt.xticks(np.arange(most_popular_tags_pandas_min_value, (most_popular_tags_pandas_max_value + most_popular_tags_pandas_max_step), step=most_popular_tags_pandas_max_step), rotation = 45)\n",
    "\n",
    "\n",
    "plt.ylabel('Technologie')\n",
    "plt.xlabel('Ilość pytań', labelpad= 20.0)\n",
    "plt.title('Najpopularniejsze technologie według danych z portalu stackoverflow.com')\n",
    "plt.savefig('most_popular_tags.png', facecolor='white')\n",
    "plt.show()"
   ],
   "metadata": {
    "application/vnd.databricks.v1+cell": {
     "showTitle": false,
     "cellMetadata": {},
     "nuid": "f529f236-f222-4d2c-a6b7-4e9448c2d659",
     "inputWidgets": {},
     "title": ""
    }
   },
   "outputs": [],
   "execution_count": null
  },
  {
   "cell_type": "code",
   "source": [
    "lowest_popular_tags_pandas_df = lowest_popular_tags_df.toPandas()\n",
    "\n",
    "fig, ax = plt.subplots(figsize=(10, 10), facecolor='white', dpi=100)\n",
    "plt.barh(lowest_popular_tags_pandas_df['TagName'], lowest_popular_tags_pandas_df['Count'])\n",
    "plt.ticklabel_format(axis='x', style='plain')\n",
    "\n",
    "lowest_popular_tags_pandas_min_value = lowest_popular_tags_pandas_df['Count'].min().round(decimals=-2)\n",
    "lowest_popular_tags_pandas_max_value = lowest_popular_tags_pandas_df['Count'].max().round(decimals=-3)\n",
    "lowest_popular_tags_pandas_max_step = lowest_popular_tags_pandas_max_value/5\n",
    "plt.xticks(np.arange(lowest_popular_tags_pandas_min_value, (lowest_popular_tags_pandas_max_value + lowest_popular_tags_pandas_max_step), step=lowest_popular_tags_pandas_max_step), rotation = 45)\n",
    "\n",
    "\n",
    "plt.ylabel('Technologie')\n",
    "plt.xlabel('Ilość pytań', labelpad= 20.0)\n",
    "plt.title('Najmniej popularne technologie według danych z portalu stackoverflow.com')\n",
    "plt.savefig('lowest_popular_tags.png', facecolor='white')\n",
    "plt.show()"
   ],
   "metadata": {
    "application/vnd.databricks.v1+cell": {
     "showTitle": false,
     "cellMetadata": {},
     "nuid": "a8e0bfd0-4336-448d-baee-0071e410876a",
     "inputWidgets": {},
     "title": ""
    }
   },
   "outputs": [],
   "execution_count": null
  },
  {
   "cell_type": "code",
   "source": [
    "print('MOST POPULAR QUESTIONS WITH UNIQUE TAG')\n",
    "most_popular_questions_with_unique_tag_df.groupBy(col('Tag')).count().sort(desc('count')).show()\n",
    "\n",
    "print('MOST POPULAR ANSWERS WITH UNIQUE TAG')\n",
    "most_popular_answers_with_unique_tag_df.groupBy(col('Tag')).count().sort(desc('count')).show()\n",
    "\n",
    "print('MOST POPULAR ACCEPTED ANSWERS WITH UNIQUE TAG')\n",
    "most_popular_accepted_answers_with_unique_tag_df.groupBy(col('Tag')).count().sort(desc('count')).show()\n",
    "\n",
    "print('USERS QUESTIONS WITH MOST POPULAR TAGS')\n",
    "users_questions_with_most_popular_tags_df.groupBy(col('Tag')).count().sort(desc('count')).show()\n",
    "\n",
    "print('USERS ANSWERS WITH MOST POPULAR TAGS')\n",
    "users_answers_with_most_popular_tags_df.groupBy(col('Tag')).count().sort(desc('count')).show()\n",
    "\n",
    "print('USERS ACCEPTED ANSWERS WITH MOST POPULAR TAGS')\n",
    "users_accepted_answers_with_most_popular_tags_df.groupBy(col('Tag')).count().sort(desc('count')).show()\n",
    "\n",
    "print('USERS QUESTIONS AND ANSWERS WITH MOST POPULAR TAGS')\n",
    "users_questions_and_answers_with_most_popular_tags_df.groupBy(col('Tag')).count().sort(desc('count')).show()\n",
    "\n",
    "\n",
    "print('LOWEST POPULAR QUESTIONS WITH UNIQUE TAG')\n",
    "lowest_popular_questions_with_unique_tag_df.groupBy(col('Tag')).count().sort(desc('count')).show()\n",
    "\n",
    "print('LOWEST POPULAR ANSWERS WITH UNIQUE TAG')\n",
    "lowest_popular_answers_with_unique_tag_df.groupBy(col('Tag')).count().sort(desc('count')).show()\n",
    "\n",
    "print('LOWEST POPULAR ACCEPTED ANSWERS WITH UNIQUE TAG')\n",
    "lowest_popular_accepted_answers_with_unique_tag_df.groupBy(col('Tag')).count().sort(desc('count')).show()\n",
    "\n",
    "print('USERS QUESTIONS WITH LOWEST POPULAR TAGS')\n",
    "users_questions_with_lowest_popular_tags_df.groupBy(col('Tag')).count().sort(desc('count')).show()\n",
    "\n",
    "print('USERS ANSWERS WITH LOWEST POPULAR TAGS')\n",
    "users_answers_with_lowest_popular_tags_df.groupBy(col('Tag')).count().sort(desc('count')).show()\n",
    "\n",
    "print('USERS ACCEPTED ANSWERS WITH LOWEST POPULAR TAGS')\n",
    "users_accepted_answers_with_lowest_popular_tags_df.groupBy(col('Tag')).count().sort(desc('count')).show()\n",
    "\n",
    "print('USERS QUESTIONS AND ANSWERS WITH LOWEST POPULAR TAGS')\n",
    "users_questions_and_answers_with_lowest_popular_tags_df.groupBy(col('Tag')).count().sort(desc('count')).show()"
   ],
   "metadata": {
    "collapsed": false,
    "pycharm": {
     "is_executing": true
    },
    "application/vnd.databricks.v1+cell": {
     "showTitle": false,
     "cellMetadata": {},
     "nuid": "5d99d834-f372-44f1-b6ac-e06bb27a5766",
     "inputWidgets": {},
     "title": ""
    }
   },
   "outputs": [],
   "execution_count": null
  },
  {
   "cell_type": "markdown",
   "source": [
    "## What is the number of questions asked through the years in the top 10th most and lowest popular Technologies due to StackOverflow Professionals Survey based on StackOverflow Questions?"
   ],
   "metadata": {
    "collapsed": false,
    "application/vnd.databricks.v1+cell": {
     "showTitle": false,
     "cellMetadata": {},
     "nuid": "7bdf28b6-ebc0-4bbc-91c7-d2b3ca426273",
     "inputWidgets": {},
     "title": ""
    }
   }
  },
  {
   "cell_type": "code",
   "source": [
    "most_popular_questions_through_the_years_df = most_popular_questions_with_unique_tag_df \\\n",
    "    .withColumn('CreationYear', year(col('CreationDate'))) \\\n",
    "    .groupBy(col('Tag'), col('CreationYear')) \\\n",
    "    .count() \\\n",
    "    .sort(desc('CreationYear'), desc('count'))\n",
    "\n",
    "most_popular_questions_through_the_years_df.show()\n",
    "\n",
    "\n",
    "lowest_popular_questions_through_the_years_df = lowest_popular_questions_with_unique_tag_df \\\n",
    "    .withColumn('CreationYear', year(col('CreationDate'))) \\\n",
    "    .groupBy(col('Tag'), col('CreationYear')) \\\n",
    "    .count() \\\n",
    "    .sort(desc('CreationYear'), desc('count'))\n",
    "\n",
    "lowest_popular_questions_through_the_years_df.show()"
   ],
   "metadata": {
    "collapsed": false,
    "application/vnd.databricks.v1+cell": {
     "showTitle": false,
     "cellMetadata": {},
     "nuid": "3ee99415-a2f0-41b6-aeae-abce18a8b03d",
     "inputWidgets": {},
     "title": ""
    }
   },
   "outputs": [],
   "execution_count": null
  },
  {
   "cell_type": "markdown",
   "source": [
    "## What is the number of questions asked through the years in the top 10th most and lowest popular Technologies due to StackOverflow Professionals Survey based on StackOverflow Questions? - PLOT"
   ],
   "metadata": {
    "collapsed": false
   }
  },
  {
   "cell_type": "code",
   "source": [
    "top_10_the_most_popular_technologies_based_on_the_survey_posts = ['<javascript>', '<html>', '<sql>', '<python>', '<typescript>', '<java>', '<c#>', '<bash>', '<php>', '<c++>']\n",
    "\n",
    "most_popular_questions_pandas_df = most_popular_questions_through_the_years_df.toPandas()\n",
    "\n",
    "fig, ax = plt.subplots(figsize=(10, 10), facecolor='white', dpi=100)\n",
    "plt.ticklabel_format(axis='y', style='plain')\n",
    "\n",
    "# Should be done it by foreach\n",
    "ax.plot(most_popular_questions_pandas_df[most_popular_questions_pandas_df['Tag'] == '<javascript>']['CreationYear'], most_popular_questions_pandas_df[most_popular_questions_pandas_df['Tag'] == '<javascript>']['count'], label='javascript', color='blue', marker='v')\n",
    "\n",
    "ax.plot(most_popular_questions_pandas_df[most_popular_questions_pandas_df['Tag'] == '<html>']['CreationYear'], most_popular_questions_pandas_df[most_popular_questions_pandas_df['Tag'] == '<html>']['count'], label='html', color='green', marker='v')\n",
    "\n",
    "ax.plot(most_popular_questions_pandas_df[most_popular_questions_pandas_df['Tag'] == '<sql>']['CreationYear'], most_popular_questions_pandas_df[most_popular_questions_pandas_df['Tag'] == '<sql>']['count'], label='sql', color='red', marker='v')\n",
    "\n",
    "ax.plot(most_popular_questions_pandas_df[most_popular_questions_pandas_df['Tag'] == '<python>']['CreationYear'], most_popular_questions_pandas_df[most_popular_questions_pandas_df['Tag'] == '<python>']['count'], label='python', color='cyan', marker='v')\n",
    "\n",
    "ax.plot(most_popular_questions_pandas_df[most_popular_questions_pandas_df['Tag'] == '<typescript>']['CreationYear'], most_popular_questions_pandas_df[most_popular_questions_pandas_df['Tag'] == '<typescript>']['count'], label='typescript', color='magenta', marker='v')\n",
    "\n",
    "ax.plot(most_popular_questions_pandas_df[most_popular_questions_pandas_df['Tag'] == '<java>']['CreationYear'], most_popular_questions_pandas_df[most_popular_questions_pandas_df['Tag'] == '<java>']['count'], label='java', color='yellow', marker='v')\n",
    "\n",
    "ax.plot(most_popular_questions_pandas_df[most_popular_questions_pandas_df['Tag'] == '<c#>']['CreationYear'], most_popular_questions_pandas_df[most_popular_questions_pandas_df['Tag'] == '<c#>']['count'], label='c#', color='black', marker='v')\n",
    "\n",
    "ax.plot(most_popular_questions_pandas_df[most_popular_questions_pandas_df['Tag'] == '<bash>']['CreationYear'], most_popular_questions_pandas_df[most_popular_questions_pandas_df['Tag'] == '<bash>']['count'], label='bash', color='orange', marker='v')\n",
    "\n",
    "ax.plot(most_popular_questions_pandas_df[most_popular_questions_pandas_df['Tag'] == '<php>']['CreationYear'], most_popular_questions_pandas_df[most_popular_questions_pandas_df['Tag'] == '<php>']['count'], label='php', color='gray', marker='v')\n",
    "\n",
    "ax.plot(most_popular_questions_pandas_df[most_popular_questions_pandas_df['Tag'] == '<c++>']['CreationYear'], most_popular_questions_pandas_df[most_popular_questions_pandas_df['Tag'] == '<c++>']['count'], label='c++', color='brown', marker='v')\n",
    "\n",
    "ax.set_xlabel('Poszczególne lata')\n",
    "ax.set_ylabel('Ilość pytań')\n",
    "plt.title('Ilość pytań w najpopularniejszych technologiach \\n w ciągu ostatnich lat według danych z portalu stackoverflow.com ')\n",
    "ax.legend(loc='center left', bbox_to_anchor=(1, 0.5))\n",
    "plt.savefig('most_popular_questions_through_the_years.png', facecolor='white')\n",
    "plt.show()"
   ],
   "metadata": {
    "collapsed": false,
    "application/vnd.databricks.v1+cell": {
     "showTitle": false,
     "cellMetadata": {},
     "nuid": "0e1bfd4b-892a-48c8-9ca8-efc611914203",
     "inputWidgets": {},
     "title": ""
    }
   },
   "outputs": [],
   "execution_count": null
  },
  {
   "cell_type": "code",
   "source": [
    "top_10_the_lowest_popular_technologies_based_on_the_survey_posts = ['<crystal-lang>', '<apl>', '<sas>', '<ocaml>', '<cobol>', '<fortran>', '<erlang>', '<julia>', '<f#>', '<lisp>']\n",
    "\n",
    "lowest_popular_questions_pandas_df = lowest_popular_questions_through_the_years_df.toPandas()\n",
    "\n",
    "\n",
    "fig, ax = plt.subplots(figsize=(10, 10), facecolor='white', dpi=100)\n",
    "plt.ticklabel_format(axis='y', style='plain')\n",
    "\n",
    "# Should be done it by foreach\n",
    "ax.plot(lowest_popular_questions_pandas_df[lowest_popular_questions_pandas_df['Tag'] == '<crystal-lang>']['CreationYear'], lowest_popular_questions_pandas_df[lowest_popular_questions_pandas_df['Tag'] == '<crystal-lang>']['count'], label='crystal-lang', color='mediumblue', marker='v')\n",
    "\n",
    "ax.plot(lowest_popular_questions_pandas_df[lowest_popular_questions_pandas_df['Tag'] == '<apl>']['CreationYear'], lowest_popular_questions_pandas_df[lowest_popular_questions_pandas_df['Tag'] == '<apl>']['count'], label='apl', color='darkgreen', marker='v')\n",
    "\n",
    "ax.plot(lowest_popular_questions_pandas_df[lowest_popular_questions_pandas_df['Tag'] == '<sas>']['CreationYear'], lowest_popular_questions_pandas_df[lowest_popular_questions_pandas_df['Tag'] == '<sas>']['count'], label='sas', color='tomato', marker='v')\n",
    "\n",
    "ax.plot(lowest_popular_questions_pandas_df[lowest_popular_questions_pandas_df['Tag'] == '<ocaml>']['CreationYear'], lowest_popular_questions_pandas_df[lowest_popular_questions_pandas_df['Tag'] == '<ocaml>']['count'], label='ocaml', color='darkcyan', marker='v')\n",
    "\n",
    "ax.plot(lowest_popular_questions_pandas_df[lowest_popular_questions_pandas_df['Tag'] == '<cobol>']['CreationYear'], lowest_popular_questions_pandas_df[lowest_popular_questions_pandas_df['Tag'] == '<cobol>']['count'], label='cobol', color='pink', marker='v')\n",
    "\n",
    "ax.plot(lowest_popular_questions_pandas_df[lowest_popular_questions_pandas_df['Tag'] == '<fortran>']['CreationYear'], lowest_popular_questions_pandas_df[lowest_popular_questions_pandas_df['Tag'] == '<fortran>']['count'], label='fortran', color='gold', marker='v')\n",
    "\n",
    "ax.plot(lowest_popular_questions_pandas_df[lowest_popular_questions_pandas_df['Tag'] == '<erlang>']['CreationYear'], lowest_popular_questions_pandas_df[lowest_popular_questions_pandas_df['Tag'] == '<erlang>']['count'], label='erlang', color='dimgray', marker='v')\n",
    "\n",
    "ax.plot(lowest_popular_questions_pandas_df[lowest_popular_questions_pandas_df['Tag'] == '<julia>']['CreationYear'], lowest_popular_questions_pandas_df[lowest_popular_questions_pandas_df['Tag'] == '<julia>']['count'], label='julia', color='darkorange', marker='v')\n",
    "\n",
    "ax.plot(lowest_popular_questions_pandas_df[lowest_popular_questions_pandas_df['Tag'] == '<f#>']['CreationYear'], lowest_popular_questions_pandas_df[lowest_popular_questions_pandas_df['Tag'] == '<f#>']['count'], label='f#', color='lightgray', marker='v')\n",
    "\n",
    "ax.plot(lowest_popular_questions_pandas_df[lowest_popular_questions_pandas_df['Tag'] == '<lisp>']['CreationYear'], lowest_popular_questions_pandas_df[lowest_popular_questions_pandas_df['Tag'] == '<lisp>']['count'], label='lisp', color='firebrick', marker='v')\n",
    "\n",
    "ax.set_xlabel('Poszczególne lata')\n",
    "ax.set_ylabel('Ilość pytań')\n",
    "plt.title('Ilość pytań w najmniej popularnych technologiach \\n w ciągu ostatnich lat według danych z portalu stackoverflow.com ')\n",
    "ax.legend(loc='center left', bbox_to_anchor=(1, 0.5))\n",
    "plt.savefig('lowest_popular_questions_through_the_years.png', facecolor='white')\n",
    "plt.show()"
   ],
   "metadata": {
    "collapsed": false,
    "application/vnd.databricks.v1+cell": {
     "showTitle": false,
     "cellMetadata": {},
     "nuid": "6711f38d-b350-4797-bb80-4a03f6fb70e5",
     "inputWidgets": {},
     "title": ""
    }
   },
   "outputs": [],
   "execution_count": null
  },
  {
   "cell_type": "markdown",
   "source": [
    "## What is the correction between the number of Accepted answers in the top 10th most and lowest popular Technologies due to StackOverflow Professionals Survey based on StackOverflow Questions?"
   ],
   "metadata": {
    "collapsed": false,
    "application/vnd.databricks.v1+cell": {
     "showTitle": false,
     "cellMetadata": {},
     "nuid": "287b5608-1da1-4371-828b-1d73c3c242f9",
     "inputWidgets": {},
     "title": ""
    }
   }
  },
  {
   "cell_type": "code",
   "source": [
    "most_popular_questions_with_answers_through_the_years_df = most_popular_questions_with_unique_tag_df \\\n",
    "    .filter(col('AnswerCount') > 0) \\\n",
    "    .withColumn('CreationYear', year(col('CreationDate'))) \\\n",
    "    .groupBy(col('Tag'), col('CreationYear')) \\\n",
    "    .count() \\\n",
    "    .sort(desc('CreationYear'), desc('count'))\n",
    "\n",
    "most_popular_questions_with_answers_through_the_years_df.show()\n",
    "\n",
    "\n",
    "lowest_popular_questions_with_answers_through_the_years_df = lowest_popular_questions_with_unique_tag_df \\\n",
    "    .filter(col('AnswerCount') > 0) \\\n",
    "    .withColumn('CreationYear', year(col('CreationDate'))) \\\n",
    "    .groupBy(col('Tag'), col('CreationYear')) \\\n",
    "    .count() \\\n",
    "    .sort(desc('CreationYear'), desc('count'))\n",
    "\n",
    "lowest_popular_questions_with_answers_through_the_years_df.show()"
   ],
   "metadata": {
    "collapsed": false,
    "application/vnd.databricks.v1+cell": {
     "showTitle": false,
     "cellMetadata": {},
     "nuid": "2afe212a-5763-4f41-941d-51a82e54b507",
     "inputWidgets": {},
     "title": ""
    }
   },
   "outputs": [],
   "execution_count": null
  },
  {
   "cell_type": "markdown",
   "source": [
    "## What is the correction between the number of Accepted answers in the top 10th most and lowest popular Technologies due to StackOverflow Professionals Survey based on StackOverflow Questions? - PLOTS"
   ],
   "metadata": {
    "collapsed": false
   }
  },
  {
   "cell_type": "code",
   "source": [
    "top_10_the_most_popular_technologies_based_on_the_survey_posts = ['<javascript>', '<html>', '<sql>', '<python>', '<typescript>', '<java>', '<c#>', '<bash>', '<php>', '<c++>']\n",
    "\n",
    "most_popular_questions_with_answers_pandas_df = most_popular_questions_with_answers_through_the_years_df.toPandas()\n",
    "\n",
    "\n",
    "fig, ax = plt.subplots(figsize=(10, 10), facecolor='white', dpi=100)\n",
    "plt.ticklabel_format(axis='y', style='plain')\n",
    "\n",
    "# Can be done it by foreach\n",
    "ax.plot(most_popular_questions_with_answers_pandas_df[most_popular_questions_with_answers_pandas_df['Tag'] == '<javascript>']['CreationYear'], most_popular_questions_with_answers_pandas_df[most_popular_questions_with_answers_pandas_df['Tag'] == '<javascript>']['count'], label='javascript', color='blue', marker='v')\n",
    "\n",
    "ax.plot(most_popular_questions_with_answers_pandas_df[most_popular_questions_with_answers_pandas_df['Tag'] == '<html>']['CreationYear'], most_popular_questions_with_answers_pandas_df[most_popular_questions_with_answers_pandas_df['Tag'] == '<html>']['count'], label='html', color='green', marker='v')\n",
    "\n",
    "ax.plot(most_popular_questions_with_answers_pandas_df[most_popular_questions_with_answers_pandas_df['Tag'] == '<sql>']['CreationYear'], most_popular_questions_with_answers_pandas_df[most_popular_questions_with_answers_pandas_df['Tag'] == '<sql>']['count'], label='sql', color='red', marker='v')\n",
    "\n",
    "ax.plot(most_popular_questions_with_answers_pandas_df[most_popular_questions_with_answers_pandas_df['Tag'] == '<python>']['CreationYear'], most_popular_questions_with_answers_pandas_df[most_popular_questions_with_answers_pandas_df['Tag'] == '<python>']['count'], label='python', color='cyan', marker='v')\n",
    "\n",
    "ax.plot(most_popular_questions_with_answers_pandas_df[most_popular_questions_with_answers_pandas_df['Tag'] == '<typescript>']['CreationYear'], most_popular_questions_with_answers_pandas_df[most_popular_questions_with_answers_pandas_df['Tag'] == '<typescript>']['count'], label='typescript', color='magenta', marker='v')\n",
    "\n",
    "ax.plot(most_popular_questions_with_answers_pandas_df[most_popular_questions_with_answers_pandas_df['Tag'] == '<java>']['CreationYear'], most_popular_questions_with_answers_pandas_df[most_popular_questions_with_answers_pandas_df['Tag'] == '<java>']['count'], label='java', color='yellow', marker='v')\n",
    "\n",
    "ax.plot(most_popular_questions_with_answers_pandas_df[most_popular_questions_with_answers_pandas_df['Tag'] == '<c#>']['CreationYear'], most_popular_questions_with_answers_pandas_df[most_popular_questions_with_answers_pandas_df['Tag'] == '<c#>']['count'], label='c#', color='black', marker='v')\n",
    "\n",
    "ax.plot(most_popular_questions_with_answers_pandas_df[most_popular_questions_with_answers_pandas_df['Tag'] == '<bash>']['CreationYear'], most_popular_questions_with_answers_pandas_df[most_popular_questions_with_answers_pandas_df['Tag'] == '<bash>']['count'], label='bash', color='orange', marker='v')\n",
    "\n",
    "ax.plot(most_popular_questions_with_answers_pandas_df[most_popular_questions_with_answers_pandas_df['Tag'] == '<php>']['CreationYear'], most_popular_questions_with_answers_pandas_df[most_popular_questions_with_answers_pandas_df['Tag'] == '<php>']['count'], label='php', color='gray', marker='v')\n",
    "\n",
    "ax.plot(most_popular_questions_with_answers_pandas_df[most_popular_questions_with_answers_pandas_df['Tag'] == '<c++>']['CreationYear'], most_popular_questions_with_answers_pandas_df[most_popular_questions_with_answers_pandas_df['Tag'] == '<c++>']['count'], label='c++', color='brown', marker='v')\n",
    "\n",
    "ax.set_xlabel('Poszczególne lata')\n",
    "ax.set_ylabel('Ilość pytań z odpowiedziami')\n",
    "plt.title('Ilość pytań z udzielonymi odpowiedziami w najpopularniejszych \\n technologiach w ciągu ostatnich lat według danych z portalu stackoverflow.com')\n",
    "ax.legend(loc='center left', bbox_to_anchor=(1, 0.5))\n",
    "plt.savefig('most_popular_questions_with_answers_through_the_years.png', facecolor='white')\n",
    "plt.show()\n"
   ],
   "metadata": {
    "application/vnd.databricks.v1+cell": {
     "showTitle": false,
     "cellMetadata": {},
     "nuid": "3bc780be-1ae3-4fad-93b8-14bc62c1b2af",
     "inputWidgets": {},
     "title": ""
    }
   },
   "outputs": [],
   "execution_count": null
  },
  {
   "cell_type": "code",
   "source": [
    "top_10_the_lowest_popular_technologies_based_on_the_survey_posts = ['<crystal-lang>', '<apl>', '<sas>', '<ocaml>', '<cobol>', '<fortran>', '<erlang>', '<julia>', '<f#>', '<lisp>']\n",
    "\n",
    "lowest_popular_questions_with_answers_pandas_df = lowest_popular_questions_with_answers_through_the_years_df.toPandas()\n",
    "\n",
    "fig, ax = plt.subplots(figsize=(10, 10), facecolor='white', dpi=100)\n",
    "plt.ticklabel_format(axis='y', style='plain')\n",
    "\n",
    "# Can be done it by foreach\n",
    "ax.plot(lowest_popular_questions_with_answers_pandas_df[lowest_popular_questions_with_answers_pandas_df['Tag'] == '<crystal-lang>']['CreationYear'], lowest_popular_questions_with_answers_pandas_df[lowest_popular_questions_with_answers_pandas_df['Tag'] == '<crystal-lang>']['count'], label='crystal-lang', color='mediumblue', marker='v')\n",
    "\n",
    "ax.plot(lowest_popular_questions_with_answers_pandas_df[lowest_popular_questions_with_answers_pandas_df['Tag'] == '<apl>']['CreationYear'], lowest_popular_questions_with_answers_pandas_df[lowest_popular_questions_with_answers_pandas_df['Tag'] == '<apl>']['count'], label='apl', color='darkgreen', marker='v')\n",
    "\n",
    "ax.plot(lowest_popular_questions_with_answers_pandas_df[lowest_popular_questions_with_answers_pandas_df['Tag'] == '<sas>']['CreationYear'], lowest_popular_questions_with_answers_pandas_df[lowest_popular_questions_with_answers_pandas_df['Tag'] == '<sas>']['count'], label='sas', color='tomato', marker='v')\n",
    "\n",
    "ax.plot(lowest_popular_questions_with_answers_pandas_df[lowest_popular_questions_with_answers_pandas_df['Tag'] == '<ocaml>']['CreationYear'], lowest_popular_questions_with_answers_pandas_df[lowest_popular_questions_with_answers_pandas_df['Tag'] == '<ocaml>']['count'], label='ocaml', color='darkcyan', marker='v')\n",
    "\n",
    "ax.plot(lowest_popular_questions_with_answers_pandas_df[lowest_popular_questions_with_answers_pandas_df['Tag'] == '<cobol>']['CreationYear'], lowest_popular_questions_with_answers_pandas_df[lowest_popular_questions_with_answers_pandas_df['Tag'] == '<cobol>']['count'], label='cobol', color='pink', marker='v')\n",
    "\n",
    "ax.plot(lowest_popular_questions_with_answers_pandas_df[lowest_popular_questions_with_answers_pandas_df['Tag'] == '<fortran>']['CreationYear'], lowest_popular_questions_with_answers_pandas_df[lowest_popular_questions_with_answers_pandas_df['Tag'] == '<fortran>']['count'], label='fortran', color='gold', marker='v')\n",
    "\n",
    "ax.plot(lowest_popular_questions_with_answers_pandas_df[lowest_popular_questions_with_answers_pandas_df['Tag'] == '<erlang>']['CreationYear'], lowest_popular_questions_with_answers_pandas_df[lowest_popular_questions_with_answers_pandas_df['Tag'] == '<erlang>']['count'], label='erlang', color='dimgray', marker='v')\n",
    "\n",
    "ax.plot(lowest_popular_questions_with_answers_pandas_df[lowest_popular_questions_with_answers_pandas_df['Tag'] == '<julia>']['CreationYear'], lowest_popular_questions_with_answers_pandas_df[lowest_popular_questions_with_answers_pandas_df['Tag'] == '<julia>']['count'], label='julia', color='darkorange', marker='v')\n",
    "\n",
    "ax.plot(lowest_popular_questions_with_answers_pandas_df[lowest_popular_questions_with_answers_pandas_df['Tag'] == '<f#>']['CreationYear'], lowest_popular_questions_with_answers_pandas_df[lowest_popular_questions_with_answers_pandas_df['Tag'] == '<f#>']['count'], label='f#', color='lightgray', marker='v')\n",
    "\n",
    "ax.plot(lowest_popular_questions_with_answers_pandas_df[lowest_popular_questions_with_answers_pandas_df['Tag'] == '<lisp>']['CreationYear'], lowest_popular_questions_with_answers_pandas_df[lowest_popular_questions_with_answers_pandas_df['Tag'] == '<lisp>']['count'], label='lisp', color='firebrick', marker='v')\n",
    "\n",
    "ax.set_xlabel('Poszczególne lata')\n",
    "ax.set_ylabel('Ilość pytań z odpowiedziami')\n",
    "plt.title('Ilość pytań z udzielonymi odpowiedziami w najmniej popularnych \\n technologiach w ciągu ostatnich lat według danych z portalu stackoverflow.com')\n",
    "ax.legend(loc='center left', bbox_to_anchor=(1, 0.5))\n",
    "plt.savefig('lowest_popular_questions_with_answers_through_the_years.png', facecolor='white')\n",
    "plt.show()"
   ],
   "metadata": {
    "collapsed": false,
    "application/vnd.databricks.v1+cell": {
     "showTitle": false,
     "cellMetadata": {},
     "nuid": "067cb4e3-2196-429d-b467-38a6a362ab11",
     "inputWidgets": {},
     "title": ""
    }
   },
   "outputs": [],
   "execution_count": null
  },
  {
   "cell_type": "markdown",
   "source": [
    "## What is the correction between the number of Accepted answers through the years in the top 10th most and lowest popular Technologies due to StackOverflow Professionals Survey based on StackOverflow Questions?"
   ],
   "metadata": {
    "collapsed": false,
    "application/vnd.databricks.v1+cell": {
     "showTitle": false,
     "cellMetadata": {},
     "nuid": "4430e7d8-66b5-4914-83d6-d2072f9d235c",
     "inputWidgets": {},
     "title": ""
    }
   }
  },
  {
   "cell_type": "code",
   "source": [
    "most_popular_questions_with_unique_tag_df \\\n",
    "    .filter(col('AcceptedAnswerId').isNotNull()) \\\n",
    "    .withColumn('CreationYear', year(col('CreationDate'))) \\\n",
    "    .groupBy(col('Tag'), col('CreationYear')) \\\n",
    "    .count() \\\n",
    "    .sort(desc('CreationYear'), desc('count')) \\\n",
    "    .show()\n",
    "\n",
    "lowest_popular_questions_with_unique_tag_df \\\n",
    "    .filter(col('AcceptedAnswerId').isNotNull()) \\\n",
    "    .withColumn('CreationYear', year(col('CreationDate'))) \\\n",
    "    .groupBy(col('Tag'), col('CreationYear')) \\\n",
    "    .count() \\\n",
    "    .sort(desc('CreationYear'), desc('count')) \\\n",
    "    .show()"
   ],
   "metadata": {
    "collapsed": false,
    "application/vnd.databricks.v1+cell": {
     "showTitle": false,
     "cellMetadata": {},
     "nuid": "c4837231-aeae-40df-ba92-5ad294e187b3",
     "inputWidgets": {},
     "title": ""
    }
   },
   "outputs": [],
   "execution_count": null
  },
  {
   "cell_type": "markdown",
   "source": [
    "## What is correction between number of unanswered questions in the top 10th most and lowest popular Technologies due to StackOverflow Professionals Survey based on StackOverflow Questions?"
   ],
   "metadata": {
    "collapsed": false,
    "application/vnd.databricks.v1+cell": {
     "showTitle": false,
     "cellMetadata": {},
     "nuid": "2a7d4aec-a072-4c6d-9c0b-c1ecfe4e2782",
     "inputWidgets": {},
     "title": ""
    }
   }
  },
  {
   "cell_type": "code",
   "source": [
    "most_popular_questions_with_unique_tag_df \\\n",
    "    .filter(col('AcceptedAnswerId').isNull()) \\\n",
    "    .groupBy(col('Tag')) \\\n",
    "    .count() \\\n",
    "    .sort(desc('count')) \\\n",
    "    .show()\n",
    "\n",
    "lowest_popular_questions_with_unique_tag_df \\\n",
    "    .filter(col('AcceptedAnswerId').isNull()) \\\n",
    "    .groupBy(col('Tag')) \\\n",
    "    .count() \\\n",
    "    .sort(desc('count')) \\\n",
    "    .show()"
   ],
   "metadata": {
    "collapsed": false,
    "application/vnd.databricks.v1+cell": {
     "showTitle": false,
     "cellMetadata": {},
     "nuid": "13a0bd1e-6b90-444a-ac09-988d512519ea",
     "inputWidgets": {},
     "title": ""
    }
   },
   "outputs": [],
   "execution_count": null
  },
  {
   "cell_type": "markdown",
   "source": [
    "## What is correction between number of unanswered questions through the years in the top 10th most and lowest popular Technologies due to StackOverflow Professionals Survey based on StackOverflow Questions?"
   ],
   "metadata": {
    "application/vnd.databricks.v1+cell": {
     "showTitle": false,
     "cellMetadata": {},
     "nuid": "5a5440f5-f57b-4d28-8a32-2876bd74913f",
     "inputWidgets": {},
     "title": ""
    }
   }
  },
  {
   "cell_type": "code",
   "source": [
    "most_popular_questions_with_unique_tag_df \\\n",
    "    .filter(col('AcceptedAnswerId').isNull()) \\\n",
    "    .withColumn('CreationYear', year(col('CreationDate'))) \\\n",
    "    .groupBy(col('Tag'), col('CreationYear')) \\\n",
    "    .count() \\\n",
    "    .sort(desc('CreationYear'), desc('count')) \\\n",
    "    .show()\n",
    "\n",
    "lowest_popular_questions_with_unique_tag_df \\\n",
    "    .filter(col('AcceptedAnswerId').isNull()) \\\n",
    "    .withColumn('CreationYear', year(col('CreationDate')) \\\n",
    "    .groupBy(col('Tag'), col('CreationYear')) \\\n",
    "    .count() \\\n",
    "    .sort(desc('CreationYear'), desc('count')) \\\n",
    "    .show()"
   ],
   "metadata": {
    "application/vnd.databricks.v1+cell": {
     "showTitle": false,
     "cellMetadata": {},
     "nuid": "28091c81-e551-4ee1-8083-5d3a69caaee6",
     "inputWidgets": {},
     "title": ""
    }
   },
   "outputs": [],
   "execution_count": null
  },
  {
   "cell_type": "markdown",
   "source": [
    "## What is the correction between the number of questions views in the top 10th most and lowest popular Technologies due to StackOverflow Professionals Survey based on StackOverflow Questions?"
   ],
   "metadata": {
    "collapsed": false,
    "application/vnd.databricks.v1+cell": {
     "showTitle": false,
     "cellMetadata": {},
     "nuid": "7f91a607-2d3a-4b37-812a-c4d7f25bd6b9",
     "inputWidgets": {},
     "title": ""
    }
   }
  },
  {
   "cell_type": "code",
   "source": [
    "most_popular_questions_with_unique_tag_df \\\n",
    "    .withColumn('CreationYear', year(col('CreationDate'))) \\\n",
    "    .groupBy(col('Tag'), col('CreationYear')).sum('ViewCount') \\\n",
    "    .sort(desc('CreationYear'), desc('sum(_ViewCount)')) \\\n",
    "    .show()\n",
    "\n",
    "lowest_popular_questions_with_unique_tag_df \\\n",
    "    .withColumn('CreationYear', year(col('CreationDate'))) \\\n",
    "    .groupBy(col('Tag'), col('CreationYear')).sum('ViewCount') \\\n",
    "    .sort(desc('CreationYear'), desc('sum(_ViewCount)')) \\\n",
    "    .show()"
   ],
   "metadata": {
    "collapsed": false,
    "application/vnd.databricks.v1+cell": {
     "showTitle": false,
     "cellMetadata": {},
     "nuid": "a40e7351-627d-4925-bd69-09a3e0fe7bf2",
     "inputWidgets": {},
     "title": ""
    }
   },
   "outputs": [],
   "execution_count": null
  },
  {
   "cell_type": "markdown",
   "source": [
    "## What is the correlation between the number of views and Accepted Answers in the top 10th most and lowest popular Technologies due to StackOverflow Professionals Survey based on StackOverflow Questions?"
   ],
   "metadata": {
    "collapsed": false,
    "application/vnd.databricks.v1+cell": {
     "showTitle": false,
     "cellMetadata": {},
     "nuid": "d41e7270-427a-4e6a-a1cd-22e72c58661c",
     "inputWidgets": {},
     "title": ""
    }
   }
  },
  {
   "cell_type": "code",
   "source": [
    "most_popular_questions_with_unique_tag_df.groupBy(col('Tag')) \\\n",
    "    .agg(count(when(col('AcceptedAnswerId').isNotNull(), True)).alias('NumberOfAnsweredQuestions'), count(when(col('AcceptedAnswerId').isNull(), True)).alias('NumberOfUnansweredQuestions')) \\\n",
    "    .sort(desc('NumberOfAnsweredQuestions'), desc('NumberOfUnansweredQuestions')).show()\n",
    "\n",
    "\n",
    "lowest_popular_questions_with_unique_tag_df.groupBy(col('Tag')) \\\n",
    "    .agg(count(when(col('AcceptedAnswerId').isNotNull(), True)).alias('NumberOfAnsweredQuestions'), count(when(col('AcceptedAnswerId').isNull(), True)).alias('NumberOfUnansweredQuestions')) \\\n",
    "    .sort(desc('NumberOfAnsweredQuestions'), desc('NumberOfUnansweredQuestions')).show()"
   ],
   "metadata": {
    "collapsed": false,
    "pycharm": {
     "is_executing": true
    },
    "application/vnd.databricks.v1+cell": {
     "showTitle": false,
     "cellMetadata": {},
     "nuid": "94c22c4d-454d-4290-af05-79aa7e113c48",
     "inputWidgets": {},
     "title": ""
    }
   },
   "outputs": [],
   "execution_count": null
  },
  {
   "cell_type": "markdown",
   "source": [
    "## What is the correlation between getting Accepted Answers and the fastest time needed in the top 10th most and lowest popular Technologies due to StackOverflow Professionals Survey based on StackOverflow Questions?"
   ],
   "metadata": {
    "collapsed": false
   }
  },
  {
   "cell_type": "code",
   "source": [
    "top_most_popular_questions_accepted_answer_response_time_df = most_popular_questions_with_unique_tag_df.alias('q').join(most_popular_accepted_answers_with_unique_tag_df.alias('a'), col('q.AcceptedAnswerId') == col('a.Id')) \\\n",
    "    .select(col('q.Tag'), col('q.CreationDate').alias('QuestionCreationDate'), col('a.CreationDate').alias('AcceptedAnswerCreationDate')) \\\n",
    "    .withColumn('AcceptedAnswerResponseTimeSeconds', col('AcceptedAnswerCreationDate').cast('long') - col('QuestionCreationDate').cast('long')) \\\n",
    "    .withColumn('AcceptedAnswerResponseTimeInMinutes', round(col('AcceptedAnswerResponseTimeSeconds')/60)) \\\n",
    "    .withColumn('AcceptedAnswerResponseTimeInHours', round(col('AcceptedAnswerResponseTimeSeconds')/3600)) \\\n",
    "    .withColumn('AcceptedAnswerResponseTimeInDays', round(col('AcceptedAnswerResponseTimeSeconds')/(24*3600))) \\\n",
    "    .sort(desc('AcceptedAnswerResponseTimeSeconds'), desc('AcceptedAnswerResponseTimeInMinutes'), desc('AcceptedAnswerResponseTimeInHours'), desc('AcceptedAnswerResponseTimeInDays'))\n",
    "\n",
    "top_most_popular_questions_accepted_answer_response_time_df.show()\n",
    "\n",
    "top_most_popular_questions_accepted_answer_response_time_df \\\n",
    "    .groupBy('Tag') \\\n",
    "    .min('AcceptedAnswerResponseTimeSeconds') \\\n",
    "    .sort(asc('min(AcceptedAnswerResponseTimeSeconds)')) \\\n",
    "    .show()\n",
    "\n",
    "top_lowest_popular_questions_accepted_answer_response_time_df = lowest_popular_questions_with_unique_tag_df.alias('q').join(lowest_popular_accepted_answers_with_unique_tag_df.alias('a'), col('q.AcceptedAnswerId') == col('a.Id')) \\\n",
    "    .select(col('q.Tag'), col('q.CreationDate').alias('QuestionCreationDate'), col('a.CreationDate').alias('AcceptedAnswerCreationDate')) \\\n",
    "    .withColumn('AcceptedAnswerResponseTimeSeconds', col('AcceptedAnswerCreationDate').cast('long') - col('QuestionCreationDate').cast('long')) \\\n",
    "    .withColumn('AcceptedAnswerResponseTimeInMinutes', round(col('AcceptedAnswerResponseTimeSeconds')/60)) \\\n",
    "    .withColumn('AcceptedAnswerResponseTimeInHours', round(col('AcceptedAnswerResponseTimeSeconds')/3600)) \\\n",
    "    .withColumn('AcceptedAnswerResponseTimeInDays', round(col('AcceptedAnswerResponseTimeSeconds')/(24*3600))) \\\n",
    "    .sort(desc('AcceptedAnswerResponseTimeSeconds'), desc('AcceptedAnswerResponseTimeInMinutes'), desc('AcceptedAnswerResponseTimeInHours'), desc('AcceptedAnswerResponseTimeInDays'))\n",
    "\n",
    "top_lowest_popular_questions_accepted_answer_response_time_df.show()\n",
    "\n",
    "top_lowest_popular_questions_accepted_answer_response_time_df \\\n",
    "    .groupBy('Tag') \\\n",
    "    .min('AcceptedAnswerResponseTimeSeconds') \\\n",
    "    .sort(asc('min(AcceptedAnswerResponseTimeSeconds)')) \\\n",
    "    .show()"
   ],
   "metadata": {
    "collapsed": false,
    "application/vnd.databricks.v1+cell": {
     "showTitle": false,
     "cellMetadata": {},
     "nuid": "d5e3e712-c184-4986-b26b-39f5d8ad94e8",
     "inputWidgets": {},
     "title": ""
    }
   },
   "outputs": [],
   "execution_count": null
  },
  {
   "cell_type": "markdown",
   "source": [
    "## What is the correlation between getting Accepted Answers and the slowest time needed in the top 10th most and lowest popular Technologies due to StackOverflow Professionals Survey based on StackOverflow Questions?"
   ],
   "metadata": {
    "application/vnd.databricks.v1+cell": {
     "showTitle": false,
     "cellMetadata": {},
     "nuid": "f81b7635-1eea-4862-aa17-800107e0fa47",
     "inputWidgets": {},
     "title": ""
    }
   }
  },
  {
   "cell_type": "code",
   "source": [
    "top_most_popular_questions_accepted_answer_response_time_df \\\n",
    "    .groupBy('Tag') \\\n",
    "    .max('AcceptedAnswerResponseTimeInDays') \\\n",
    "    .sort(desc('max(AcceptedAnswerResponseTimeInDays)')) \\\n",
    "    .show()\n",
    "\n",
    "top_lowest_popular_questions_accepted_answer_response_time_df \\\n",
    "    .groupBy('Tag') \\\n",
    "    .max('AcceptedAnswerResponseTimeInDays') \\\n",
    "    .sort(desc('max(AcceptedAnswerResponseTimeInDays)')) \\\n",
    "    .show()"
   ],
   "metadata": {
    "application/vnd.databricks.v1+cell": {
     "showTitle": false,
     "cellMetadata": {},
     "nuid": "1cf5188f-3902-4ff9-ae1c-84d927d508bb",
     "inputWidgets": {},
     "title": ""
    }
   },
   "outputs": [],
   "execution_count": null
  },
  {
   "cell_type": "markdown",
   "source": [
    "## What are the highest-scored  Answers in the top 10th most and lowest popular Technologies due to StackOverflow Professionals Survey based on StackOverflow Questions?"
   ],
   "metadata": {
    "application/vnd.databricks.v1+cell": {
     "showTitle": false,
     "cellMetadata": {},
     "nuid": "0e58c533-3b95-425c-b3cc-8eeefa770276",
     "inputWidgets": {},
     "title": ""
    }
   }
  },
  {
   "cell_type": "code",
   "source": [
    "most_popular_answers_with_unique_tag_df \\\n",
    "    .groupBy('Tag') \\\n",
    "    .max('Score') \\\n",
    "    .sort(desc('max(_Score)')) \\\n",
    "    .show()\n",
    "\n",
    "lowest_popular_answers_with_unique_tag_df \\\n",
    "    .groupBy('Tag') \\\n",
    "    .max('Score') \\\n",
    "    .sort(desc('max(_Score)')) \\\n",
    "    .show()"
   ],
   "metadata": {
    "application/vnd.databricks.v1+cell": {
     "showTitle": false,
     "cellMetadata": {},
     "nuid": "debf0676-31fb-4c28-a995-0f10d533fed8",
     "inputWidgets": {},
     "title": ""
    }
   },
   "outputs": [],
   "execution_count": null
  },
  {
   "cell_type": "markdown",
   "source": [
    "## What are the lowest-scored  Answers in the top 10th most and lowest popular Technologies due to StackOverflow Professionals Survey based on StackOverflow Questions?"
   ],
   "metadata": {
    "application/vnd.databricks.v1+cell": {
     "showTitle": false,
     "cellMetadata": {},
     "nuid": "2eb84fb1-d951-465e-8b1b-0e53013bcfc6",
     "inputWidgets": {},
     "title": ""
    }
   }
  },
  {
   "cell_type": "code",
   "source": [
    "most_popular_answers_with_unique_tag_df \\\n",
    "    .groupBy('Tag') \\\n",
    "    .min('Score') \\\n",
    "    .sort(asc('min(_Score)')) \\\n",
    "    .show()\n",
    "\n",
    "lowest_popular_answers_with_unique_tag_df \\\n",
    "    .groupBy('Tag') \\\n",
    "    .min('Score') \\\n",
    "    .sort(asc('min(_Score)')) \\\n",
    "    .show()"
   ],
   "metadata": {
    "application/vnd.databricks.v1+cell": {
     "showTitle": false,
     "cellMetadata": {},
     "nuid": "703d2983-80bc-4602-be7a-dc49c6bf1f4d",
     "inputWidgets": {},
     "title": ""
    }
   },
   "outputs": [],
   "execution_count": null
  },
  {
   "cell_type": "markdown",
   "source": [
    "## What are the average scored Answers in the top 10th most and lowest popular Technologies due to StackOverflow Professionals Survey based on StackOverflow Questions?"
   ],
   "metadata": {
    "application/vnd.databricks.v1+cell": {
     "showTitle": false,
     "cellMetadata": {},
     "nuid": "e922c50f-02b9-4895-9d5a-684f1748c040",
     "inputWidgets": {},
     "title": ""
    }
   }
  },
  {
   "cell_type": "code",
   "source": [
    "average_score_most_popular_answers_with_unique_tag_df = most_popular_answers_with_unique_tag_df \\\n",
    "    .groupBy('Tag') \\\n",
    "    .agg(round(avg('Score'), 1).alias('AverageScore'))\\\n",
    "    .sort(asc('AverageScore'))\n",
    "\n",
    "average_score_lowest_popular_answers_with_unique_tag_df = lowest_popular_answers_with_unique_tag_df \\\n",
    "    .groupBy('Tag') \\\n",
    "    .agg(round(avg('Score'), 1).alias('AverageScore'))\\\n",
    "    .sort(asc('AverageScore'))"
   ],
   "metadata": {
    "application/vnd.databricks.v1+cell": {
     "showTitle": false,
     "cellMetadata": {},
     "nuid": "6151eff6-6dcd-4ede-9575-42ae74b41147",
     "inputWidgets": {},
     "title": ""
    }
   },
   "outputs": [],
   "execution_count": null
  },
  {
   "cell_type": "markdown",
   "source": [
    "## What is the correction between the number of Accepted answers in the top 10th most and lowest popular Technologies due to StackOverflow Professionals Survey based on StackOverflow Questions? - PLOT"
   ],
   "metadata": {
    "collapsed": false
   }
  },
  {
   "cell_type": "code",
   "source": [
    "average_score_most_popular_answers_with_unique_tag_pandas_df = average_score_most_popular_answers_with_unique_tag_df.toPandas()\n",
    "\n",
    "fig, ax = plt.subplots(figsize=(10,10), facecolor='white', dpi=100)\n",
    "plt.barh(average_score_most_popular_answers_with_unique_tag_pandas_df['Tag'], average_score_most_popular_answers_with_unique_tag_pandas_df['AverageScore'])\n",
    "plt.ticklabel_format(axis='x', style='plain')\n",
    "\n",
    "plt.ylabel('Technologie')\n",
    "plt.xlabel('Ilość punktów', labelpad= 20.0)\n",
    "plt.title('Średnia ilość punktów za udzielone odpowiedzi w najpopularniejszych \\n technologiach według danych z portalu stackoverflow.com')\n",
    "plt.savefig('average_score_most_popular_answers.png', facecolor='white')\n",
    "plt.show()"
   ],
   "metadata": {
    "application/vnd.databricks.v1+cell": {
     "showTitle": false,
     "cellMetadata": {},
     "nuid": "6f3f3eee-9ff4-4faf-b425-7e04cb4eeec9",
     "inputWidgets": {},
     "title": ""
    }
   },
   "outputs": [],
   "execution_count": null
  },
  {
   "cell_type": "code",
   "source": [
    "average_score_lowest_popular_answers_with_unique_tag_pandas_df = average_score_lowest_popular_answers_with_unique_tag_df.toPandas()\n",
    "\n",
    "fig, ax = plt.subplots(figsize=(10, 10), facecolor='white', dpi=100)\n",
    "plt.barh(average_score_lowest_popular_answers_with_unique_tag_pandas_df['Tag'], average_score_lowest_popular_answers_with_unique_tag_pandas_df['AverageScore'])\n",
    "plt.ticklabel_format(axis='x', style='plain')\n",
    "\n",
    "plt.xticks(np.arange(0, 5, step=1))\n",
    "plt.ylabel('Technologie')\n",
    "plt.xlabel('Ilość punktów', labelpad= 20.0)\n",
    "plt.title('Średnia ilość punktów za udzielone odpowiedzi w najmniej popularnych \\n technologiach według danych z portalu stackoverflow.com')\n",
    "plt.savefig('average_score_lowest_popular_answers.png', facecolor='white')\n",
    "plt.show()"
   ],
   "metadata": {
    "application/vnd.databricks.v1+cell": {
     "showTitle": false,
     "cellMetadata": {},
     "nuid": "4e7b1e53-ce6d-4f2a-be4d-5a44c4f30f52",
     "inputWidgets": {},
     "title": ""
    }
   },
   "outputs": [],
   "execution_count": null
  },
  {
   "cell_type": "markdown",
   "source": [
    "## What are the highest-scored Accepted Answers in the top 10th most and lowest popular Technologies due to StackOverflow Professionals Survey based on StackOverflow Questions?"
   ],
   "metadata": {
    "collapsed": false,
    "application/vnd.databricks.v1+cell": {
     "showTitle": false,
     "cellMetadata": {},
     "nuid": "4a889c7c-d0d1-4572-9391-5315c565a716",
     "inputWidgets": {},
     "title": ""
    }
   }
  },
  {
   "cell_type": "code",
   "source": [
    "most_popular_accepted_answers_with_unique_tag_df \\\n",
    "    .groupBy('Tag') \\\n",
    "    .max('Score') \\\n",
    "    .sort(desc('max(_Score)')) \\\n",
    "    .show()\n",
    "\n",
    "lowest_popular_accepted_answers_with_unique_tag_df \\\n",
    "    .groupBy('Tag') \\\n",
    "    .max('Score') \\\n",
    "    .sort(desc('max(_Score)')) \\\n",
    "    .show()"
   ],
   "metadata": {
    "collapsed": false,
    "application/vnd.databricks.v1+cell": {
     "showTitle": false,
     "cellMetadata": {},
     "nuid": "992257f8-6f8b-45bc-8b69-d0b65f149427",
     "inputWidgets": {},
     "title": ""
    }
   },
   "outputs": [],
   "execution_count": null
  },
  {
   "cell_type": "markdown",
   "source": [
    "## What are the lowest-scored Accepted Answers in the top 10th most and lowest popular Technologies due to StackOverflow Professionals Survey based on StackOverflow Questions?"
   ],
   "metadata": {
    "collapsed": false,
    "application/vnd.databricks.v1+cell": {
     "showTitle": false,
     "cellMetadata": {},
     "nuid": "a4703876-284c-4328-bcca-59d8afeac9f1",
     "inputWidgets": {},
     "title": ""
    }
   }
  },
  {
   "cell_type": "code",
   "source": [
    "most_popular_accepted_answers_with_unique_tag_df \\\n",
    "    .groupBy('Tag') \\\n",
    "    .min('Score') \\\n",
    "    .sort(asc('min(_Score)')) \\\n",
    "    .show()\n",
    "\n",
    "lowest_popular_accepted_answers_with_unique_tag_df \\\n",
    "    .groupBy('Tag') \\\n",
    "    .min('Score') \\\n",
    "    .sort(asc('min(_Score)')) \\\n",
    "    .show()"
   ],
   "metadata": {
    "collapsed": false,
    "application/vnd.databricks.v1+cell": {
     "showTitle": false,
     "cellMetadata": {},
     "nuid": "aabcdc64-790f-42df-94e4-87edea6fd93b",
     "inputWidgets": {},
     "title": ""
    }
   },
   "outputs": [],
   "execution_count": null
  },
  {
   "cell_type": "markdown",
   "source": [
    "## What are the average scored Accepted Answers in the top 10th most and lowest popular Technologies due to StackOverflow Professionals Survey based on StackOverflow Questions?"
   ],
   "metadata": {
    "collapsed": false,
    "application/vnd.databricks.v1+cell": {
     "showTitle": false,
     "cellMetadata": {},
     "nuid": "dbdf0fa0-8b93-4c83-9dd1-b848de1e3e63",
     "inputWidgets": {},
     "title": ""
    }
   }
  },
  {
   "cell_type": "code",
   "source": [
    "most_popular_accepted_answers_with_unique_tag_df \\\n",
    "    .groupBy('Tag') \\\n",
    "    .agg(round(avg('Score'), 1).alias('AverageScore'))\\\n",
    "    .sort(desc('AverageScore')) \\\n",
    "    .show()\n",
    "\n",
    "lowest_popular_accepted_answers_with_unique_tag_df \\\n",
    "    .groupBy('Tag') \\\n",
    "    .agg(round(avg('Score'), 1).alias('AverageScore'))\\\n",
    "    .sort(desc('AverageScore')) \\\n",
    "    .show()"
   ],
   "metadata": {
    "collapsed": false,
    "application/vnd.databricks.v1+cell": {
     "showTitle": false,
     "cellMetadata": {},
     "nuid": "c94e9891-91b6-43e7-b64c-600a01f1fff2",
     "inputWidgets": {},
     "title": ""
    }
   },
   "outputs": [],
   "execution_count": null
  },
  {
   "cell_type": "markdown",
   "source": [
    "## How do the highest-scored Answers correlate with the number of views in the top 10th most and lowest popular Technologies due to StackOverflow Professionals Survey based on StackOverflow Questions?"
   ],
   "metadata": {
    "collapsed": false,
    "application/vnd.databricks.v1+cell": {
     "showTitle": false,
     "cellMetadata": {},
     "nuid": "c500a657-7302-4466-92a7-7894230ea57e",
     "inputWidgets": {},
     "title": ""
    }
   }
  },
  {
   "cell_type": "code",
   "source": [
    "most_popular_accepted_answers_with_unique_tag_df.alias('a').join(most_popular_questions_with_unique_tag_df.alias('q'), col('a.ParentId') == col('q.Id')) \\\n",
    "    .groupBy(col('a.Tag').alias('AcceptedAnswersTags')) \\\n",
    "    .agg(max('a.Score').alias('HighestScore'), first(col('q.ViewCount')).alias('CorrelatedQuestionViewCount'))\\\n",
    "    .sort(desc('HighestScore')) \\\n",
    "    .show()\n",
    "\n",
    "lowest_popular_accepted_answers_with_unique_tag_df.alias('a').join(lowest_popular_questions_with_unique_tag_df.alias('q'), col('a.ParentId') == col('q.Id')) \\\n",
    "    .groupBy(col('a.Tag').alias('AcceptedAnswersTags')) \\\n",
    "    .agg(max('a.Score').alias('HighestScore'), first(col('q.ViewCount')).alias('CorrelatedQuestionViewCount'))\\\n",
    "    .sort(desc('HighestScore')) \\\n",
    "    .show()"
   ],
   "metadata": {
    "collapsed": false,
    "application/vnd.databricks.v1+cell": {
     "showTitle": false,
     "cellMetadata": {},
     "nuid": "73569538-c11d-4c23-be90-0a04f562430b",
     "inputWidgets": {},
     "title": ""
    }
   },
   "outputs": [],
   "execution_count": null
  },
  {
   "cell_type": "markdown",
   "source": [
    "## How do the lowest-scored Answers correlate with the number of views in the top 10th most and lowest popular Technologies due to StackOverflow Professionals Survey based on StackOverflow Questions?"
   ],
   "metadata": {
    "collapsed": false,
    "application/vnd.databricks.v1+cell": {
     "showTitle": false,
     "cellMetadata": {},
     "nuid": "4003a174-0b72-42f1-8144-1d054d1b7ad7",
     "inputWidgets": {},
     "title": ""
    }
   }
  },
  {
   "cell_type": "code",
   "source": [
    "most_popular_accepted_answers_with_unique_tag_df.alias('a').join(most_popular_questions_with_unique_tag_df.alias('q'), col('a.ParentId') == col('q.Id')) \\\n",
    "    .groupBy(col('a.Tag').alias('AcceptedAnswersTags')) \\\n",
    "    .agg(min('a.Score').alias('LowestScore'), first(col('q.ViewCount')).alias('CorrelatedQuestionViewCount'))\\\n",
    "    .sort(asc('LowestScore')) \\\n",
    "    .show()\n",
    "\n",
    "\n",
    "lowest_popular_accepted_answers_with_unique_tag_df.alias('a').join(lowest_popular_questions_with_unique_tag_df.alias('q'), col('a.ParentId') == col('q.Id')) \\\n",
    "    .groupBy(col('a.Tag').alias('AcceptedAnswersTags')) \\\n",
    "    .agg(min('a.Score').alias('LowestScore'), first(col('q.ViewCount')).alias('CorrelatedQuestionViewCount'))\\\n",
    "    .sort(asc('LowestScore')) \\\n",
    "    .show()"
   ],
   "metadata": {
    "collapsed": false,
    "application/vnd.databricks.v1+cell": {
     "showTitle": false,
     "cellMetadata": {},
     "nuid": "0266f38c-086c-4180-a0a8-0c74869d4d1d",
     "inputWidgets": {},
     "title": ""
    }
   },
   "outputs": [],
   "execution_count": null
  },
  {
   "cell_type": "markdown",
   "source": [
    "## What is the average score  Accepted Answers in the top 10th most and lowest popular Technologies due to StackOverflow Professionals Survey based on StackOverflow Questions?"
   ],
   "metadata": {
    "collapsed": false,
    "application/vnd.databricks.v1+cell": {
     "showTitle": false,
     "cellMetadata": {},
     "nuid": "2e77cc13-0b8c-4df0-96d0-15e16a34561e",
     "inputWidgets": {},
     "title": ""
    }
   }
  },
  {
   "cell_type": "code",
   "source": [
    "most_popular_accepted_answers_with_unique_tag_df.alias('a').join(most_popular_questions_with_unique_tag_df.alias('q'), col('a.ParentId') == col('q.Id')) \\\n",
    "    .groupBy(col('a.Tag').alias('AcceptedAnswersTags')) \\\n",
    "    .agg(round(avg('a.Score'), 1).alias('AverageScore'), first(col('q.ViewCount')).alias('CorrelatedQuestionViewCount'))\\\n",
    "    .sort(desc('AverageScore')) \\\n",
    "    .show()\n",
    "\n",
    "\n",
    "lowest_popular_accepted_answers_with_unique_tag_df.alias('a').join(lowest_popular_questions_with_unique_tag_df.alias('q'), col('a.ParentId') == col('q.Id')) \\\n",
    "    .groupBy(col('a.Tag').alias('AcceptedAnswersTags')) \\\n",
    "    .agg(round(avg('a.Score'), 1).alias('AverageScore'), first(col('q.ViewCount')).alias('CorrelatedQuestionViewCount'))\\\n",
    "    .sort(desc('AverageScore')) \\\n",
    "    .show()"
   ],
   "metadata": {
    "collapsed": false,
    "application/vnd.databricks.v1+cell": {
     "showTitle": false,
     "cellMetadata": {},
     "nuid": "91976ed1-80d4-4594-961b-7ca5c9ec4bcc",
     "inputWidgets": {},
     "title": ""
    }
   },
   "outputs": [],
   "execution_count": null
  },
  {
   "cell_type": "markdown",
   "source": [
    "## What is the correlation between Users in the top 10th most and lowest popular Technologies due to StackOverflow Professionals Survey based on StackOverflow Questions?"
   ],
   "metadata": {
    "collapsed": false,
    "application/vnd.databricks.v1+cell": {
     "showTitle": false,
     "cellMetadata": {},
     "nuid": "7d17b3d5-ffa4-4fc8-a7bf-1031a8a39fc4",
     "inputWidgets": {},
     "title": ""
    }
   }
  },
  {
   "cell_type": "code",
   "source": [
    "users_questions_with_most_popular_tags_df \\\n",
    "    .groupBy(col('Tag')) \\\n",
    "    .count() \\\n",
    "    .sort(desc('count')) \\\n",
    "    .show()\n",
    "\n",
    "users_questions_with_lowest_popular_tags_df \\\n",
    "    .groupBy(col('Tag')) \\\n",
    "    .count() \\\n",
    "    .sort(desc('count')) \\\n",
    "    .show()"
   ],
   "metadata": {
    "collapsed": false,
    "application/vnd.databricks.v1+cell": {
     "showTitle": false,
     "cellMetadata": {},
     "nuid": "75fdef50-6a4e-4666-b87d-f8c72cf73517",
     "inputWidgets": {},
     "title": ""
    }
   },
   "outputs": [],
   "execution_count": null
  },
  {
   "cell_type": "markdown",
   "source": [
    "## What is the correlation between Users through the years in the top 10th most and lowest popular Technologies due to StackOverflow Professionals Survey based on StackOverflow Questions?"
   ],
   "metadata": {
    "application/vnd.databricks.v1+cell": {
     "showTitle": false,
     "cellMetadata": {},
     "nuid": "06c432d8-97e7-413f-b379-378b3c012be4",
     "inputWidgets": {},
     "title": ""
    }
   }
  },
  {
   "cell_type": "code",
   "source": [
    "filter_based_duplicated_column = ['Id', 'Tag']\n",
    "\n",
    "number_of_unique_users_involved_in_questions_and_answers_through_the_years_in_most_popular_tags_df = users_questions_and_answers_with_most_popular_tags_df \\\n",
    "    .withColumn('Filter_Id_Tag', array_sort(array(*filter_based_duplicated_column))) \\\n",
    "    .drop_duplicates(['Filter_Id_Tag']) \\\n",
    "    .drop('Filter_Id_Tag') \\\n",
    "    .withColumn('CreationYear', year(col('CreationDate'))) \\\n",
    "    .groupBy(col('Tag'), col('CreationYear')) \\\n",
    "    .count() \\\n",
    "    .sort(desc('CreationYear'), desc('count'))\n",
    "\n",
    "print('ALL QUESTIONS AND ANSWERS UNIQUE USERS THROUGH THE YEARS IN MOST POPULAR TECHNOLOGIES')\n",
    "number_of_unique_users_involved_in_questions_and_answers_through_the_years_in_most_popular_tags_df.show()\n",
    "\n",
    "\n",
    "print('ALL QUESTIONS AND ANSWERS UNIQUE USERS THROUGH THE YEARS IN LOWEST POPULAR TECHNOLOGIES')\n",
    "number_of_unique_users_involved_in_questions_and_answers_through_the_years_in_lowest_popular_tags_df = users_questions_and_answers_with_lowest_popular_tags_df \\\n",
    "    .withColumn('Filter_Id_Tag', array_sort(array(*filter_based_duplicated_column))) \\\n",
    "    .drop_duplicates(['Filter_Id_Tag']) \\\n",
    "    .drop('Filter_Id_Tag') \\\n",
    "    .withColumn('CreationYear', year(col('CreationDate'))) \\\n",
    "    .groupBy(col('Tag'), col('CreationYear')) \\\n",
    "    .count() \\\n",
    "    .sort(desc('CreationYear'), desc('count'))\n",
    "\n",
    "print('ALL QUESTIONS AND ANSWERS UNIQUE USERS IN LOWEST POPULAR TECHNOLOGIES')\n",
    "number_of_unique_users_involved_in_questions_and_answers_through_the_years_in_lowest_popular_tags_df.show()\n",
    "\n"
   ],
   "metadata": {
    "application/vnd.databricks.v1+cell": {
     "showTitle": false,
     "cellMetadata": {},
     "nuid": "954776d9-5214-4ede-bdaa-69e2ad600e8c",
     "inputWidgets": {},
     "title": ""
    }
   },
   "outputs": [],
   "execution_count": null
  },
  {
   "cell_type": "markdown",
   "source": [
    "## What is the correlation between Users through the years in the top 10th most and lowest popular Technologies due to StackOverflow Professionals Survey based on StackOverflow Questions? - PLOT"
   ],
   "metadata": {
    "collapsed": false
   }
  },
  {
   "cell_type": "code",
   "source": [
    "top_10_the_most_popular_technologies_based_on_the_survey_posts = ['<javascript>', '<html>', '<sql>', '<python>', '<typescript>', '<java>', '<c#>', '<bash>', '<php>', '<c++>']\n",
    "\n",
    "number_of_unique_users_involved_in_questions_and_answers_through_the_years_in_most_popular_tags_pandas_df = number_of_unique_users_involved_in_questions_and_answers_through_the_years_in_most_popular_tags_df.toPandas()\n",
    "\n",
    "fig, ax = plt.subplots(figsize=(10, 10), facecolor='white', dpi=100)\n",
    "plt.ticklabel_format(axis='y', style='plain')\n",
    "\n",
    "# Should be done it by for each - refactor\n",
    "ax.plot(number_of_unique_users_involved_in_questions_and_answers_through_the_years_in_most_popular_tags_pandas_df[number_of_unique_users_involved_in_questions_and_answers_through_the_years_in_most_popular_tags_pandas_df['Tag'] == '<javascript>']['CreationYear'], number_of_unique_users_involved_in_questions_and_answers_through_the_years_in_most_popular_tags_pandas_df[number_of_unique_users_involved_in_questions_and_answers_through_the_years_in_most_popular_tags_pandas_df['Tag'] == '<javascript>']['count'], label='javascript', color='blue', marker='v')\n",
    "\n",
    "ax.plot(number_of_unique_users_involved_in_questions_and_answers_through_the_years_in_most_popular_tags_pandas_df[number_of_unique_users_involved_in_questions_and_answers_through_the_years_in_most_popular_tags_pandas_df['Tag'] == '<html>']['CreationYear'], number_of_unique_users_involved_in_questions_and_answers_through_the_years_in_most_popular_tags_pandas_df[number_of_unique_users_involved_in_questions_and_answers_through_the_years_in_most_popular_tags_pandas_df['Tag'] == '<html>']['count'], label='html', color='green', marker='v')\n",
    "\n",
    "ax.plot(number_of_unique_users_involved_in_questions_and_answers_through_the_years_in_most_popular_tags_pandas_df[number_of_unique_users_involved_in_questions_and_answers_through_the_years_in_most_popular_tags_pandas_df['Tag'] == '<sql>']['CreationYear'], number_of_unique_users_involved_in_questions_and_answers_through_the_years_in_most_popular_tags_pandas_df[number_of_unique_users_involved_in_questions_and_answers_through_the_years_in_most_popular_tags_pandas_df['Tag'] == '<sql>']['count'], label='sql', color='red', marker='v')\n",
    "\n",
    "ax.plot(number_of_unique_users_involved_in_questions_and_answers_through_the_years_in_most_popular_tags_pandas_df[number_of_unique_users_involved_in_questions_and_answers_through_the_years_in_most_popular_tags_pandas_df['Tag'] == '<python>']['CreationYear'], number_of_unique_users_involved_in_questions_and_answers_through_the_years_in_most_popular_tags_pandas_df[number_of_unique_users_involved_in_questions_and_answers_through_the_years_in_most_popular_tags_pandas_df['Tag'] == '<python>']['count'], label='python', color='cyan', marker='v')\n",
    "\n",
    "ax.plot(number_of_unique_users_involved_in_questions_and_answers_through_the_years_in_most_popular_tags_pandas_df[number_of_unique_users_involved_in_questions_and_answers_through_the_years_in_most_popular_tags_pandas_df['Tag'] == '<typescript>']['CreationYear'], number_of_unique_users_involved_in_questions_and_answers_through_the_years_in_most_popular_tags_pandas_df[number_of_unique_users_involved_in_questions_and_answers_through_the_years_in_most_popular_tags_pandas_df['Tag'] == '<typescript>']['count'], label='typescript', color='magenta', marker='v')\n",
    "\n",
    "ax.plot(number_of_unique_users_involved_in_questions_and_answers_through_the_years_in_most_popular_tags_pandas_df[number_of_unique_users_involved_in_questions_and_answers_through_the_years_in_most_popular_tags_pandas_df['Tag'] == '<java>']['CreationYear'], number_of_unique_users_involved_in_questions_and_answers_through_the_years_in_most_popular_tags_pandas_df[number_of_unique_users_involved_in_questions_and_answers_through_the_years_in_most_popular_tags_pandas_df['Tag'] == '<java>']['count'], label='java', color='yellow', marker='v')\n",
    "\n",
    "ax.plot(number_of_unique_users_involved_in_questions_and_answers_through_the_years_in_most_popular_tags_pandas_df[number_of_unique_users_involved_in_questions_and_answers_through_the_years_in_most_popular_tags_pandas_df['Tag'] == '<c#>']['CreationYear'], number_of_unique_users_involved_in_questions_and_answers_through_the_years_in_most_popular_tags_pandas_df[number_of_unique_users_involved_in_questions_and_answers_through_the_years_in_most_popular_tags_pandas_df['Tag'] == '<c#>']['count'], label='c#', color='black', marker='v')\n",
    "\n",
    "ax.plot(number_of_unique_users_involved_in_questions_and_answers_through_the_years_in_most_popular_tags_pandas_df[number_of_unique_users_involved_in_questions_and_answers_through_the_years_in_most_popular_tags_pandas_df['Tag'] == '<bash>']['CreationYear'], number_of_unique_users_involved_in_questions_and_answers_through_the_years_in_most_popular_tags_pandas_df[number_of_unique_users_involved_in_questions_and_answers_through_the_years_in_most_popular_tags_pandas_df['Tag'] == '<bash>']['count'], label='bash', color='orange', marker='v')\n",
    "\n",
    "ax.plot(number_of_unique_users_involved_in_questions_and_answers_through_the_years_in_most_popular_tags_pandas_df[number_of_unique_users_involved_in_questions_and_answers_through_the_years_in_most_popular_tags_pandas_df['Tag'] == '<php>']['CreationYear'], number_of_unique_users_involved_in_questions_and_answers_through_the_years_in_most_popular_tags_pandas_df[number_of_unique_users_involved_in_questions_and_answers_through_the_years_in_most_popular_tags_pandas_df['Tag'] == '<php>']['count'], label='php', color='gray', marker='v')\n",
    "\n",
    "ax.plot(number_of_unique_users_involved_in_questions_and_answers_through_the_years_in_most_popular_tags_pandas_df[number_of_unique_users_involved_in_questions_and_answers_through_the_years_in_most_popular_tags_pandas_df['Tag'] == '<c++>']['CreationYear'], number_of_unique_users_involved_in_questions_and_answers_through_the_years_in_most_popular_tags_pandas_df[number_of_unique_users_involved_in_questions_and_answers_through_the_years_in_most_popular_tags_pandas_df['Tag'] == '<c++>']['count'], label='c++', color='brown', marker='v')\n",
    "\n",
    "ax.set_xlabel('Poszczególne lata')\n",
    "ax.set_ylabel('Ilość użytkowników')\n",
    "plt.title('Sumaryczna ilość użytkowników w najpopularniejszych technologiach \\n w ciągu ostatnich lat według danych z portalu stackoverflow.com')\n",
    "ax.legend(loc='center left', bbox_to_anchor=(1, 0.5))\n",
    "plt.savefig('number_of_unique_users_involved_in_questions_and_answers_through_the_years_in_most_popular_tags.png', facecolor='white')\n",
    "plt.show()"
   ],
   "metadata": {
    "collapsed": false,
    "application/vnd.databricks.v1+cell": {
     "showTitle": false,
     "cellMetadata": {},
     "nuid": "0648a231-823d-4721-978f-9910c64ac548",
     "inputWidgets": {},
     "title": ""
    }
   },
   "outputs": [],
   "execution_count": null
  },
  {
   "cell_type": "code",
   "source": [
    "top_10_the_lowest_popular_technologies_based_on_the_survey_posts = ['<crystal-lang>', '<apl>', '<sas>', '<ocaml>', '<cobol>', '<fortran>', '<erlang>', '<julia>', '<f#>', '<lisp>']\n",
    "\n",
    "number_of_unique_users_involved_in_questions_and_answers_through_the_years_in_lowest_popular_tags_pandas_df = number_of_unique_users_involved_in_questions_and_answers_through_the_years_in_lowest_popular_tags_df.toPandas()\n",
    "\n",
    "fig, ax = plt.subplots(figsize=(10, 10), facecolor='white', dpi=100)\n",
    "plt.ticklabel_format(axis='y', style='plain')\n",
    "\n",
    "# Should be done it by for each - refactor\n",
    "ax.plot(number_of_unique_users_involved_in_questions_and_answers_through_the_years_in_lowest_popular_tags_pandas_df[number_of_unique_users_involved_in_questions_and_answers_through_the_years_in_lowest_popular_tags_pandas_df['Tag'] == '<crystal-lang>']['CreationYear'], number_of_unique_users_involved_in_questions_and_answers_through_the_years_in_lowest_popular_tags_pandas_df[number_of_unique_users_involved_in_questions_and_answers_through_the_years_in_lowest_popular_tags_pandas_df['Tag'] == '<crystal-lang>']['count'], label='crystal-lang', color='mediumblue', marker='v')\n",
    "\n",
    "ax.plot(number_of_unique_users_involved_in_questions_and_answers_through_the_years_in_lowest_popular_tags_pandas_df[number_of_unique_users_involved_in_questions_and_answers_through_the_years_in_lowest_popular_tags_pandas_df['Tag'] == '<apl>']['CreationYear'], number_of_unique_users_involved_in_questions_and_answers_through_the_years_in_lowest_popular_tags_pandas_df[number_of_unique_users_involved_in_questions_and_answers_through_the_years_in_lowest_popular_tags_pandas_df['Tag'] == '<apl>']['count'], label='apl', color='darkgreen', marker='v')\n",
    "\n",
    "ax.plot(number_of_unique_users_involved_in_questions_and_answers_through_the_years_in_lowest_popular_tags_pandas_df[number_of_unique_users_involved_in_questions_and_answers_through_the_years_in_lowest_popular_tags_pandas_df['Tag'] == '<sas>']['CreationYear'], number_of_unique_users_involved_in_questions_and_answers_through_the_years_in_lowest_popular_tags_pandas_df[number_of_unique_users_involved_in_questions_and_answers_through_the_years_in_lowest_popular_tags_pandas_df['Tag'] == '<sas>']['count'], label='sas', color='tomato', marker='v')\n",
    "\n",
    "ax.plot(number_of_unique_users_involved_in_questions_and_answers_through_the_years_in_lowest_popular_tags_pandas_df[number_of_unique_users_involved_in_questions_and_answers_through_the_years_in_lowest_popular_tags_pandas_df['Tag'] == '<ocaml>']['CreationYear'], number_of_unique_users_involved_in_questions_and_answers_through_the_years_in_lowest_popular_tags_pandas_df[number_of_unique_users_involved_in_questions_and_answers_through_the_years_in_lowest_popular_tags_pandas_df['Tag'] == '<ocaml>']['count'], label='ocaml', color='darkcyan', marker='v')\n",
    "\n",
    "ax.plot(number_of_unique_users_involved_in_questions_and_answers_through_the_years_in_lowest_popular_tags_pandas_df[number_of_unique_users_involved_in_questions_and_answers_through_the_years_in_lowest_popular_tags_pandas_df['Tag'] == '<cobol>']['CreationYear'], number_of_unique_users_involved_in_questions_and_answers_through_the_years_in_lowest_popular_tags_pandas_df[number_of_unique_users_involved_in_questions_and_answers_through_the_years_in_lowest_popular_tags_pandas_df['Tag'] == '<cobol>']['count'], label='cobol', color='pink', marker='v')\n",
    "\n",
    "ax.plot(number_of_unique_users_involved_in_questions_and_answers_through_the_years_in_lowest_popular_tags_pandas_df[number_of_unique_users_involved_in_questions_and_answers_through_the_years_in_lowest_popular_tags_pandas_df['Tag'] == '<fortran>']['CreationYear'], number_of_unique_users_involved_in_questions_and_answers_through_the_years_in_lowest_popular_tags_pandas_df[number_of_unique_users_involved_in_questions_and_answers_through_the_years_in_lowest_popular_tags_pandas_df['Tag'] == '<fortran>']['count'], label='fortran', color='gold', marker='v')\n",
    "\n",
    "ax.plot(number_of_unique_users_involved_in_questions_and_answers_through_the_years_in_lowest_popular_tags_pandas_df[number_of_unique_users_involved_in_questions_and_answers_through_the_years_in_lowest_popular_tags_pandas_df['Tag'] == '<erlang>']['CreationYear'], number_of_unique_users_involved_in_questions_and_answers_through_the_years_in_lowest_popular_tags_pandas_df[number_of_unique_users_involved_in_questions_and_answers_through_the_years_in_lowest_popular_tags_pandas_df['Tag'] == '<erlang>']['count'], label='erlang', color='dimgray', marker='v')\n",
    "\n",
    "ax.plot(number_of_unique_users_involved_in_questions_and_answers_through_the_years_in_lowest_popular_tags_pandas_df[number_of_unique_users_involved_in_questions_and_answers_through_the_years_in_lowest_popular_tags_pandas_df['Tag'] == '<julia>']['CreationYear'], number_of_unique_users_involved_in_questions_and_answers_through_the_years_in_lowest_popular_tags_pandas_df[number_of_unique_users_involved_in_questions_and_answers_through_the_years_in_lowest_popular_tags_pandas_df['Tag'] == '<julia>']['count'], label='julia', color='darkorange', marker='v')\n",
    "\n",
    "ax.plot(number_of_unique_users_involved_in_questions_and_answers_through_the_years_in_lowest_popular_tags_pandas_df[number_of_unique_users_involved_in_questions_and_answers_through_the_years_in_lowest_popular_tags_pandas_df['Tag'] == '<f#>']['CreationYear'], number_of_unique_users_involved_in_questions_and_answers_through_the_years_in_lowest_popular_tags_pandas_df[number_of_unique_users_involved_in_questions_and_answers_through_the_years_in_lowest_popular_tags_pandas_df['Tag'] == '<f#>']['count'], label='f#', color='lightgray', marker='v')\n",
    "\n",
    "ax.plot(number_of_unique_users_involved_in_questions_and_answers_through_the_years_in_lowest_popular_tags_pandas_df[number_of_unique_users_involved_in_questions_and_answers_through_the_years_in_lowest_popular_tags_pandas_df['Tag'] == '<lisp>']['CreationYear'], number_of_unique_users_involved_in_questions_and_answers_through_the_years_in_lowest_popular_tags_pandas_df[number_of_unique_users_involved_in_questions_and_answers_through_the_years_in_lowest_popular_tags_pandas_df['Tag'] == '<lisp>']['count'], label='lisp', color='firebrick', marker='v')\n",
    "\n",
    "ax.set_xlabel('Poszczególne lata')\n",
    "ax.set_ylabel('Ilość użytkowników')\n",
    "plt.title('Sumaryczna ilość użytkowników w najmniej popularnych technologiach \\n w ciągu ostatnich lat według danych z portalu stackoverflow.com')\n",
    "ax.legend(loc='center left', bbox_to_anchor=(1, 0.5))\n",
    "plt.savefig('number_of_unique_users_involved_in_questions_and_answers_through_the_years_in_lowest_popular_tags.png', facecolor='white')\n",
    "plt.show()"
   ],
   "metadata": {
    "collapsed": false,
    "application/vnd.databricks.v1+cell": {
     "showTitle": false,
     "cellMetadata": {},
     "nuid": "e671563a-9c79-4c05-b6af-a1a7ee0047b0",
     "inputWidgets": {},
     "title": ""
    }
   },
   "outputs": [],
   "execution_count": null
  },
  {
   "cell_type": "markdown",
   "source": [
    "## What is the correlation between Users in the top 10th most and lowest popular Technologies due to StackOverflow Professionals Survey based on StackOverflow Accepted Answers?"
   ],
   "metadata": {
    "application/vnd.databricks.v1+cell": {
     "showTitle": false,
     "cellMetadata": {},
     "nuid": "6c005a3e-dacb-47b4-bcd9-0f9c2974d861",
     "inputWidgets": {},
     "title": ""
    }
   }
  },
  {
   "cell_type": "code",
   "source": [
    "users_accepted_answers_with_most_popular_tags_df \\\n",
    "    .groupBy(col('Tag')) \\\n",
    "    .count() \\\n",
    "    .sort(desc('count')) \\\n",
    "    .show()\n",
    "\n",
    "users_accepted_answers_with_lowest_popular_tags_df \\\n",
    "    .groupBy(col('Tag')) \\\n",
    "    .count() \\\n",
    "    .sort(desc('count')) \\\n",
    "    .show()"
   ],
   "metadata": {
    "application/vnd.databricks.v1+cell": {
     "showTitle": false,
     "cellMetadata": {},
     "nuid": "39de1f2f-efe2-4496-beb2-2ec3a3675db0",
     "inputWidgets": {},
     "title": ""
    }
   },
   "outputs": [],
   "execution_count": null
  },
  {
   "cell_type": "markdown",
   "source": [
    "## What is the correlation between Users through the years in the top 10th most and lowest popular Technologies due to StackOverflow Professionals Survey based on StackOverflow Accepted Answers?"
   ],
   "metadata": {
    "application/vnd.databricks.v1+cell": {
     "showTitle": false,
     "cellMetadata": {},
     "nuid": "a9607e66-b887-45cc-9174-fe680d6033d9",
     "inputWidgets": {},
     "title": ""
    }
   }
  },
  {
   "cell_type": "code",
   "source": [
    "users_accepted_answers_with_most_popular_tags_df \\\n",
    "    .withColumn('CreationYear', year(col('CreationDate'))) \\\n",
    "    .groupBy(col('Tag'), col('CreationYear')) \\\n",
    "    .count() \\\n",
    "    .sort(desc('CreationYear'), desc('count')) \\\n",
    "    .show()\n",
    "\n",
    "users_accepted_answers_with_lowest_popular_tags_df \\\n",
    "    .withColumn('CreationYear', year(col('CreationDate'))) \\\n",
    "    .groupBy(col('Tag'), col('CreationYear')) \\\n",
    "    .count() \\\n",
    "    .sort(desc('CreationYear'), desc('count')) \\\n",
    "    .show()"
   ],
   "metadata": {
    "application/vnd.databricks.v1+cell": {
     "showTitle": false,
     "cellMetadata": {},
     "nuid": "38803b64-8dc3-4035-9519-9d5386be08bf",
     "inputWidgets": {},
     "title": ""
    }
   },
   "outputs": [],
   "execution_count": null
  },
  {
   "cell_type": "code",
   "source": [
    "filter_based_duplicated_column = ['Id', 'Tag']\n",
    "\n",
    "number_of_unique_users_involved_in_questions_and_answers_in_most_popular_tags_df = users_questions_and_answers_with_most_popular_tags_df \\\n",
    "    .withColumn('Filter_Id_Tag', array_sort(array(*filter_based_duplicated_column))) \\\n",
    "    .drop_duplicates(['Filter_Id_Tag']) \\\n",
    "    .drop('Filter_Id_Tag') \\\n",
    "    .groupBy(col('Tag')) \\\n",
    "    .count() \\\n",
    "    .sort(asc('count'))\n",
    "\n",
    "number_of_unique_users_involved_in_questions_and_answers_in_lowest_popular_tags_df = users_questions_and_answers_with_lowest_popular_tags_df \\\n",
    "    .withColumn('Filter_Id_Tag', array_sort(array(*filter_based_duplicated_column))) \\\n",
    "    .drop_duplicates(['Filter_Id_Tag']) \\\n",
    "    .drop('Filter_Id_Tag') \\\n",
    "    .groupBy(col('Tag')) \\\n",
    "    .count() \\\n",
    "    .sort(asc('count'))"
   ],
   "metadata": {
    "application/vnd.databricks.v1+cell": {
     "showTitle": false,
     "cellMetadata": {},
     "nuid": "37a66e80-81d3-4bb8-aa89-b5892a2b098d",
     "inputWidgets": {},
     "title": ""
    }
   },
   "outputs": [],
   "execution_count": null
  },
  {
   "cell_type": "markdown",
   "source": [
    "## What is the correlation between Users through the years in the top 10th most and lowest popular Technologies due to StackOverflow Professionals Survey based on StackOverflow Accepted Answers? - PLOT"
   ],
   "metadata": {
    "collapsed": false
   }
  },
  {
   "cell_type": "code",
   "source": [
    "number_of_unique_users_involved_in_questions_and_answers_in_most_popular_tags_pandas_df = number_of_unique_users_involved_in_questions_and_answers_in_most_popular_tags_df.toPandas()\n",
    "\n",
    "fig, ax = plt.subplots(figsize=(10,10), facecolor='white', dpi=100)\n",
    "plt.barh(number_of_unique_users_involved_in_questions_and_answers_in_most_popular_tags_pandas_df['Tag'], number_of_unique_users_involved_in_questions_and_answers_in_most_popular_tags_pandas_df['count'])\n",
    "plt.ticklabel_format(axis='x', style='plain')\n",
    "\n",
    "plt.ylabel('Technologie')\n",
    "plt.xlabel('Ilość unikalnych użytkowników', labelpad= 20.0)\n",
    "plt.title('Ilość zaangażowanych użytkowników w najpopularniejszych \\n technologiach według danych z portalu stackoverflow.com ')\n",
    "plt.savefig('number_of_unique_users_involved_in_questions_and_answers_in_most_popular_tags.png', facecolor='white')\n",
    "plt.show()"
   ],
   "metadata": {
    "application/vnd.databricks.v1+cell": {
     "showTitle": false,
     "cellMetadata": {},
     "nuid": "a7239629-7329-4c8d-b249-df7e955f8979",
     "inputWidgets": {},
     "title": ""
    }
   },
   "outputs": [],
   "execution_count": null
  },
  {
   "cell_type": "code",
   "source": [
    "number_of_unique_users_involved_in_questions_and_answers_in_lowest_popular_tags_df_pandas_df = number_of_unique_users_involved_in_questions_and_answers_in_lowest_popular_tags_df.toPandas()\n",
    "\n",
    "fig, ax = plt.subplots(figsize=(10,10), facecolor='white', dpi=100)\n",
    "plt.barh(number_of_unique_users_involved_in_questions_and_answers_in_lowest_popular_tags_df_pandas_df['Tag'], number_of_unique_users_involved_in_questions_and_answers_in_lowest_popular_tags_df_pandas_df['count'])\n",
    "plt.ticklabel_format(axis='x', style='plain')\n",
    "\n",
    "plt.ylabel('Technologie')\n",
    "plt.xlabel('Ilość unikalnych użytkowników', labelpad= 20.0)\n",
    "plt.title('Ilość zaangażowanych użytkowników w najmniej popularnych \\n technologiach według danych z portalu stackoverflow.com ')\n",
    "plt.savefig('number_of_unique_users_involved_in_questions_and_answers_in_lowest_popular_tags.png', facecolor='white')\n",
    "plt.show()"
   ],
   "metadata": {
    "application/vnd.databricks.v1+cell": {
     "showTitle": false,
     "cellMetadata": {},
     "nuid": "a45919c6-646e-458b-81c1-ed230a642bcf",
     "inputWidgets": {},
     "title": ""
    }
   },
   "outputs": [],
   "execution_count": null
  },
  {
   "cell_type": "markdown",
   "source": [
    "## What is the correlation between Users Reputation sum in the top 10th most and lowest popular Technologies due to StackOverflow Professionals Survey based on StackOverflow Questions?"
   ],
   "metadata": {
    "collapsed": false,
    "application/vnd.databricks.v1+cell": {
     "showTitle": false,
     "cellMetadata": {},
     "nuid": "3ecb1f53-9375-41c8-8e59-aac0a2dd7bad",
     "inputWidgets": {},
     "title": ""
    }
   }
  },
  {
   "cell_type": "code",
   "source": [
    "users_questions_with_most_popular_tags_df \\\n",
    "    .groupBy(col('Tag')) \\\n",
    "    .count() \\\n",
    "    .sort(desc('count')) \\\n",
    "    .show()\n",
    "\n",
    "users_questions_with_lowest_popular_tags_df \\\n",
    "    .groupBy(col('Tag')) \\\n",
    "    .count() \\\n",
    "    .sort(desc('count')) \\\n",
    "    .show()"
   ],
   "metadata": {
    "collapsed": false,
    "application/vnd.databricks.v1+cell": {
     "showTitle": false,
     "cellMetadata": {},
     "nuid": "cb965882-30c4-495f-b566-c2fc3c727e67",
     "inputWidgets": {},
     "title": ""
    }
   },
   "outputs": [],
   "execution_count": null
  },
  {
   "cell_type": "markdown",
   "source": [
    "## What is the correlation between Users Reputation sum in the top 10th most and lowest popular Technologies due to StackOverflow Professionals Survey based on StackOverflow Questions?"
   ],
   "metadata": {
    "application/vnd.databricks.v1+cell": {
     "showTitle": false,
     "cellMetadata": {},
     "nuid": "0d24e89d-3592-4780-9328-1e14febc552c",
     "inputWidgets": {},
     "title": ""
    }
   }
  },
  {
   "cell_type": "code",
   "source": [
    "users_questions_with_most_popular_tags_df \\\n",
    "    .groupBy(col('Tag')) \\\n",
    "    .agg(sum(col('Reputation')).cast(LongType()).alias('SumOfUsersReputations')) \\\n",
    "    .sort(desc('SumOfUsersReputations')) \\\n",
    "    .show()\n",
    "\n",
    "users_questions_with_lowest_popular_tags_df \\\n",
    "    .groupBy(col('Tag')) \\\n",
    "    .agg(sum(col('Reputation')).cast(LongType()).alias('SumOfUsersReputations')) \\\n",
    "    .sort(desc('SumOfUsersReputations')) \\\n",
    "    .show()"
   ],
   "metadata": {
    "application/vnd.databricks.v1+cell": {
     "showTitle": false,
     "cellMetadata": {},
     "nuid": "9463e1ad-aff2-45e2-847b-8ebb4df5d805",
     "inputWidgets": {},
     "title": ""
    }
   },
   "outputs": [],
   "execution_count": null
  },
  {
   "cell_type": "markdown",
   "source": [
    "## What is the correlation between Users Reputation sum through the years in the top 10th most and lowest popular Technologies due to StackOverflow Professionals Survey based on StackOverflow Questions?"
   ],
   "metadata": {
    "collapsed": false,
    "application/vnd.databricks.v1+cell": {
     "showTitle": false,
     "cellMetadata": {},
     "nuid": "e397a09b-6d11-49aa-866c-00efb5ac9eb6",
     "inputWidgets": {},
     "title": ""
    }
   }
  },
  {
   "cell_type": "code",
   "source": [
    "users_questions_with_most_popular_tags_df \\\n",
    "    .withColumn('CreationYear', year(col('CreationDate'))) \\\n",
    "    .groupBy(col('Tag'), col('CreationYear')) \\\n",
    "    .agg(sum(col('Reputation')).cast(LongType()).alias('SumOfUsersReputations')) \\\n",
    "    .sort(desc('CreationYear'), desc('SumOfUsersReputations')) \\\n",
    "    .show()\n",
    "\n",
    "users_questions_with_lowest_popular_tags_df \\\n",
    "    .withColumn('CreationYear', year(col('CreationDate'))) \\\n",
    "    .groupBy(col('Tag'), col('CreationYear')) \\\n",
    "    .agg(sum(col('Reputation')).cast(LongType()).alias('SumOfUsersReputations')) \\\n",
    "    .sort(desc('CreationYear'), desc('SumOfUsersReputations')) \\\n",
    "    .show()"
   ],
   "metadata": {
    "collapsed": false,
    "application/vnd.databricks.v1+cell": {
     "showTitle": false,
     "cellMetadata": {},
     "nuid": "30f88c2f-b75c-4a4e-80ac-f75b0a3dd23e",
     "inputWidgets": {},
     "title": ""
    }
   },
   "outputs": [],
   "execution_count": null
  },
  {
   "cell_type": "markdown",
   "source": [
    "## What is the correlation between Users Reputation sum in the top 10th most and lowest popular Technologies due to StackOverflow Professionals Survey based on StackOverflow Accepted Answers?"
   ],
   "metadata": {
    "application/vnd.databricks.v1+cell": {
     "showTitle": false,
     "cellMetadata": {},
     "nuid": "9075c807-246f-4e91-97e8-b648a6b2de00",
     "inputWidgets": {},
     "title": ""
    }
   }
  },
  {
   "cell_type": "code",
   "source": [
    "users_accepted_answers_with_most_popular_tags_df \\\n",
    "    .groupBy(col('Tag')) \\\n",
    "    .agg(sum(col('Reputation')).cast(LongType()).alias('SumOfUsersReputations')) \\\n",
    "    .sort(desc('SumOfUsersReputations')) \\\n",
    "    .show()\n",
    "\n",
    "users_accepted_answers_with_lowest_popular_tags_df \\\n",
    "    .groupBy(col('Tag')) \\\n",
    "    .agg(sum(col('Reputation')).cast(LongType()).alias('SumOfUsersReputations')) \\\n",
    "    .sort(desc('SumOfUsersReputations')) \\\n",
    "    .show()"
   ],
   "metadata": {
    "application/vnd.databricks.v1+cell": {
     "showTitle": false,
     "cellMetadata": {},
     "nuid": "a4a25467-9f8d-4fa7-99c7-3f0a7b6c0207",
     "inputWidgets": {},
     "title": ""
    }
   },
   "outputs": [],
   "execution_count": null
  },
  {
   "cell_type": "markdown",
   "source": [
    "## What is the correlation between Users Reputation sum through the years in the top 10th most and lowest popular Technologies due to StackOverflow Professionals Survey based on StackOverflow Accepted Answers?"
   ],
   "metadata": {
    "application/vnd.databricks.v1+cell": {
     "showTitle": false,
     "cellMetadata": {},
     "nuid": "70260791-3744-4e81-a7a4-777e937584ea",
     "inputWidgets": {},
     "title": ""
    }
   }
  },
  {
   "cell_type": "code",
   "source": [
    "users_accepted_answers_with_most_popular_tags_df \\\n",
    "    .withColumn('CreationYear', year(col('CreationDate'))) \\\n",
    "    .groupBy(col('Tag'), col('CreationYear')) \\\n",
    "    .agg(sum(col('Reputation')).cast(LongType()).alias('SumOfUsersReputations')) \\\n",
    "    .sort(desc('CreationYear'), desc('SumOfUsersReputations')) \\\n",
    "    .show()\n",
    "\n",
    "users_accepted_answers_with_lowest_popular_tags_df \\\n",
    "    .withColumn('CreationYear', year(col('CreationDate'))) \\\n",
    "    .groupBy(col('Tag'), col('CreationYear')) \\\n",
    "    .agg(sum(col('Reputation')).cast(LongType()).alias('SumOfUsersReputations')) \\\n",
    "    .sort(desc('CreationYear'), desc('SumOfUsersReputations')) \\\n",
    "    .show()"
   ],
   "metadata": {
    "application/vnd.databricks.v1+cell": {
     "showTitle": false,
     "cellMetadata": {},
     "nuid": "44475038-6640-411b-bbe2-534b8eff5343",
     "inputWidgets": {},
     "title": ""
    }
   },
   "outputs": [],
   "execution_count": null
  },
  {
   "cell_type": "code",
   "source": [
    "filter_based_duplicated_column = ['Id', 'Tag']\n",
    "\n",
    "sum_of_reputation_all_unique_users_involved_in_answers_through_the_years_in_most_popular_tags_df = users_answers_with_most_popular_tags_df \\\n",
    "    .withColumn('Filter_Id_Tag', array_sort(array(*filter_based_duplicated_column))) \\\n",
    "    .drop_duplicates(['Filter_Id_Tag']) \\\n",
    "    .drop('Filter_Id_Tag') \\\n",
    "    .withColumn('CreationYear', year(col('CreationDate'))) \\\n",
    "    .groupBy(col('Tag'), col('CreationYear')) \\\n",
    "    .agg(sum(col('Reputation')).cast(LongType()).alias('SumOfUsersReputations')) \\\n",
    "    .sort(desc('CreationYear'), asc('SumOfUsersReputations'))\n",
    "\n",
    "sum_of_reputation_all_unique_users_involved_in_answers_through_the_years_in_lowest_popular_tags_df = users_answers_with_lowest_popular_tags_df \\\n",
    "    .withColumn('Filter_Id_Tag', array_sort(array(*filter_based_duplicated_column))) \\\n",
    "    .drop_duplicates(['Filter_Id_Tag']) \\\n",
    "    .drop('Filter_Id_Tag') \\\n",
    "    .withColumn('CreationYear', year(col('CreationDate'))) \\\n",
    "    .groupBy(col('Tag'), col('CreationYear')) \\\n",
    "    .agg(sum(col('Reputation')).cast(LongType()).alias('SumOfUsersReputations')) \\\n",
    "    .sort(desc('CreationYear'), asc('SumOfUsersReputations'))"
   ],
   "metadata": {
    "collapsed": false,
    "application/vnd.databricks.v1+cell": {
     "showTitle": false,
     "cellMetadata": {},
     "nuid": "ac6010e6-957a-4497-8058-51256c908b24",
     "inputWidgets": {},
     "title": ""
    }
   },
   "outputs": [],
   "execution_count": null
  },
  {
   "cell_type": "markdown",
   "source": [
    "## What is the correlation between Users Reputation sum through the years in the top 10th most and lowest popular Technologies due to StackOverflow Professionals Survey based on StackOverflow Accepted Answers? - PLOT"
   ],
   "metadata": {
    "collapsed": false
   }
  },
  {
   "cell_type": "code",
   "source": [
    "top_10_the_most_popular_technologies_based_on_the_survey_posts = ['<javascript>', '<html>', '<sql>', '<python>', '<typescript>', '<java>', '<c#>', '<bash>', '<php>', '<c++>']\n",
    "\n",
    "sum_of_reputation_all_unique_users_involved_in_answers_through_the_years_in_most_popular_tags_pandas_df = sum_of_reputation_all_unique_users_involved_in_answers_through_the_years_in_most_popular_tags_df.toPandas()\n",
    "\n",
    "fig, ax = plt.subplots(figsize=(10, 10), facecolor='white', dpi=100)\n",
    "plt.ticklabel_format(axis='y', style='plain')\n",
    "\n",
    "# Should be done it by for each - refactor\n",
    "ax.plot(sum_of_reputation_all_unique_users_involved_in_answers_through_the_years_in_most_popular_tags_pandas_df[sum_of_reputation_all_unique_users_involved_in_answers_through_the_years_in_most_popular_tags_pandas_df['Tag'] == '<javascript>']['CreationYear'], sum_of_reputation_all_unique_users_involved_in_answers_through_the_years_in_most_popular_tags_pandas_df[sum_of_reputation_all_unique_users_involved_in_answers_through_the_years_in_most_popular_tags_pandas_df['Tag'] == '<javascript>']['SumOfUsersReputations'], label='javascript', color='blue', marker='v')\n",
    "\n",
    "ax.plot(sum_of_reputation_all_unique_users_involved_in_answers_through_the_years_in_most_popular_tags_pandas_df[sum_of_reputation_all_unique_users_involved_in_answers_through_the_years_in_most_popular_tags_pandas_df['Tag'] == '<html>']['CreationYear'], sum_of_reputation_all_unique_users_involved_in_answers_through_the_years_in_most_popular_tags_pandas_df[sum_of_reputation_all_unique_users_involved_in_answers_through_the_years_in_most_popular_tags_pandas_df['Tag'] == '<html>']['SumOfUsersReputations'], label='html', color='green', marker='v')\n",
    "\n",
    "ax.plot(sum_of_reputation_all_unique_users_involved_in_answers_through_the_years_in_most_popular_tags_pandas_df[sum_of_reputation_all_unique_users_involved_in_answers_through_the_years_in_most_popular_tags_pandas_df['Tag'] == '<sql>']['CreationYear'], sum_of_reputation_all_unique_users_involved_in_answers_through_the_years_in_most_popular_tags_pandas_df[sum_of_reputation_all_unique_users_involved_in_answers_through_the_years_in_most_popular_tags_pandas_df['Tag'] == '<sql>']['SumOfUsersReputations'], label='sql', color='red', marker='v')\n",
    "\n",
    "ax.plot(sum_of_reputation_all_unique_users_involved_in_answers_through_the_years_in_most_popular_tags_pandas_df[sum_of_reputation_all_unique_users_involved_in_answers_through_the_years_in_most_popular_tags_pandas_df['Tag'] == '<python>']['CreationYear'], sum_of_reputation_all_unique_users_involved_in_answers_through_the_years_in_most_popular_tags_pandas_df[sum_of_reputation_all_unique_users_involved_in_answers_through_the_years_in_most_popular_tags_pandas_df['Tag'] == '<python>']['SumOfUsersReputations'], label='python', color='cyan', marker='v')\n",
    "\n",
    "ax.plot(sum_of_reputation_all_unique_users_involved_in_answers_through_the_years_in_most_popular_tags_pandas_df[sum_of_reputation_all_unique_users_involved_in_answers_through_the_years_in_most_popular_tags_pandas_df['Tag'] == '<typescript>']['CreationYear'], sum_of_reputation_all_unique_users_involved_in_answers_through_the_years_in_most_popular_tags_pandas_df[sum_of_reputation_all_unique_users_involved_in_answers_through_the_years_in_most_popular_tags_pandas_df['Tag'] == '<typescript>']['SumOfUsersReputations'], label='typescript', color='magenta', marker='v')\n",
    "\n",
    "ax.plot(sum_of_reputation_all_unique_users_involved_in_answers_through_the_years_in_most_popular_tags_pandas_df[sum_of_reputation_all_unique_users_involved_in_answers_through_the_years_in_most_popular_tags_pandas_df['Tag'] == '<java>']['CreationYear'], sum_of_reputation_all_unique_users_involved_in_answers_through_the_years_in_most_popular_tags_pandas_df[sum_of_reputation_all_unique_users_involved_in_answers_through_the_years_in_most_popular_tags_pandas_df['Tag'] == '<java>']['SumOfUsersReputations'], label='java', color='yellow', marker='v')\n",
    "\n",
    "ax.plot(sum_of_reputation_all_unique_users_involved_in_answers_through_the_years_in_most_popular_tags_pandas_df[sum_of_reputation_all_unique_users_involved_in_answers_through_the_years_in_most_popular_tags_pandas_df['Tag'] == '<c#>']['CreationYear'], sum_of_reputation_all_unique_users_involved_in_answers_through_the_years_in_most_popular_tags_pandas_df[sum_of_reputation_all_unique_users_involved_in_answers_through_the_years_in_most_popular_tags_pandas_df['Tag'] == '<c#>']['SumOfUsersReputations'], label='c#', color='black', marker='v')\n",
    "\n",
    "ax.plot(sum_of_reputation_all_unique_users_involved_in_answers_through_the_years_in_most_popular_tags_pandas_df[sum_of_reputation_all_unique_users_involved_in_answers_through_the_years_in_most_popular_tags_pandas_df['Tag'] == '<bash>']['CreationYear'], sum_of_reputation_all_unique_users_involved_in_answers_through_the_years_in_most_popular_tags_pandas_df[sum_of_reputation_all_unique_users_involved_in_answers_through_the_years_in_most_popular_tags_pandas_df['Tag'] == '<bash>']['SumOfUsersReputations'], label='bash', color='orange', marker='v')\n",
    "\n",
    "ax.plot(sum_of_reputation_all_unique_users_involved_in_answers_through_the_years_in_most_popular_tags_pandas_df[sum_of_reputation_all_unique_users_involved_in_answers_through_the_years_in_most_popular_tags_pandas_df['Tag'] == '<php>']['CreationYear'], sum_of_reputation_all_unique_users_involved_in_answers_through_the_years_in_most_popular_tags_pandas_df[sum_of_reputation_all_unique_users_involved_in_answers_through_the_years_in_most_popular_tags_pandas_df['Tag'] == '<php>']['SumOfUsersReputations'], label='php', color='gray', marker='v')\n",
    "\n",
    "ax.plot(sum_of_reputation_all_unique_users_involved_in_answers_through_the_years_in_most_popular_tags_pandas_df[sum_of_reputation_all_unique_users_involved_in_answers_through_the_years_in_most_popular_tags_pandas_df['Tag'] == '<c++>']['CreationYear'], sum_of_reputation_all_unique_users_involved_in_answers_through_the_years_in_most_popular_tags_pandas_df[sum_of_reputation_all_unique_users_involved_in_answers_through_the_years_in_most_popular_tags_pandas_df['Tag'] == '<c++>']['SumOfUsersReputations'], label='c++', color='brown', marker='v')\n",
    "\n",
    "ax.set_xlabel('Poszczególne lata')\n",
    "ax.set_ylabel('Ilość punktów reputacji')\n",
    "plt.title('Sumaryczna reputacja użytkowników udzielający odpowiedzi \\n w najpopularniejszych technologiach w ciągu ostatnich lat \\n według danych z portalu stackoverflow.com')\n",
    "ax.legend(loc='center left', bbox_to_anchor=(1, 0.5))\n",
    "plt.savefig('sum_of_reputation_all_unique_users_involved_in_answers_through_the_years_in_most_popular_tags.png', facecolor='white')\n",
    "plt.show()\n"
   ],
   "metadata": {
    "collapsed": false,
    "application/vnd.databricks.v1+cell": {
     "showTitle": false,
     "cellMetadata": {},
     "nuid": "58384466-a3bf-4818-b6e2-39216bed51a3",
     "inputWidgets": {},
     "title": ""
    }
   },
   "outputs": [],
   "execution_count": null
  },
  {
   "cell_type": "code",
   "source": [
    "top_10_the_lowest_popular_technologies_based_on_the_survey_posts = ['<crystal-lang>', '<apl>', '<sas>', '<ocaml>', '<cobol>', '<fortran>', '<erlang>', '<julia>', '<f#>', '<lisp>']\n",
    "\n",
    "sum_of_reputation_all_unique_users_involved_in_answers_through_the_years_in_lowest_popular_tags_pandas_df = sum_of_reputation_all_unique_users_involved_in_answers_through_the_years_in_lowest_popular_tags_df.toPandas()\n",
    "\n",
    "fig, ax = plt.subplots(figsize=(10, 10), facecolor='white', dpi=100)\n",
    "plt.ticklabel_format(axis='y', style='plain')\n",
    "\n",
    "# Should be done it by for each - refactor\n",
    "ax.plot(sum_of_reputation_all_unique_users_involved_in_answers_through_the_years_in_lowest_popular_tags_pandas_df[sum_of_reputation_all_unique_users_involved_in_answers_through_the_years_in_lowest_popular_tags_pandas_df['Tag'] == '<crystal-lang>']['CreationYear'], sum_of_reputation_all_unique_users_involved_in_answers_through_the_years_in_lowest_popular_tags_pandas_df[sum_of_reputation_all_unique_users_involved_in_answers_through_the_years_in_lowest_popular_tags_pandas_df['Tag'] == '<crystal-lang>']['SumOfUsersReputations'], label='crystal-lang', color='mediumblue', marker='v')\n",
    "\n",
    "ax.plot(sum_of_reputation_all_unique_users_involved_in_answers_through_the_years_in_lowest_popular_tags_pandas_df[sum_of_reputation_all_unique_users_involved_in_answers_through_the_years_in_lowest_popular_tags_pandas_df['Tag'] == '<apl>']['CreationYear'], sum_of_reputation_all_unique_users_involved_in_answers_through_the_years_in_lowest_popular_tags_pandas_df[sum_of_reputation_all_unique_users_involved_in_answers_through_the_years_in_lowest_popular_tags_pandas_df['Tag'] == '<apl>']['SumOfUsersReputations'], label='apl', color='darkgreen', marker='v')\n",
    "\n",
    "ax.plot(sum_of_reputation_all_unique_users_involved_in_answers_through_the_years_in_lowest_popular_tags_pandas_df[sum_of_reputation_all_unique_users_involved_in_answers_through_the_years_in_lowest_popular_tags_pandas_df['Tag'] == '<sas>']['CreationYear'], sum_of_reputation_all_unique_users_involved_in_answers_through_the_years_in_lowest_popular_tags_pandas_df[sum_of_reputation_all_unique_users_involved_in_answers_through_the_years_in_lowest_popular_tags_pandas_df['Tag'] == '<sas>']['SumOfUsersReputations'], label='sas', color='tomato', marker='v')\n",
    "\n",
    "ax.plot(sum_of_reputation_all_unique_users_involved_in_answers_through_the_years_in_lowest_popular_tags_pandas_df[sum_of_reputation_all_unique_users_involved_in_answers_through_the_years_in_lowest_popular_tags_pandas_df['Tag'] == '<ocaml>']['CreationYear'], sum_of_reputation_all_unique_users_involved_in_answers_through_the_years_in_lowest_popular_tags_pandas_df[sum_of_reputation_all_unique_users_involved_in_answers_through_the_years_in_lowest_popular_tags_pandas_df['Tag'] == '<ocaml>']['SumOfUsersReputations'], label='ocaml', color='darkcyan', marker='v')\n",
    "\n",
    "ax.plot(sum_of_reputation_all_unique_users_involved_in_answers_through_the_years_in_lowest_popular_tags_pandas_df[sum_of_reputation_all_unique_users_involved_in_answers_through_the_years_in_lowest_popular_tags_pandas_df['Tag'] == '<cobol>']['CreationYear'], sum_of_reputation_all_unique_users_involved_in_answers_through_the_years_in_lowest_popular_tags_pandas_df[sum_of_reputation_all_unique_users_involved_in_answers_through_the_years_in_lowest_popular_tags_pandas_df['Tag'] == '<cobol>']['SumOfUsersReputations'], label='cobol', color='pink', marker='v')\n",
    "\n",
    "ax.plot(sum_of_reputation_all_unique_users_involved_in_answers_through_the_years_in_lowest_popular_tags_pandas_df[sum_of_reputation_all_unique_users_involved_in_answers_through_the_years_in_lowest_popular_tags_pandas_df['Tag'] == '<fortran>']['CreationYear'], sum_of_reputation_all_unique_users_involved_in_answers_through_the_years_in_lowest_popular_tags_pandas_df[sum_of_reputation_all_unique_users_involved_in_answers_through_the_years_in_lowest_popular_tags_pandas_df['Tag'] == '<fortran>']['SumOfUsersReputations'], label='fortran', color='gold', marker='v')\n",
    "\n",
    "ax.plot(sum_of_reputation_all_unique_users_involved_in_answers_through_the_years_in_lowest_popular_tags_pandas_df[sum_of_reputation_all_unique_users_involved_in_answers_through_the_years_in_lowest_popular_tags_pandas_df['Tag'] == '<erlang>']['CreationYear'], sum_of_reputation_all_unique_users_involved_in_answers_through_the_years_in_lowest_popular_tags_pandas_df[sum_of_reputation_all_unique_users_involved_in_answers_through_the_years_in_lowest_popular_tags_pandas_df['Tag'] == '<erlang>']['SumOfUsersReputations'], label='erlang', color='dimgray', marker='v')\n",
    "\n",
    "ax.plot(sum_of_reputation_all_unique_users_involved_in_answers_through_the_years_in_lowest_popular_tags_pandas_df[sum_of_reputation_all_unique_users_involved_in_answers_through_the_years_in_lowest_popular_tags_pandas_df['Tag'] == '<julia>']['CreationYear'], sum_of_reputation_all_unique_users_involved_in_answers_through_the_years_in_lowest_popular_tags_pandas_df[sum_of_reputation_all_unique_users_involved_in_answers_through_the_years_in_lowest_popular_tags_pandas_df['Tag'] == '<julia>']['SumOfUsersReputations'], label='julia', color='darkorange', marker='v')\n",
    "\n",
    "ax.plot(sum_of_reputation_all_unique_users_involved_in_answers_through_the_years_in_lowest_popular_tags_pandas_df[sum_of_reputation_all_unique_users_involved_in_answers_through_the_years_in_lowest_popular_tags_pandas_df['Tag'] == '<f#>']['CreationYear'], sum_of_reputation_all_unique_users_involved_in_answers_through_the_years_in_lowest_popular_tags_pandas_df[sum_of_reputation_all_unique_users_involved_in_answers_through_the_years_in_lowest_popular_tags_pandas_df['Tag'] == '<f#>']['SumOfUsersReputations'], label='f#', color='lightgray', marker='v')\n",
    "\n",
    "ax.plot(sum_of_reputation_all_unique_users_involved_in_answers_through_the_years_in_lowest_popular_tags_pandas_df[sum_of_reputation_all_unique_users_involved_in_answers_through_the_years_in_lowest_popular_tags_pandas_df['Tag'] == '<lisp>']['CreationYear'], sum_of_reputation_all_unique_users_involved_in_answers_through_the_years_in_lowest_popular_tags_pandas_df[sum_of_reputation_all_unique_users_involved_in_answers_through_the_years_in_lowest_popular_tags_pandas_df['Tag'] == '<lisp>']['SumOfUsersReputations'], label='lisp', color='firebrick', marker='v')\n",
    "\n",
    "ax.set_xlabel('Poszczególne lata')\n",
    "ax.set_ylabel('Ilość punktów reputacji')\n",
    "plt.title('Sumaryczna reputacja użytkowników udzielający odpowiedzi \\n w najmniej popularnych technologiach w ciągu ostatnich lat \\n według danych z portalu stackoverflow.com')\n",
    "ax.legend(loc='center left', bbox_to_anchor=(1, 0.5))\n",
    "plt.savefig('sum_of_reputation_all_unique_users_involved_in_answers_through_the_years_in_lowest_popular_tags.png', facecolor='white')\n",
    "plt.show()\n"
   ],
   "metadata": {
    "collapsed": false,
    "application/vnd.databricks.v1+cell": {
     "showTitle": false,
     "cellMetadata": {},
     "nuid": "4a0d4c9a-ab90-496c-84ea-a93f42bf2210",
     "inputWidgets": {},
     "title": ""
    }
   },
   "outputs": [],
   "execution_count": null
  },
  {
   "cell_type": "markdown",
   "source": [
    "## What is the correlation between Users Reputation in the top 10th most and lowest popular Technologies due to StackOverflow Professionals Survey based on StackOverflow Answers?"
   ],
   "metadata": {
    "application/vnd.databricks.v1+cell": {
     "showTitle": false,
     "cellMetadata": {},
     "nuid": "ed9c1e7b-0f67-49c4-ab8a-ed2aee465f46",
     "inputWidgets": {},
     "title": ""
    }
   }
  },
  {
   "cell_type": "code",
   "source": [
    "filter_based_duplicated_column = ['Id', 'Tag']\n",
    "\n",
    "sum_of_reputation_all_unique_users_involved_in_answers_in_most_popular_tags_df = users_answers_with_most_popular_tags_df \\\n",
    "    .withColumn('Filter_Id_Tag', array_sort(array(*filter_based_duplicated_column))) \\\n",
    "    .drop_duplicates(['Filter_Id_Tag']) \\\n",
    "    .drop('Filter_Id_Tag') \\\n",
    "    .groupBy(col('Tag')) \\\n",
    "    .agg(sum(col('Reputation')).cast(LongType()).alias('SumOfUsersReputations')) \\\n",
    "    .sort(asc('SumOfUsersReputations'))\n",
    "\n",
    "sum_of_reputation_all_unique_users_involved_in_answers_in_lowest_popular_tags_df = users_answers_with_lowest_popular_tags_df \\\n",
    "    .withColumn('Filter_Id_Tag', array_sort(array(*filter_based_duplicated_column))) \\\n",
    "    .drop_duplicates(['Filter_Id_Tag']) \\\n",
    "    .drop('Filter_Id_Tag') \\\n",
    "    .groupBy(col('Tag')) \\\n",
    "    .agg(sum(col('Reputation')).cast(LongType()).alias('SumOfUsersReputations')) \\\n",
    "    .sort(asc('SumOfUsersReputations'))"
   ],
   "metadata": {
    "application/vnd.databricks.v1+cell": {
     "showTitle": false,
     "cellMetadata": {},
     "nuid": "6e419c59-2838-4c12-9338-0dd9eec1f2a6",
     "inputWidgets": {},
     "title": ""
    }
   },
   "outputs": [],
   "execution_count": null
  },
  {
   "cell_type": "markdown",
   "source": [
    "## What is the correlation between Users Reputation in the top 10th most and lowest popular Technologies due to StackOverflow Professionals Survey based on StackOverflow Answers? - PLOT\n"
   ],
   "metadata": {
    "collapsed": false
   }
  },
  {
   "cell_type": "code",
   "source": [
    "sum_of_reputation_all_unique_users_involved_in_answers_in_most_popular_tags_pandas_df = sum_of_reputation_all_unique_users_involved_in_answers_in_most_popular_tags_df.toPandas()\n",
    "\n",
    "fig, ax = plt.subplots(figsize=(10,10), facecolor='white', dpi=100)\n",
    "plt.barh(sum_of_reputation_all_unique_users_involved_in_answers_in_most_popular_tags_pandas_df['Tag'], sum_of_reputation_all_unique_users_involved_in_answers_in_most_popular_tags_pandas_df['SumOfUsersReputations'])\n",
    "plt.ticklabel_format(axis='x', style='plain')\n",
    "\n",
    "plt.xticks(rotation = 45)\n",
    "plt.ylabel('Technologie')\n",
    "plt.xlabel('Suma punktów reputacji unikalnych użytkowników', labelpad= 20.0)\n",
    "plt.title('Sumaryczna ilość punktów reputacji zaangażowanych użytkowników \\n w udzielaniu odpowiedzi w najpopularniejszych \\n technologiach według danych z portalu stackoverflow.com')\n",
    "plt.savefig('sum_of_reputation_all_unique_users_involved_in_questions_and_answers_in_most_popular_tags.png', facecolor='white')\n",
    "plt.show()"
   ],
   "metadata": {
    "application/vnd.databricks.v1+cell": {
     "showTitle": false,
     "cellMetadata": {},
     "nuid": "293c6bb4-8f0c-4461-9df1-5ac211930b1a",
     "inputWidgets": {},
     "title": ""
    }
   },
   "outputs": [],
   "execution_count": null
  },
  {
   "cell_type": "code",
   "source": [
    "sum_of_reputation_all_unique_users_involved_in_answers_in_lowest_popular_tags_pandas_df = sum_of_reputation_all_unique_users_involved_in_answers_in_lowest_popular_tags_df.toPandas()\n",
    "\n",
    "fig, ax = plt.subplots(figsize=(10,10), facecolor='white', dpi=100)\n",
    "plt.barh(sum_of_reputation_all_unique_users_involved_in_answers_in_lowest_popular_tags_pandas_df['Tag'], sum_of_reputation_all_unique_users_involved_in_answers_in_lowest_popular_tags_pandas_df['SumOfUsersReputations'])\n",
    "plt.ticklabel_format(axis='x', style='plain')\n",
    "\n",
    "plt.xticks(np.arange(0, 100000000, step=20000000), rotation = 45)\n",
    "plt.xticks(rotation = 45)\n",
    "plt.ylabel('Technologie')\n",
    "plt.xlabel('Suma punktów reputacji unikalnych użytkowników', labelpad= 20.0)\n",
    "plt.title('Sumaryczna ilość punktów reputacji zaangażowanych użytkowników \\n w udzielaniu odpowiedzi w najmniej popularnych \\n technologiach według danych z portalu stackoverflow.com')\n",
    "plt.savefig('sum_of_reputation_all_unique_users_involved_in_questions_and_answers_in_lowest_popular_tags.png', facecolor='white')\n",
    "plt.show()"
   ],
   "metadata": {
    "application/vnd.databricks.v1+cell": {
     "showTitle": false,
     "cellMetadata": {},
     "nuid": "042e701a-e420-4875-8bda-6005f1043e67",
     "inputWidgets": {},
     "title": ""
    }
   },
   "outputs": [],
   "execution_count": null
  }
 ],
 "metadata": {
  "application/vnd.databricks.v1+notebook": {
   "notebookName": "analysis_stack_overflow_posts_questions_based_on_prepared_parquet",
   "dashboards": [],
   "notebookMetadata": {
    "pythonIndentUnit": 4,
    "mostRecentlyExecutedCommandWithImplicitDF": {
     "commandId": 3728004833396838,
     "dataframes": [
      "_sqldf"
     ]
    }
   },
   "language": "python",
   "widgets": {},
   "notebookOrigID": 3728004833396834
  }
 },
 "nbformat": 4,
 "nbformat_minor": 0
}
