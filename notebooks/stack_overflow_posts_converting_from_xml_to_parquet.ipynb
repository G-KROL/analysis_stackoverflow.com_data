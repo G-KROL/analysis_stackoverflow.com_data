{
 "cells": [
  {
   "cell_type": "markdown",
   "source": [
    " Before you start using this notebook install **com.databricks.spark.xml** Maven module on your Apache Spark and then change **datalake_name** in the Python variable and file system command\n"
   ],
   "metadata": {
    "collapsed": false
   }
  },
  {
   "cell_type": "code",
   "source": [
    "from pyspark.sql.types import *\n",
    "from pyspark.sql import SparkSession\n",
    "from pyspark.sql.functions import *"
   ],
   "metadata": {
    "application/vnd.databricks.v1+cell": {
     "showTitle": false,
     "cellMetadata": {},
     "nuid": "72d645d8-a1f7-46ce-8ead-e2197bd0cd3e",
     "inputWidgets": {},
     "title": ""
    }
   },
   "outputs": [],
   "execution_count": null
  },
  {
   "cell_type": "code",
   "source": [
    "datalake_name = 'cadlstoren2ygnppyehpf2'"
   ],
   "metadata": {
    "application/vnd.databricks.v1+cell": {
     "showTitle": false,
     "cellMetadata": {},
     "nuid": "140340d9-e82d-4b0f-848f-4d0fe4fd7adf",
     "inputWidgets": {},
     "title": ""
    }
   },
   "outputs": [],
   "execution_count": null
  },
  {
   "cell_type": "code",
   "source": [
    "%fs ls adl://cadlstoren2ygnppyehpf2.azuredatalakestore.net/"
   ],
   "metadata": {
    "application/vnd.databricks.v1+cell": {
     "showTitle": false,
     "cellMetadata": {},
     "nuid": "27886683-cc53-4f05-ac61-fd1f26cd5f12",
     "inputWidgets": {},
     "title": ""
    }
   },
   "outputs": [],
   "execution_count": null
  },
  {
   "cell_type": "code",
   "source": [
    "%python\n",
    "configs = {\n",
    "  'fs.adl.oauth2.access.token.provider.type': 'CustomAccessTokenProvider',\n",
    "  'fs.adl.oauth2.access.token.custom.provider': spark.conf.get('spark.databricks.passthrough.adls.tokenProviderClassName')\n",
    "}\n",
    "dbutils.fs.mount(\n",
    "source = f'adl://{datalake_name}.azuredatalakestore.net/',\n",
    "mount_point = '/mnt/datalake',\n",
    "extra_configs = configs)"
   ],
   "metadata": {
    "application/vnd.databricks.v1+cell": {
     "showTitle": false,
     "cellMetadata": {},
     "nuid": "59d6bda9-f19b-4ac6-872f-89dd31207041",
     "inputWidgets": {},
     "title": ""
    }
   },
   "outputs": [],
   "execution_count": null
  },
  {
   "cell_type": "code",
   "source": [
    "path = f'adl://{datalake_name}.azuredatalakestore.net/Posts.xml'\n",
    "posts_output_path = f'adl://{datalake_name}.azuredatalakestore.net/posts.parquet'\n",
    "\n",
    "most_popular_questions_with_unique_tag_parquet_path = f'adl://{datalake_name}.azuredatalakestore.net/most_popular_questions_with_unique_tag.parquet'\n",
    "most_popular_answers_with_unique_tag_parquet_path = f'adl://{datalake_name}.azuredatalakestore.net/most_popular_answers_with_unique_tag.parquet'\n",
    "most_popular_accepted_answers_with_unique_tag_parquet_path = f'adl://{datalake_name}.azuredatalakestore.net/most_popular_accepted_answers_with_unique_tag.parquet'\n",
    "\n",
    "\n",
    "lowest_popular_questions_with_unique_tag_parquet_path = f'adl://{datalake_name}.azuredatalakestore.net/lowest_popular_questions_with_unique_tag.parquet'\n",
    "lowest_popular_answers_with_unique_tag_parquet_path = f'adl://{datalake_name}.azuredatalakestore.net/lowest_popular_answers_with_unique_tag.parquet'\n",
    "lowest_popular_accepted_answers_with_unique_tag_parquet_path = f'adl://{datalake_name}.azuredatalakestore.net/lowest_popular_accepted_answers_with_unique_tag.parquet'"
   ],
   "metadata": {
    "application/vnd.databricks.v1+cell": {
     "showTitle": false,
     "cellMetadata": {},
     "nuid": "e220ff8b-04c6-4483-822b-8db7e3e6f5dd",
     "inputWidgets": {},
     "title": ""
    }
   },
   "outputs": [],
   "execution_count": null
  },
  {
   "cell_type": "code",
   "source": [
    "%sh\n",
    "\n",
    "sudo apt-get -y install p7zip-full\n",
    "\n",
    "wget https://archive.org/download/stackexchange/stackoverflow.com-Posts.7z\n",
    "\n",
    "7za x stackoverflow.com-Posts.7z\n",
    "\n",
    "ls -al"
   ],
   "metadata": {
    "collapsed": false,
    "application/vnd.databricks.v1+cell": {
     "showTitle": false,
     "cellMetadata": {},
     "nuid": "2e57d71d-989c-494a-aeaf-2b8b73df450f",
     "inputWidgets": {},
     "title": ""
    }
   },
   "outputs": [],
   "execution_count": null
  },
  {
   "cell_type": "code",
   "source": [
    "%python\n",
    "\n",
    "dbutils.fs.mv('file:/databricks/driver/Posts.xml', f'{path}')"
   ],
   "metadata": {
    "collapsed": false,
    "application/vnd.databricks.v1+cell": {
     "showTitle": false,
     "cellMetadata": {},
     "nuid": "c63f2e4c-98c0-432f-90e9-8c01c9833466",
     "inputWidgets": {},
     "title": ""
    }
   },
   "outputs": [],
   "execution_count": null
  },
  {
   "cell_type": "code",
   "source": [
    "spark = SparkSession.builder.getOrCreate()"
   ],
   "metadata": {
    "application/vnd.databricks.v1+cell": {
     "showTitle": false,
     "cellMetadata": {},
     "nuid": "f3508539-3a6c-40e9-82c1-92c81449113a",
     "inputWidgets": {},
     "title": ""
    }
   },
   "outputs": [],
   "execution_count": null
  },
  {
   "cell_type": "code",
   "source": [
    "schema = StructType() \\\n",
    "            .add('_Id', IntegerType()) \\\n",
    "            .add('_PostTypeId', IntegerType()) \\\n",
    "            .add('_AcceptedAnswerId', IntegerType()) \\\n",
    "            .add('_ParentId', IntegerType()) \\\n",
    "            .add('_CreationDate', TimestampType()) \\\n",
    "            .add('_DeletionDate', TimestampType()) \\\n",
    "            .add('_Score', IntegerType()) \\\n",
    "            .add('_ViewCount', IntegerType()) \\\n",
    "            .add('_Body', StringType()) \\\n",
    "            .add('_OwnerUserId', IntegerType()) \\\n",
    "            .add('_Title', StringType()) \\\n",
    "            .add('_Tags', StringType()) \\\n",
    "            .add('_AnswerCount', IntegerType()) \\\n",
    "            .add('_CommentCount', IntegerType()) \\\n",
    "            .add('_FavoriteCount', IntegerType()) \\\n",
    "            .add('_ClosedDate', TimestampType())"
   ],
   "metadata": {
    "application/vnd.databricks.v1+cell": {
     "showTitle": false,
     "cellMetadata": {},
     "nuid": "820277a2-0b55-4153-8a58-924c2c256648",
     "inputWidgets": {},
     "title": ""
    }
   },
   "outputs": [],
   "execution_count": null
  },
  {
   "cell_type": "code",
   "source": [
    "posts_df = spark.read \\\n",
    "      .format('com.databricks.spark.xml') \\\n",
    "      .option('rootTag', 'posts') \\\n",
    "      .option('rowTag', 'row') \\\n",
    "      .load(path, schema = schema)"
   ],
   "metadata": {
    "application/vnd.databricks.v1+cell": {
     "showTitle": false,
     "cellMetadata": {},
     "nuid": "1bafe9c2-e26c-4224-bd5d-6ba009a45b90",
     "inputWidgets": {},
     "title": ""
    }
   },
   "outputs": [],
   "execution_count": null
  },
  {
   "cell_type": "code",
   "source": [
    "posts_df.show()"
   ],
   "metadata": {
    "application/vnd.databricks.v1+cell": {
     "showTitle": false,
     "cellMetadata": {},
     "nuid": "a10550ee-9f51-47e1-b5f7-1575b04107e4",
     "inputWidgets": {},
     "title": ""
    }
   },
   "outputs": [],
   "execution_count": null
  },
  {
   "cell_type": "code",
   "source": [
    "posts_df \\\n",
    "        .withColumnRenamed('_Id', 'Id') \\\n",
    "        .withColumnRenamed('_PostTypeId', 'PostTypeId') \\\n",
    "        .withColumnRenamed('_AcceptedAnswerId', 'AcceptedAnswerId') \\\n",
    "        .withColumnRenamed('_ParentId', 'ParentId') \\\n",
    "        .withColumnRenamed('_CreationDate', 'CreationDate') \\\n",
    "        .withColumnRenamed('_DeletionDate', 'DeletionDate') \\\n",
    "        .withColumnRenamed('_Score', 'Score') \\\n",
    "        .withColumnRenamed('_ViewCount', 'ViewCount') \\\n",
    "        .withColumnRenamed('_Body', 'Body') \\\n",
    "        .withColumnRenamed('_OwnerUserId', 'OwnerUserId') \\\n",
    "        .withColumnRenamed('_Title', 'Title') \\\n",
    "        .withColumnRenamed('_Tags', 'Tags') \\\n",
    "        .withColumnRenamed('_AnswerCount', 'AnswerCount') \\\n",
    "        .withColumnRenamed('_CommentCount', 'CommentCount') \\\n",
    "        .withColumnRenamed('_FavoriteCount', 'FavoriteCount') \\\n",
    "        .withColumnRenamed('_ClosedDate', 'ClosedDate') \\\n",
    "        .write \\\n",
    "        .mode('overwrite') \\\n",
    "        .format('parquet') \\\n",
    "        .option('path', posts_output_path) \\\n",
    "        .save()"
   ],
   "metadata": {
    "application/vnd.databricks.v1+cell": {
     "showTitle": false,
     "cellMetadata": {},
     "nuid": "40b9dd04-429a-47e2-ad44-7789ce48742c",
     "inputWidgets": {},
     "title": ""
    }
   },
   "outputs": [],
   "execution_count": null
  },
  {
   "cell_type": "code",
   "source": [
    "posts_based_parquet_df=spark.read.parquet(posts_output_path)\n",
    "posts_based_parquet_df.show()"
   ],
   "metadata": {
    "application/vnd.databricks.v1+cell": {
     "showTitle": false,
     "cellMetadata": {},
     "nuid": "397aa8e2-9446-4861-bc5f-6e27c8a097c5",
     "inputWidgets": {},
     "title": ""
    }
   },
   "outputs": [],
   "execution_count": null
  },
  {
   "cell_type": "code",
   "source": [
    "posts_based_parquet_df.count()"
   ],
   "metadata": {
    "application/vnd.databricks.v1+cell": {
     "showTitle": false,
     "cellMetadata": {},
     "nuid": "bd59e0fb-9c7d-4aef-898b-939c257f2a5b",
     "inputWidgets": {},
     "title": ""
    }
   },
   "outputs": [],
   "execution_count": null
  },
  {
   "cell_type": "code",
   "execution_count": null,
   "outputs": [],
   "source": [
    "questions_df = posts_based_parquet_df.filter((col('PostTypeId') == 1) & (col('ClosedDate').isNull()))\n",
    "answers_df = posts_based_parquet_df.filter((col('PostTypeId') == 2) & (col('ClosedDate').isNull()))"
   ],
   "metadata": {
    "collapsed": false
   }
  },
  {
   "cell_type": "markdown",
   "source": [
    "## Most popular technologies"
   ],
   "metadata": {
    "collapsed": false
   }
  },
  {
   "cell_type": "code",
   "execution_count": null,
   "outputs": [],
   "source": [
    "top_10_the_most_popular_technologies_based_on_the_survey_posts = ['<javascript>', '<html>', '<sql>', '<python>', '<typescript>', '<java>', '<c#>', '<bash>', '<php>', '<c++>']\n",
    "\n",
    "def most_popular_tag_is_in_tags(column_value):\n",
    "    for tag in top_10_the_most_popular_technologies_based_on_the_survey_posts:\n",
    "        if tag in column_value:\n",
    "            return True\n",
    "    return False\n",
    "\n",
    "filter_most_popular_tag_is_in_tags = udf(most_popular_tag_is_in_tags, BooleanType())\n",
    "\n",
    "\n",
    "most_popular_unique_tags_schema = StructType([\n",
    "    StructField('Tag', StringType())\n",
    "])\n",
    "most_popular_unique_tags_data = map(lambda tag: Row(tag), top_10_the_most_popular_technologies_based_on_the_survey_posts)\n",
    "most_popular_unique_tags_df = spark.createDataFrame(data = most_popular_unique_tags_data, schema = most_popular_unique_tags_schema)\n",
    "\n",
    "most_popular_questions_with_unique_tag_df = questions_df \\\n",
    "    .filter(filter_most_popular_tag_is_in_tags(questions_df['Tags'])) \\\n",
    "    .crossJoin(most_popular_unique_tags_df) \\\n",
    "    .filter(col('Tags').contains(col('Tag'))) \\\n",
    "    .drop('Tags')\n",
    "\n",
    "\n",
    "most_popular_questions_with_unique_tag_df \\\n",
    "    .write \\\n",
    "    .mode('overwrite') \\\n",
    "    .format('parquet') \\\n",
    "    .option('path', most_popular_questions_with_unique_tag_parquet_path) \\\n",
    "    .save()"
   ],
   "metadata": {
    "collapsed": false
   }
  },
  {
   "cell_type": "code",
   "execution_count": null,
   "outputs": [],
   "source": [
    "most_popular_answers_with_unique_tag_df = answers_df.drop('Tags').alias('a') \\\n",
    "    .join(most_popular_questions_with_unique_tag_df.alias('q'), col('a._ParentId') == col('q._Id')) \\\n",
    "    .select('a.*', 'q.Tag')\n",
    "\n",
    "most_popular_answers_with_unique_tag_df \\\n",
    "    .write \\\n",
    "    .mode('overwrite') \\\n",
    "    .format('parquet') \\\n",
    "    .option('path', most_popular_answers_with_unique_tag_parquet_path) \\\n",
    "    .save()"
   ],
   "metadata": {
    "collapsed": false
   }
  },
  {
   "cell_type": "code",
   "execution_count": null,
   "outputs": [],
   "source": [
    "\n",
    "most_popular_accepted_answers_with_unique_tag_df = answers_df.drop('Tags').alias('a') \\\n",
    "    .join(most_popular_questions_with_unique_tag_df.alias('q'), col('a._Id') == col('q._AcceptedAnswerId')) \\\n",
    "    .select('a.*', 'q.Tag')\n",
    "\n",
    "most_popular_accepted_answers_with_unique_tag_df \\\n",
    "    .write \\\n",
    "    .mode('overwrite') \\\n",
    "    .format('parquet') \\\n",
    "    .option('path', most_popular_accepted_answers_with_unique_tag_parquet_path) \\\n",
    "    .save()"
   ],
   "metadata": {
    "collapsed": false
   }
  },
  {
   "cell_type": "markdown",
   "source": [
    "## Least popular technologies"
   ],
   "metadata": {
    "collapsed": false
   }
  },
  {
   "cell_type": "code",
   "execution_count": null,
   "outputs": [],
   "source": [
    "top_10_the_lowest_popular_technologies_based_on_the_survey_posts = ['<crystal-lang>', '<apl>', '<sas>', '<ocaml>', '<cobol>', '<fortran>', '<erlang>', '<julia>', '<f#>', '<lisp>']\n",
    "\n",
    "def lowest_popular_tag_is_in_tags(column_value):\n",
    "    for tag in top_10_the_lowest_popular_technologies_based_on_the_survey_posts:\n",
    "        if tag in column_value:\n",
    "            return True\n",
    "    return False\n",
    "\n",
    "filter_lowest_popular_tag_is_in_tags = udf(lowest_popular_tag_is_in_tags, BooleanType())\n",
    "\n",
    "\n",
    "lowest_popular_unique_tags_schema = StructType([\n",
    "    StructField('Tag', StringType())\n",
    "])\n",
    "lowest_popular_unique_tags_data = map(lambda tag: Row(tag), top_10_the_lowest_popular_technologies_based_on_the_survey_posts)\n",
    "lowest_popular_unique_tags_df = spark.createDataFrame(data = lowest_popular_unique_tags_data, schema = lowest_popular_unique_tags_schema)\n",
    "\n",
    "lowest_popular_questions_with_unique_tag_df = questions_df \\\n",
    "    .filter(filter_lowest_popular_tag_is_in_tags(questions_df['Tags'])) \\\n",
    "    .crossJoin(lowest_popular_unique_tags_df) \\\n",
    "    .filter(col('Tags').contains(col('Tag'))) \\\n",
    "    .drop('Tags')\n",
    "\n",
    "lowest_popular_questions_with_unique_tag_df \\\n",
    "    .write \\\n",
    "    .mode('overwrite') \\\n",
    "    .format('parquet') \\\n",
    "    .option('path', lowest_popular_questions_with_unique_tag_parquet_path) \\\n",
    "    .save()"
   ],
   "metadata": {
    "collapsed": false
   }
  },
  {
   "cell_type": "code",
   "execution_count": null,
   "outputs": [],
   "source": [
    "lowest_popular_answers_with_unique_tag_df = answers_df.drop('Tags').alias('a') \\\n",
    "    .join(lowest_popular_questions_with_unique_tag_df.alias('q'), col('a._ParentId') == col('q._Id')) \\\n",
    "    .select('a.*', 'q.Tag')\n",
    "\n",
    "lowest_popular_answers_with_unique_tag_df \\\n",
    "    .write \\\n",
    "    .mode('overwrite') \\\n",
    "    .format('parquet') \\\n",
    "    .option('path', lowest_popular_answers_with_unique_tag_parquet_path) \\\n",
    "    .save()"
   ],
   "metadata": {
    "collapsed": false
   }
  },
  {
   "cell_type": "code",
   "execution_count": null,
   "outputs": [],
   "source": [
    "lowest_popular_accepted_answers_with_unique_tag_df = answers_df.drop('Tags').alias('a') \\\n",
    "    .join(lowest_popular_questions_with_unique_tag_df.alias('q'), col('a._Id') == col('q._AcceptedAnswerId')) \\\n",
    "    .select('a.*', 'q.Tag')\n",
    "\n",
    "lowest_popular_accepted_answers_with_unique_tag_df \\\n",
    "    .write \\\n",
    "    .mode('overwrite') \\\n",
    "    .format('parquet') \\\n",
    "    .option('path', lowest_popular_accepted_answers_with_unique_tag_parquet_path) \\\n",
    "    .save()"
   ],
   "metadata": {
    "collapsed": false
   }
  }
 ],
 "metadata": {
  "application/vnd.databricks.v1+notebook": {
   "notebookName": "stack_overflow_posts_converting_from_xml_to_parquet",
   "dashboards": [],
   "notebookMetadata": {
    "pythonIndentUnit": 4,
    "mostRecentlyExecutedCommandWithImplicitDF": {
     "commandId": 2385444164627137,
     "dataframes": [
      "_sqldf"
     ]
    }
   },
   "language": "python",
   "widgets": {},
   "notebookOrigID": 2385444164627124
  }
 },
 "nbformat": 4,
 "nbformat_minor": 0
}
