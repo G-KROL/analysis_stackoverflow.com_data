{
 "cells": [
  {
   "cell_type": "markdown",
   "source": [],
   "metadata": {
    "collapsed": false
   }
  },
  {
   "cell_type": "markdown",
   "source": [
    "\n",
    " Before you start using this notebook install **com.databricks.spark.xml** Maven module on your Apache Spark and then change **datalake_name** in the Python variable and file system command"
   ],
   "metadata": {
    "collapsed": false
   }
  },
  {
   "cell_type": "code",
   "source": [
    "from pyspark.sql.types import *\n",
    "from pyspark.sql import SparkSession\n",
    "from pyspark.sql.functions import *"
   ],
   "metadata": {
    "application/vnd.databricks.v1+cell": {
     "showTitle": false,
     "cellMetadata": {},
     "nuid": "72d645d8-a1f7-46ce-8ead-e2197bd0cd3e",
     "inputWidgets": {},
     "title": ""
    }
   },
   "outputs": [],
   "execution_count": null
  },
  {
   "cell_type": "code",
   "source": [
    "datalake_name = 'cadlstoreo54jdyoinsvde'"
   ],
   "metadata": {
    "application/vnd.databricks.v1+cell": {
     "showTitle": false,
     "cellMetadata": {},
     "nuid": "140340d9-e82d-4b0f-848f-4d0fe4fd7adf",
     "inputWidgets": {},
     "title": ""
    }
   },
   "outputs": [],
   "execution_count": null
  },
  {
   "cell_type": "code",
   "source": [
    "%fs ls adl://cadlstoreo54jdyoinsvde.azuredatalakestore.net/"
   ],
   "metadata": {
    "application/vnd.databricks.v1+cell": {
     "showTitle": false,
     "cellMetadata": {},
     "nuid": "27886683-cc53-4f05-ac61-fd1f26cd5f12",
     "inputWidgets": {},
     "title": ""
    }
   },
   "outputs": [],
   "execution_count": null
  },
  {
   "cell_type": "code",
   "source": [
    "%python\n",
    "configs = {\n",
    "  'fs.adl.oauth2.access.token.provider.type': 'CustomAccessTokenProvider',\n",
    "  'fs.adl.oauth2.access.token.custom.provider': spark.conf.get('spark.databricks.passthrough.adls.tokenProviderClassName')\n",
    "}\n",
    "dbutils.fs.mount(\n",
    "source = f'adl://{datalake_name}.azuredatalakestore.net/',\n",
    "mount_point = '/mnt/datalake',\n",
    "extra_configs = configs)"
   ],
   "metadata": {
    "application/vnd.databricks.v1+cell": {
     "showTitle": false,
     "cellMetadata": {},
     "nuid": "59d6bda9-f19b-4ac6-872f-89dd31207041",
     "inputWidgets": {},
     "title": ""
    }
   },
   "outputs": [],
   "execution_count": null
  },
  {
   "cell_type": "code",
   "source": [
    "path = f'adl://{datalake_name}.azuredatalakestore.net/Comments.xml'\n",
    "comments_output_path = f'adl://{datalake_name}.azuredatalakestore.net/comments.parquet'"
   ],
   "metadata": {
    "application/vnd.databricks.v1+cell": {
     "showTitle": false,
     "cellMetadata": {},
     "nuid": "e220ff8b-04c6-4483-822b-8db7e3e6f5dd",
     "inputWidgets": {},
     "title": ""
    }
   },
   "outputs": [],
   "execution_count": null
  },
  {
   "cell_type": "code",
   "source": [
    "%sh\n",
    "\n",
    "sudo apt-get -y install p7zip-full\n",
    "\n",
    "wget https://archive.org/download/stackexchange/stackoverflow.com-Comments.7z\n",
    "\n",
    "7za x stackoverflow.com-Comments.7z\n",
    "\n",
    "ls -al"
   ],
   "metadata": {
    "collapsed": false,
    "application/vnd.databricks.v1+cell": {
     "showTitle": false,
     "cellMetadata": {},
     "nuid": "2e57d71d-989c-494a-aeaf-2b8b73df450f",
     "inputWidgets": {},
     "title": ""
    }
   },
   "outputs": [],
   "execution_count": null
  },
  {
   "cell_type": "code",
   "source": [
    "%python\n",
    "\n",
    "dbutils.fs.mv('file:/databricks/driver/Comments.xml', f'{path}')"
   ],
   "metadata": {
    "collapsed": false,
    "application/vnd.databricks.v1+cell": {
     "showTitle": false,
     "cellMetadata": {},
     "nuid": "c63f2e4c-98c0-432f-90e9-8c01c9833466",
     "inputWidgets": {},
     "title": ""
    }
   },
   "outputs": [],
   "execution_count": null
  },
  {
   "cell_type": "code",
   "source": [
    "spark = SparkSession.builder.getOrCreate()"
   ],
   "metadata": {
    "application/vnd.databricks.v1+cell": {
     "showTitle": false,
     "cellMetadata": {},
     "nuid": "f3508539-3a6c-40e9-82c1-92c81449113a",
     "inputWidgets": {},
     "title": ""
    }
   },
   "outputs": [],
   "execution_count": null
  },
  {
   "cell_type": "code",
   "source": [
    "schema = StructType() \\\n",
    "            .add('_Id', IntegerType()) \\\n",
    "            .add('_PostId', IntegerType()) \\\n",
    "            .add('_CreationDate', TimestampType()) \\\n",
    "            .add('_UserDisplayName', StringType()) \\\n",
    "            .add('_UserId', IntegerType())"
   ],
   "metadata": {
    "application/vnd.databricks.v1+cell": {
     "showTitle": false,
     "cellMetadata": {},
     "nuid": "820277a2-0b55-4153-8a58-924c2c256648",
     "inputWidgets": {},
     "title": ""
    }
   },
   "outputs": [],
   "execution_count": null
  },
  {
   "cell_type": "code",
   "source": [
    "comments_df = spark.read \\\n",
    "      .format('com.databricks.spark.xml') \\\n",
    "      .option('rootTag', 'comments') \\\n",
    "      .option('rowTag', 'row') \\\n",
    "      .load(path, schema = schema)"
   ],
   "metadata": {
    "application/vnd.databricks.v1+cell": {
     "showTitle": false,
     "cellMetadata": {},
     "nuid": "1bafe9c2-e26c-4224-bd5d-6ba009a45b90",
     "inputWidgets": {},
     "title": ""
    }
   },
   "outputs": [],
   "execution_count": null
  },
  {
   "cell_type": "code",
   "source": [
    "comments_df.show()"
   ],
   "metadata": {
    "application/vnd.databricks.v1+cell": {
     "showTitle": false,
     "cellMetadata": {},
     "nuid": "a10550ee-9f51-47e1-b5f7-1575b04107e4",
     "inputWidgets": {},
     "title": ""
    }
   },
   "outputs": [],
   "execution_count": null
  },
  {
   "cell_type": "code",
   "source": [
    "comments_df \\\n",
    "        .filter(col('_UserId').isNotNull()) \\\n",
    "        .withColumnRenamed('_Id', 'Id') \\\n",
    "        .withColumnRenamed('_PostId', 'PostId') \\\n",
    "        .withColumnRenamed('_CreationDate', 'CreationDate') \\\n",
    "        .withColumnRenamed('_UserDisplayName', 'UserDisplayName') \\\n",
    "        .withColumnRenamed('_UserId', 'UserId') \\\n",
    "        .write \\\n",
    "        .mode('overwrite') \\\n",
    "        .format('parquet') \\\n",
    "        .option('path', comments_output_path) \\\n",
    "        .save()"
   ],
   "metadata": {
    "application/vnd.databricks.v1+cell": {
     "showTitle": false,
     "cellMetadata": {},
     "nuid": "40b9dd04-429a-47e2-ad44-7789ce48742c",
     "inputWidgets": {},
     "title": ""
    }
   },
   "outputs": [],
   "execution_count": null
  },
  {
   "cell_type": "code",
   "source": [
    "comments_based_parquet_df = spark.read.parquet(comments_output_path)\n",
    "comments_based_parquet_df.show()"
   ],
   "metadata": {
    "application/vnd.databricks.v1+cell": {
     "showTitle": false,
     "cellMetadata": {},
     "nuid": "397aa8e2-9446-4861-bc5f-6e27c8a097c5",
     "inputWidgets": {},
     "title": ""
    }
   },
   "outputs": [],
   "execution_count": null
  },
  {
   "cell_type": "code",
   "execution_count": null,
   "outputs": [],
   "source": [
    "comments_based_parquet_df.count()"
   ],
   "metadata": {
    "collapsed": false
   }
  }
 ],
 "metadata": {
  "application/vnd.databricks.v1+notebook": {
   "notebookName": "stack_overflow_comments_converting_from_xml_to_parquet",
   "dashboards": [],
   "notebookMetadata": {
    "pythonIndentUnit": 4,
    "mostRecentlyExecutedCommandWithImplicitDF": {
     "commandId": 1639511871829930,
     "dataframes": [
      "_sqldf"
     ]
    }
   },
   "language": "python",
   "widgets": {},
   "notebookOrigID": 1639511871829916
  }
 },
 "nbformat": 4,
 "nbformat_minor": 0
}
