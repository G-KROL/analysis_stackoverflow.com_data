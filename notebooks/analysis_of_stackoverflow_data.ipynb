{
 "cells": [
  {
   "cell_type": "markdown",
   "source": [
    " Before you start using this notebook change **datalake_name** in the Python variable and file system command"
   ],
   "metadata": {
    "collapsed": false
   }
  },
  {
   "cell_type": "code",
   "source": [
    "from pyspark.sql.types import *\n",
    "from pyspark.sql import SparkSession\n",
    "from pyspark.sql.functions import *\n",
    "import numpy as np\n",
    "import pandas as pd\n",
    "import matplotlib\n",
    "import matplotlib.pyplot as plt"
   ],
   "metadata": {
    "collapsed": false,
    "application/vnd.databricks.v1+cell": {
     "showTitle": false,
     "cellMetadata": {},
     "nuid": "d786d109-9273-4851-ae23-2156a20dc496",
     "inputWidgets": {},
     "title": ""
    }
   },
   "outputs": [],
   "execution_count": null
  },
  {
   "cell_type": "code",
   "source": [
    "font = {'size'   : 12}\n",
    "\n",
    "matplotlib.rc('font', **font)"
   ],
   "metadata": {
    "collapsed": false,
    "application/vnd.databricks.v1+cell": {
     "showTitle": false,
     "cellMetadata": {},
     "nuid": "8d3cdea7-eef8-4b4d-9ab8-e1a13f770974",
     "inputWidgets": {},
     "title": ""
    }
   },
   "outputs": [],
   "execution_count": null
  },
  {
   "cell_type": "code",
   "source": [
    "datalake_name = 'cadlstorejdlf4tf3x3bwg'\n"
   ],
   "metadata": {
    "collapsed": false,
    "application/vnd.databricks.v1+cell": {
     "showTitle": false,
     "cellMetadata": {},
     "nuid": "0ac62096-1165-41e4-8f09-45093bb760b8",
     "inputWidgets": {},
     "title": ""
    }
   },
   "outputs": [],
   "execution_count": null
  },
  {
   "cell_type": "code",
   "source": [
    "%fs ls adl://cadlstorejdlf4tf3x3bwg.azuredatalakestore.net/"
   ],
   "metadata": {
    "collapsed": false,
    "application/vnd.databricks.v1+cell": {
     "showTitle": false,
     "cellMetadata": {},
     "nuid": "572a9b33-0d5b-40c3-9765-f636e51071be",
     "inputWidgets": {},
     "title": ""
    }
   },
   "outputs": [],
   "execution_count": null
  },
  {
   "cell_type": "code",
   "source": [
    "%python\n",
    "configs = {\n",
    "  'fs.adl.oauth2.access.token.provider.type': 'CustomAccessTokenProvider',\n",
    "  'fs.adl.oauth2.access.token.custom.provider': spark.conf.get('spark.databricks.passthrough.adls.tokenProviderClassName')\n",
    "}\n",
    "dbutils.fs.mount(\n",
    "source = f'adl://{datalake_name}.azuredatalakestore.net/',\n",
    "mount_point = '/mnt/datalake',\n",
    "extra_configs = configs)"
   ],
   "metadata": {
    "collapsed": false,
    "application/vnd.databricks.v1+cell": {
     "showTitle": false,
     "cellMetadata": {},
     "nuid": "4164978e-1791-4919-88df-1c5f27400da3",
     "inputWidgets": {},
     "title": ""
    }
   },
   "outputs": [],
   "execution_count": null
  },
  {
   "cell_type": "code",
   "source": [
    "posts_output_path = f'adl://{datalake_name}.azuredatalakestore.net/posts.parquet'\n",
    "\n",
    "most_popular_questions_with_unique_tag_path = f'adl://{datalake_name}.azuredatalakestore.net/most_popular_questions_with_unique_tag.parquet'\n",
    "most_popular_answers_with_unique_tag_path = f'adl://{datalake_name}.azuredatalakestore.net/most_popular_answers_with_unique_tag.parquet'\n",
    "most_popular_accepted_answers_with_unique_tag_path = f'adl://{datalake_name}.azuredatalakestore.net/most_popular_accepted_answers_with_unique_tag.parquet'\n",
    "users_answers_with_most_popular_tags_parquet_path = f'adl://{datalake_name}.azuredatalakestore.net/users_answers_with_most_popular_tags.parquet'\n",
    "users_questions_and_answers_with_most_popular_tags_parquet_path = f'adl://{datalake_name}.azuredatalakestore.net/users_questions_and_answers_with_most_popular_tags.parquet\n",
    "\n",
    "lowest_popular_questions_with_unique_tag_path = f'adl://{datalake_name}.azuredatalakestore.net/lowest_popular_questions_with_unique_tag.parquet'\n",
    "lowest_popular_answers_with_unique_tag_path = f'adl://{datalake_name}.azuredatalakestore.net/lowest_popular_answers_with_unique_tag.parquet'\n",
    "lowest_popular_accepted_answers_with_unique_tag_path = f'adl://{datalake_name}.azuredatalakestore.net/lowest_popular_accepted_answers_with_unique_tag.parquet'\n",
    "users_answers_with_lowest_popular_tags_parquet_path = f'adl://{datalake_name}.azuredatalakestore.net/users_answers_with_lowest_popular_tags.parquet'\n",
    "users_questions_and_answers_with_lowest_popular_tags_parquet_path = f'adl://{datalake_name}.azuredatalakestore.net/users_questions_and_answers_with_lowest_popular_tags.parquet'"
   ],
   "metadata": {
    "collapsed": false,
    "application/vnd.databricks.v1+cell": {
     "showTitle": false,
     "cellMetadata": {},
     "nuid": "5ca27a6d-5889-4a3c-b58d-5b6391c15ee5",
     "inputWidgets": {},
     "title": ""
    }
   },
   "outputs": [],
   "execution_count": null
  },
  {
   "cell_type": "code",
   "execution_count": null,
   "outputs": [],
   "source": [
    "spark = SparkSession.builder.getOrCreate()"
   ],
   "metadata": {
    "collapsed": false
   }
  },
  {
   "cell_type": "code",
   "source": [
    "posts_df = spark.read.parquet(posts_output_path)\n",
    "\n",
    "most_popular_questions_with_unique_tag_df=spark.read.parquet(most_popular_questions_with_unique_tag_path)\n",
    "most_popular_answers_with_unique_tag_df=spark.read.parquet(most_popular_answers_with_unique_tag_path)\n",
    "most_popular_accepted_answers_with_unique_tag_df=spark.read.parquet(most_popular_accepted_answers_with_unique_tag_path)\n",
    "users_answers_with_most_popular_tags_df = spark.read.parquet(users_answers_with_most_popular_tags_parquet_path)\n",
    "users_questions_and_answers_with_most_popular_tags_df = spark.read.parquet(users_questions_and_answers_with_most_popular_tags_parquet_path)\n",
    "\n",
    "lowest_popular_questions_with_unique_tag_df=spark.read.parquet(lowest_popular_questions_with_unique_tag_path)\n",
    "lowest_popular_answers_with_unique_tag_df=spark.read.parquet(lowest_popular_answers_with_unique_tag_path)\n",
    "lowest_popular_accepted_answers_with_unique_tag_df=spark.read.parquet(lowest_popular_accepted_answers_with_unique_tag_path)\n",
    "users_answers_with_lowest_popular_tags_df = spark.read.parquet(users_answers_with_lowest_popular_tags_parquet_path)\n",
    "users_questions_and_answers_with_lowest_popular_tags_df = spark.read.parquet(users_questions_and_answers_with_lowest_popular_tags_parquet_path)"
   ],
   "metadata": {
    "collapsed": false,
    "application/vnd.databricks.v1+cell": {
     "showTitle": false,
     "cellMetadata": {},
     "nuid": "dc926b81-6e54-420d-9f09-8edbf2e56c6b",
     "inputWidgets": {},
     "title": ""
    }
   },
   "outputs": [],
   "execution_count": null
  },
  {
   "cell_type": "code",
   "execution_count": null,
   "outputs": [],
   "source": [
    "questions_df = posts_df.filter(col('_PostTypeId') == 1)\n",
    "\n",
    "answers_df = posts_df.filter(col('_PostTypeId') == 2)"
   ],
   "metadata": {
    "collapsed": false
   }
  },
  {
   "cell_type": "markdown",
   "source": [
    "## Percentage distribution of cases when not accepted answers is the highest scored answer in the question"
   ],
   "metadata": {
    "collapsed": false
   }
  },
  {
   "cell_type": "code",
   "source": [
    "accepted_answers_df = answers_df.alias('a').join(questions_df.alias('q'), col('a.Id') == col('q.AcceptedAnswerId')) \\\n",
    "    .select(col('q.Id').alias('AcceptedAnswerQuestionId'), col('a.Id').alias('AcceptedAnswerId'), col('a.Score').alias('AcceptedAnswerScore'))\n",
    "\n",
    "regular_answers_highest_score_without_accepted_per_question = answers_df \\\n",
    "    .alias('a') \\\n",
    "    .join(accepted_answers_df.alias('aa'), col('a.Id') == col('aa.AcceptedAnswerId'), how='left_anti' ) \\\n",
    "    .select(col('a.ParentId'), col('a.Id').alias('RegularAnswerId'), col('a.Score').alias('RegularAnswerScore')) \\\n",
    "    .groupBy('a.ParentId') \\\n",
    "    .max('RegularAnswerScore') \\\n",
    "    .select(col('a._ParentId').alias('RegularAnswerQuestionId'), col('max(RegularAnswerScore)').alias('HighestRegularAnswerScore'))"
   ],
   "metadata": {
    "collapsed": false,
    "application/vnd.databricks.v1+cell": {
     "showTitle": false,
     "cellMetadata": {},
     "nuid": "72ffdbd5-7e62-4e1a-8a7b-dc272a8f3fb7",
     "inputWidgets": {},
     "title": ""
    }
   },
   "outputs": [],
   "execution_count": null
  },
  {
   "cell_type": "code",
   "source": [
    "number_of_accepted_answers = accepted_answers_df.count()\n",
    "\n",
    "number_of_regular_answers_score_that_is_higher_than_accepted_answer_score = accepted_answers_df.alias('aa') \\\n",
    "    .join(regular_answers_highest_score_without_accepted_per_question.alias('ra'), col('aa.AcceptedAnswerQuestionId') == col('ra.RegularAnswerQuestionId') ) \\\n",
    "    .filter(col('ra.HighestRegularAnswerScore') > col('aa.AcceptedAnswerScore')).count()\n",
    "\n",
    "number_of_accepted_answers_score_is_highest_in_question = number_of_accepted_answers - number_of_regular_answers_score_that_is_higher_than_accepted_answer_score\n",
    "\n",
    "print(f'Check {number_of_accepted_answers - number_of_accepted_answers_score_is_highest_in_question - number_of_regular_answers_score_that_is_higher_than_accepted_answer_score }') #0"
   ],
   "metadata": {
    "collapsed": false,
    "application/vnd.databricks.v1+cell": {
     "showTitle": false,
     "cellMetadata": {},
     "nuid": "536e1c38-ffac-489a-8a7a-7cea150e4e1d",
     "inputWidgets": {},
     "title": ""
    }
   },
   "outputs": [],
   "execution_count": null
  },
  {
   "cell_type": "markdown",
   "source": [
    "## Percentage distribution of cases when not accepted answers is the highest scored answer in the question - PLOT"
   ],
   "metadata": {
    "collapsed": false
   }
  },
  {
   "cell_type": "code",
   "source": [
    "labels = 'Najwyżej ocenia odpowiedź w pytaniu \\n to zaakceptowana odpowiedź', 'Najwyżej ocenia odpowiedź w pytaniu \\n to nie zaakceptowana odpowiedź'\n",
    "sizes = [number_of_accepted_answers_score_is_highest_in_question, number_of_regular_answers_score_that_is_higher_than_accepted_answer_score]\n",
    "explode = (0, 0.1)\n",
    "\n",
    "fig1, ax = plt.subplots(figsize=(10, 10), facecolor='white', dpi=100)\n",
    "ax.pie(sizes, explode=explode, autopct='%1.1f%%')\n",
    "ax.axis('equal')\n",
    "\n",
    "ax.legend(labels, loc='center left', bbox_to_anchor=(1, 0, 0.5, 1))\n",
    "plt.title('Procentowa ilość przypadków kiedy \\n najwyżej oceniana odpowiedź to nie zaakceptowana odpowiedź \\n według danych z portalu stackoverflow.com')\n",
    "\n",
    "plt.savefig('comparision_of_number_of_accepted_answers_highest_score_to_highest_score_regular_answer_in_question.png', facecolor='white')\n",
    "plt.show()"
   ],
   "metadata": {
    "collapsed": false,
    "application/vnd.databricks.v1+cell": {
     "showTitle": false,
     "cellMetadata": {},
     "nuid": "d8379345-6978-495a-8ac7-8e526595dcee",
     "inputWidgets": {},
     "title": ""
    }
   },
   "outputs": [],
   "execution_count": null
  },
  {
   "cell_type": "markdown",
   "source": [
    "## Distribution of the Accepted and Not Accepted Answers in Score matter - Average, Standard Deviation, Minimum, Maximum"
   ],
   "metadata": {
    "collapsed": false
   }
  },
  {
   "cell_type": "code",
   "source": [
    "accepted_answers_df = answers_df.alias('a').join(questions_df.alias('q'), col('a.Id') == col('q.AcceptedAnswerId')) \\\n",
    ".select(col('a.Id').alias('AcceptedAnswerId'), col('a._Score').alias('AcceptedAnswerScore'))\n",
    "\n",
    "max_score_in_accepted_answers_value = accepted_answers_df \\\n",
    "    .select(max('AcceptedAnswerScore').alias('HighestScoreInAllAcceptedAnswers')) \\\n",
    "    .first()['HighestScoreInAllAcceptedAnswers']\n",
    "\n",
    "print(f'Max Score in All Accepted Answers: {max_score_in_accepted_answers_value}')\n",
    "\n",
    "min_score_in_accepted_answers_value = accepted_answers_df \\\n",
    "    .select(min('AcceptedAnswerScore').alias('LowestScoreInAllAcceptedAnswers')) \\\n",
    "    .first()['LowestScoreInAllAcceptedAnswers']\n",
    "\n",
    "print(f'Min Score in All Accepted Answers: {min_score_in_accepted_answers_value}')\n",
    "\n",
    "avg_score_in_accepted_answers_value = accepted_answers_df \\\n",
    "    .select(avg('AcceptedAnswerScore').alias('AverageScoreInAllAcceptedAnswers')) \\\n",
    "    .first()['AverageScoreInAllAcceptedAnswers']\n",
    "\n",
    "print(f'Average Score in All Accepted Answers: {np.round(avg_score_in_accepted_answers_value)}')\n",
    "\n",
    "standard_deviation_score_in_accepted_answers_value = accepted_answers_df \\\n",
    "    .select(stddev('AcceptedAnswerScore').alias('StandardDeviationScoreInAllAcceptedAnswers')) \\\n",
    "    .first()['StandardDeviationScoreInAllAcceptedAnswers']\n",
    "\n",
    "print(f'Standard Deviation Score in All Accepted Answers: {np.round(standard_deviation_score_in_accepted_answers_value)}')"
   ],
   "metadata": {
    "collapsed": false,
    "application/vnd.databricks.v1+cell": {
     "showTitle": false,
     "cellMetadata": {},
     "nuid": "dfc204cd-9ee8-482f-86b2-4025d71f346d",
     "inputWidgets": {},
     "title": ""
    }
   },
   "outputs": [],
   "execution_count": null
  },
  {
   "cell_type": "code",
   "source": [
    "regular_answers_df = answers_df \\\n",
    ".alias('a') \\\n",
    ".join(accepted_answers_df.alias('aa'), col('a.Id') == col('aa.AcceptedAnswerId'), how='left_anti' ) \\\n",
    ".select(col('a.Id').alias('RegularAnswerId'), col('a.Score').alias('RegularAnswerScore'))"
   ],
   "metadata": {
    "application/vnd.databricks.v1+cell": {
     "showTitle": false,
     "cellMetadata": {},
     "nuid": "ac3dfbc2-825b-4fbe-adc5-2469d2c69e41",
     "inputWidgets": {},
     "title": ""
    }
   },
   "outputs": [],
   "execution_count": null
  },
  {
   "cell_type": "code",
   "source": [
    "max_score_in_regular_answers_value = regular_answers_df \\\n",
    "    .select(max('RegularAnswerScore').alias('HighestScoreInAllRegularAnswers')) \\\n",
    "    .first()['HighestScoreInAllRegularAnswers']\n",
    "\n",
    "print(f'Max Score in All Accepted Answers: {max_score_in_regular_answers_value}')\n",
    "\n",
    "min_score_in_regular_answers_value = regular_answers_df \\\n",
    "    .select(min('RegularAnswerScore').alias('LowestScoreInAllRegularAnswers')) \\\n",
    "    .first()['LowestScoreInAllRegularAnswers']\n",
    "\n",
    "print(f'Min Score in All Accepted Answers: {min_score_in_regular_answers_value}')\n",
    "\n",
    "avg_score_in_regular_answers_value = regular_answers_df \\\n",
    "    .select(avg('RegularAnswerScore').alias('AverageScoreInAllRegularAnswers')) \\\n",
    "    .first()['AverageScoreInAllRegularAnswers']\n",
    "\n",
    "print(f'Average Score in All Accepted Answers: {np.round(avg_score_in_regular_answers_value)}')\n",
    "\n",
    "standard_deviation_score_in_regular_answers_value = regular_answers_df \\\n",
    "    .select(stddev('RegularAnswerScore').alias('StandardDeviationScoreInAllRegularAnswers')) \\\n",
    "    .first()['StandardDeviationScoreInAllRegularAnswers']\n",
    "\n",
    "print(f'Standard Deviation in All Accepted Answers: {np.round(standard_deviation_score_in_regular_answers_value)}')"
   ],
   "metadata": {
    "application/vnd.databricks.v1+cell": {
     "showTitle": false,
     "cellMetadata": {},
     "nuid": "3af71a3e-9313-4074-a930-08ac518c8c17",
     "inputWidgets": {},
     "title": ""
    }
   },
   "outputs": [],
   "execution_count": null
  },
  {
   "cell_type": "markdown",
   "source": [
    "## Distribution of the Accepted and Not Accepted Answers in Score matter - Average, Standard Deviation, Minimum, Maximum - BOXPLOT"
   ],
   "metadata": {
    "collapsed": false
   }
  },
  {
   "cell_type": "code",
   "source": [
    "accepted_answers_pandas_df = accepted_answers_df.toPandas()\n",
    "regular_answers_pandas_df = regular_answers_df.toPandas()\n",
    "fig, ax = plt.subplots(1, 2, figsize=(10, 10), facecolor='white', dpi=100)\n",
    "\n",
    "average_score_values = pd.DataFrame([np.around(avg_score_in_accepted_answers_value, decimals = 2), np.around(avg_score_in_regular_answers_value, decimals = 2)])\n",
    "standard_deviation_score_values = pd.DataFrame([np.around(standard_deviation_score_in_accepted_answers_value, decimals = 2), np.around(standard_deviation_score_in_regular_answers_value, decimals = 2) ])\n",
    "\n",
    "# showfliers=True\n",
    "standard_distribution_plot = ax[0].boxplot([accepted_answers_pandas_df['AcceptedAnswerScore'], regular_answers_pandas_df['RegularAnswerScore']], showmeans=True)\n",
    "\n",
    "for i, line in enumerate(standard_distribution_plot['medians']):\n",
    "    x, y = line.get_xydata()[1]\n",
    "    text = f' μ:{average_score_values[0][i]} \\n σ:{standard_deviation_score_values[0][i]}'\n",
    "    ax[0].annotate(text, xy=(x, y))\n",
    "\n",
    "ax[0].set_xticklabels(['Zaakceptowane', 'Pozostałe'])\n",
    "ax[0].set_ylabel('Ocena odpowiedzi', labelpad= 5.0)\n",
    "ax[0].set_xlabel('Rodzaj odpowiedzi', labelpad= 10.0)\n",
    "\n",
    "# showfliers=True\n",
    "\n",
    "standard_distribution_plot = ax[1].boxplot([accepted_answers_pandas_df['AcceptedAnswerScore'], regular_answers_pandas_df['RegularAnswerScore']], showmeans=True, showfliers=False)\n",
    "\n",
    "for i, line in enumerate(standard_distribution_plot['medians']):\n",
    "    x, y = line.get_xydata()[1]\n",
    "    text = f' μ:{average_score_values[0][i]} \\n σ:{standard_deviation_score_values[0][i]}'\n",
    "    ax[1].annotate(text, xy=(x, y))\n",
    "\n",
    "ax[1].set_xticklabels(['Zaakceptowane', 'Pozostałe'])\n",
    "ax[1].set_xlabel('Rodzaj odpowiedzi', labelpad= 10.0)\n",
    "\n",
    "plt.suptitle('Rozkład ocen odpowiedzi zaakceptowanych i pozostałych \\n według danych z portalu stackoverflow.com \\n gdzie: μ: Średnia z ocen odpowiedzi, σ: Odchylenie standardowe z ocen odpowiedzi')\n",
    "plt.savefig('distribution_between_accepted_and_regular_answers_based_on_score.png', facecolor='white')\n",
    "plt.show()"
   ],
   "metadata": {
    "collapsed": false,
    "application/vnd.databricks.v1+cell": {
     "showTitle": false,
     "cellMetadata": {},
     "nuid": "6d67a610-9a92-45e0-8a1a-69b047c5b7e5",
     "inputWidgets": {},
     "title": ""
    }
   },
   "outputs": [],
   "execution_count": null
  },
  {
   "cell_type": "markdown",
   "source": [
    "## Average Response Time from question appearing to accepted answer"
   ],
   "metadata": {
    "collapsed": false
   }
  },
  {
   "cell_type": "code",
   "source": [
    "top_most_popular_questions_accepted_answer_response_time_df = most_popular_questions_with_unique_tag_df.alias('q').join(most_popular_accepted_answers_with_unique_tag_df.alias('a'), col('q.AcceptedAnswerId') == col('a.Id')) \\\n",
    "    .select(col('q.Tag'), col('q.CreationDate').alias('QuestionCreationDate'), col('a.CreationDate').alias('AcceptedAnswerCreationDate')) \\\n",
    "    .withColumn('AcceptedAnswerResponseTimeSeconds', col('AcceptedAnswerCreationDate').cast('long') - col('QuestionCreationDate').cast('long')) \\\n",
    "    .withColumn('AcceptedAnswerResponseTimeInMinutes', round(col('AcceptedAnswerResponseTimeSeconds')/60)) \\\n",
    "    .withColumn('AcceptedAnswerResponseTimeInHours', round(col('AcceptedAnswerResponseTimeSeconds')/3600)) \\\n",
    "    .withColumn('AcceptedAnswerResponseTimeInDays', round(col('AcceptedAnswerResponseTimeSeconds')/(24*3600))) \\\n",
    "    .sort(desc('AcceptedAnswerResponseTimeSeconds'), desc('AcceptedAnswerResponseTimeInMinutes'), desc('AcceptedAnswerResponseTimeInHours'), desc('AcceptedAnswerResponseTimeInDays'))\n",
    "\n",
    "top_lowest_popular_questions_accepted_answer_response_time_df = lowest_popular_questions_with_unique_tag_df.alias('q').join(lowest_popular_accepted_answers_with_unique_tag_df.alias('a'), col('q.AcceptedAnswerId') == col('a.Id')) \\\n",
    "    .select(col('q.Tag'), col('q.CreationDate').alias('QuestionCreationDate'), col('a.CreationDate').alias('AcceptedAnswerCreationDate')) \\\n",
    "    .withColumn('AcceptedAnswerResponseTimeSeconds', col('AcceptedAnswerCreationDate').cast('long') - col('QuestionCreationDate').cast('long')) \\\n",
    "    .withColumn('AcceptedAnswerResponseTimeInMinutes', round(col('AcceptedAnswerResponseTimeSeconds')/60)) \\\n",
    "    .withColumn('AcceptedAnswerResponseTimeInHours', round(col('AcceptedAnswerResponseTimeSeconds')/3600)) \\\n",
    "    .withColumn('AcceptedAnswerResponseTimeInDays', round(col('AcceptedAnswerResponseTimeSeconds')/(24*3600))) \\\n",
    "    .sort(desc('AcceptedAnswerResponseTimeSeconds'), desc('AcceptedAnswerResponseTimeInMinutes'), desc('AcceptedAnswerResponseTimeInHours'), desc('AcceptedAnswerResponseTimeInDays'))"
   ],
   "metadata": {
    "collapsed": false,
    "application/vnd.databricks.v1+cell": {
     "showTitle": false,
     "cellMetadata": {},
     "nuid": "1ed36f0f-de9a-4037-8846-28ec7cf45387",
     "inputWidgets": {},
     "title": ""
    }
   },
   "outputs": [],
   "execution_count": null
  },
  {
   "cell_type": "code",
   "source": [
    "average_time_need_to_get_accepted_answer_for_most_popular_questions_df = top_most_popular_questions_accepted_answer_response_time_df \\\n",
    "    .groupBy('Tag') \\\n",
    "    .agg(round(avg('AcceptedAnswerResponseTimeInDays'), 1).alias('AverageAcceptedAnswerResponseTimeInDays'))\\\n",
    "    .sort(asc('AverageAcceptedAnswerResponseTimeInDays'))\n",
    "\n",
    "average_time_need_to_get_accepted_answer_for_lowest_popular_questions_df = top_lowest_popular_questions_accepted_answer_response_time_df \\\n",
    "    .groupBy('Tag') \\\n",
    "    .agg(round(avg('AcceptedAnswerResponseTimeInDays'), 1).alias('AverageAcceptedAnswerResponseTimeInDays'))\\\n",
    "    .sort(asc('AverageAcceptedAnswerResponseTimeInDays'))"
   ],
   "metadata": {
    "collapsed": false,
    "application/vnd.databricks.v1+cell": {
     "showTitle": false,
     "cellMetadata": {},
     "nuid": "ee9ee42d-aced-4d03-8f9c-148a77f3c25d",
     "inputWidgets": {},
     "title": ""
    }
   },
   "outputs": [],
   "execution_count": null
  },
  {
   "cell_type": "markdown",
   "source": [
    "## Average Response Time from question appearing to accepted answer - PLOT"
   ],
   "metadata": {
    "collapsed": false
   }
  },
  {
   "cell_type": "code",
   "source": [
    "average_time_need_to_get_accepted_answer_for_most_popular_questions_pandas_df = average_time_need_to_get_accepted_answer_for_most_popular_questions_df.toPandas()\n",
    "\n",
    "fig, ax = plt.subplots(figsize=(10, 10), facecolor='white', dpi=100)\n",
    "plt.barh(average_time_need_to_get_accepted_answer_for_most_popular_questions_pandas_df['Tag'], average_time_need_to_get_accepted_answer_for_most_popular_questions_pandas_df['AverageAcceptedAnswerResponseTimeInDays'])\n",
    "plt.ticklabel_format(axis='x', style='plain')\n",
    "\n",
    "plt.ylabel('Technologie')\n",
    "plt.xlabel('Ilość dni', labelpad= 20.0)\n",
    "plt.title('Średni czas od pojawienia się pytania do \\n pojawienia się zaakceptowanej odpowiedzi w najpopularniejszych \\n technologiach według danych z portalu stackoverflow.com')\n",
    "plt.savefig('average_time_need_to_get_accepted_answer_for_most_popular_questions.png', facecolor='white')\n",
    "plt.show()"
   ],
   "metadata": {
    "collapsed": false,
    "application/vnd.databricks.v1+cell": {
     "showTitle": false,
     "cellMetadata": {},
     "nuid": "3bd3293f-2fb1-4d60-9ce5-2e6007cf631b",
     "inputWidgets": {},
     "title": ""
    }
   },
   "outputs": [],
   "execution_count": null
  },
  {
   "cell_type": "code",
   "source": [
    "average_time_need_to_get_accepted_answer_for_lowest_popular_questions_pandas_df = average_time_need_to_get_accepted_answer_for_lowest_popular_questions_df.toPandas()\n",
    "\n",
    "fig, ax = plt.subplots(figsize=(10, 10), facecolor='white', dpi=100)\n",
    "plt.barh(average_time_need_to_get_accepted_answer_for_lowest_popular_questions_pandas_df['Tag'], average_time_need_to_get_accepted_answer_for_lowest_popular_questions_pandas_df['AverageAcceptedAnswerResponseTimeInDays'])\n",
    "plt.ticklabel_format(axis='x', style='plain')\n",
    "\n",
    "plt.ylabel('Technologie')\n",
    "plt.xlabel('Ilość dni', labelpad= 20.0)\n",
    "plt.title('Średni czas od pojawienia się pytania do \\n pojawienia się zaakceptowanej odpowiedzi w najmniej popularnych \\n technologiach według danych z portalu stackoverflow.com')\n",
    "plt.savefig('average_time_need_to_get_accepted_answer_for_lowest_popular_questions.png', facecolor='white')\n",
    "plt.show()"
   ],
   "metadata": {
    "collapsed": false,
    "application/vnd.databricks.v1+cell": {
     "showTitle": false,
     "cellMetadata": {},
     "nuid": "f1cbabfa-4987-4b22-b411-7915982b0d4d",
     "inputWidgets": {},
     "title": ""
    }
   },
   "outputs": [],
   "execution_count": null
  },
  {
   "cell_type": "markdown",
   "source": [
    "## Comparison Analysis Technologies based on: Number of Users involved in Questions and Answers, Users Reputation based on  Answers, Average Time need it to get an answer and Average Answer score in the top 10th MOST popular Technologies due to StackOverflow Professionals Survey based on StackOverflow Questions?\n"
   ],
   "metadata": {
    "collapsed": false
   }
  },
  {
   "cell_type": "code",
   "execution_count": null,
   "outputs": [],
   "source": [
    "filter_based_duplicated_column = ['Id', 'Tag']\n",
    "\n",
    "average_time_need_to_get_accepted_answer_for_most_popular_questions_df = top_most_popular_questions_accepted_answer_response_time_df \\\n",
    "    .groupBy('Tag') \\\n",
    "    .agg(round(avg('AcceptedAnswerResponseTimeInDays'), 1).alias('AverageAcceptedAnswerResponseTimeInDays'))\\\n",
    "    .sort(asc('AverageAcceptedAnswerResponseTimeInDays'))\n",
    "\n",
    "average_score_most_popular_answers_with_unique_tag_df = most_popular_answers_with_unique_tag_df \\\n",
    "    .groupBy('Tag') \\\n",
    "    .agg(round(avg('Score'), 1).alias('AverageScore'))\\\n",
    "    .sort(asc('AverageScore'))\n",
    "\n",
    "number_of_unique_users_involved_in_questions_and_answers_in_most_popular_tags_df = users_questions_and_answers_with_most_popular_tags_df \\\n",
    "    .withColumn('Filter_Id_Tag', array_sort(array(*filter_based_duplicated_column))) \\\n",
    "    .drop_duplicates(['Filter_Id_Tag']) \\\n",
    "    .drop('Filter_Id_Tag') \\\n",
    "    .groupBy(col('Tag')) \\\n",
    "    .count() \\\n",
    "    .sort(asc('count'))\n",
    "\n",
    "sum_of_reputation_all_unique_users_involved_in_answers_in_most_popular_tags_df = users_answers_with_most_popular_tags_df \\\n",
    "    .withColumn('Filter_Id_Tag', array_sort(array(*filter_based_duplicated_column))) \\\n",
    "    .drop_duplicates(['Filter_Id_Tag']) \\\n",
    "    .drop('Filter_Id_Tag') \\\n",
    "    .groupBy(col('Tag')) \\\n",
    "    .agg(sum(col('Reputation')).cast(LongType()).alias('SumOfUsersReputations')) \\\n",
    "    .sort(asc('SumOfUsersReputations'))"
   ],
   "metadata": {
    "collapsed": false
   }
  },
  {
   "cell_type": "code",
   "execution_count": null,
   "outputs": [],
   "source": [
    "most_popular_rating_df = average_time_need_to_get_accepted_answer_for_most_popular_questions_df.alias('at') \\\n",
    "    .join(average_score_most_popular_answers_with_unique_tag_df.alias('as'), col('at.Tag') == col('as.Tag')) \\\n",
    "    .join(number_of_unique_users_involved_in_questions_and_answers_in_most_popular_tags_df.alias('un'), col('at.Tag') == col('un.Tag')) \\\n",
    "    .join(sum_of_reputation_all_unique_users_involved_in_answers_in_most_popular_tags_df.alias('ur'), col('at.Tag') == col('ur.Tag')) \\\n",
    "    .select(col('at.Tag').alias('Tag'), col('at.AverageAcceptedAnswerResponseTimeInDays').alias('AverageAcceptedAnswerResponseTimeInDays'), col('as.AverageScore').alias('AverageScore'), \\\n",
    "            col('un.count').alias('NumberOfUniqueUsers'), col('ur.SumOfUsersReputations').alias('SumOfUsersReputations')) \\\n",
    "    .withColumn('Rating', round(col('AverageAcceptedAnswerResponseTimeInDays') + col('AverageScore') + col('NumberOfUniqueUsers') + col('SumOfUsersReputations')).cast(LongType())) \\\n",
    "    .sort(asc('Rating'))\n",
    "\n",
    "most_popular_rating_df.show()"
   ],
   "metadata": {
    "collapsed": false
   }
  },
  {
   "cell_type": "markdown",
   "source": [
    "## Comparison Analysis Technologies based on: Number of Users involved in Questions and Answers, Users Reputation based on  Answers, Average Time need it to get an answer and Average Answer score in the top 10th MOST popular Technologies due to StackOverflow Professionals Survey based on StackOverflow Questions? - PLOT\n"
   ],
   "metadata": {
    "collapsed": false
   }
  },
  {
   "cell_type": "code",
   "execution_count": null,
   "outputs": [],
   "source": [
    "most_popular_rating_pandas_df = most_popular_rating_df.toPandas()\n",
    "\n",
    "fig, ax = plt.subplots(figsize=(10,10), facecolor='white', dpi=100)\n",
    "plt.barh(most_popular_rating_pandas_df['Tag'], most_popular_rating_pandas_df['Rating'])\n",
    "plt.ticklabel_format(axis='x', style='plain')\n",
    "\n",
    "plt.xticks(rotation = 45)\n",
    "plt.ylabel('Technologie')\n",
    "plt.xlabel('Suma punktów oceny', labelpad= 20.0)\n",
    "plt.title('Ocena dojrzałości i siły społeczności najpopularniejszych \\n technologii według danych z portalu stackoverflow.com')\n",
    "plt.savefig('most_popular_rating.png', facecolor='white')\n",
    "plt.show()"
   ],
   "metadata": {
    "collapsed": false
   }
  },
  {
   "cell_type": "markdown",
   "source": [
    "## Comparison Analysis Technologies based on: Number of Users involved in Questions and Answers, Users Reputation based on  Answers, Average Time need it to get an answer and Average Answer score in the top 10th LEAST popular Technologies due to StackOverflow Professionals Survey based on StackOverflow Questions?\n"
   ],
   "metadata": {
    "collapsed": false
   }
  },
  {
   "cell_type": "code",
   "execution_count": null,
   "outputs": [],
   "source": [
    "average_time_need_to_get_accepted_answer_for_lowest_popular_questions_df = top_lowest_popular_questions_accepted_answer_response_time_df \\\n",
    "    .groupBy('Tag') \\\n",
    "    .agg(round(avg('AcceptedAnswerResponseTimeInDays'), 1).alias('AverageAcceptedAnswerResponseTimeInDays'))\\\n",
    "    .sort(asc('AverageAcceptedAnswerResponseTimeInDays'))\n",
    "\n",
    "average_score_lowest_popular_answers_with_unique_tag_df = lowest_popular_answers_with_unique_tag_df \\\n",
    "    .groupBy('Tag') \\\n",
    "    .agg(round(avg('Score'), 1).alias('AverageScore'))\\\n",
    "    .sort(asc('AverageScore'))\n",
    "\n",
    "number_of_unique_users_involved_in_questions_and_answers_in_lowest_popular_tags_df = users_questions_and_answers_with_lowest_popular_tags_df \\\n",
    "    .withColumn('Filter_Id_Tag', array_sort(array(*filter_based_duplicated_column))) \\\n",
    "    .drop_duplicates(['Filter_Id_Tag']) \\\n",
    "    .drop('Filter_Id_Tag') \\\n",
    "    .groupBy(col('Tag')) \\\n",
    "    .count() \\\n",
    "    .sort(asc('count'))\n",
    "\n",
    "sum_of_reputation_all_unique_users_involved_in_answers_in_lowest_popular_tags_df = users_answers_with_lowest_popular_tags_df \\\n",
    "    .withColumn('Filter_Id_Tag', array_sort(array(*filter_based_duplicated_column))) \\\n",
    "    .drop_duplicates(['Filter_Id_Tag']) \\\n",
    "    .drop('Filter_Id_Tag') \\\n",
    "    .groupBy(col('Tag')) \\\n",
    "    .agg(sum(col('Reputation')).cast(LongType()).alias('SumOfUsersReputations')) \\\n",
    "    .sort(asc('SumOfUsersReputations'))"
   ],
   "metadata": {
    "collapsed": false
   }
  },
  {
   "cell_type": "code",
   "execution_count": null,
   "outputs": [],
   "source": [
    "lowest_popular_rating_df = average_time_need_to_get_accepted_answer_for_lowest_popular_questions_df.alias('at') \\\n",
    "    .join(average_score_lowest_popular_answers_with_unique_tag_df.alias('as'), col('at.Tag') == col('as.Tag')) \\\n",
    "    .join(number_of_unique_users_involved_in_questions_and_answers_in_lowest_popular_tags_df.alias('un'), col('at.Tag') == col('un.Tag')) \\\n",
    "    .join(sum_of_reputation_all_unique_users_involved_in_answers_in_lowest_popular_tags_df.alias('ur'), col('at.Tag') == col('ur.Tag')) \\\n",
    "    .select(col('at.Tag').alias('Tag'), col('at.AverageAcceptedAnswerResponseTimeInDays').alias('AverageAcceptedAnswerResponseTimeInDays'), col('as.AverageScore').alias('AverageScore'), \\\n",
    "            col('un.count').alias('NumberOfUniqueUsers'), col('ur.SumOfUsersReputations').alias('SumOfUsersReputations')) \\\n",
    "    .withColumn('Rating', round(col('AverageAcceptedAnswerResponseTimeInDays') + col('AverageScore') + col('NumberOfUniqueUsers') + col('SumOfUsersReputations')).cast(LongType())) \\\n",
    "    .sort(asc('Rating'))\n",
    "\n",
    "lowest_popular_rating_df.show()"
   ],
   "metadata": {
    "collapsed": false
   }
  },
  {
   "cell_type": "markdown",
   "source": [
    "## Comparison Analysis Technologies based on: Number of Users involved in Questions and Answers, Users Reputation based on  Answers, Average Time need it to get an answer and Average Answer score in the top 10th LEAST popular Technologies due to StackOverflow Professionals Survey based on StackOverflow Questions? - PLOT\n"
   ],
   "metadata": {
    "collapsed": false
   }
  },
  {
   "cell_type": "code",
   "execution_count": null,
   "outputs": [],
   "source": [
    "lowest_popular_rating_pandas_df = lowest_popular_rating_df.toPandas()\n",
    "\n",
    "fig, ax = plt.subplots(figsize=(10,10), facecolor='white', dpi=100)\n",
    "plt.barh(lowest_popular_rating_pandas_df['Tag'], lowest_popular_rating_pandas_df['Rating'])\n",
    "plt.ticklabel_format(axis='x', style='plain')\n",
    "\n",
    "plt.xticks(rotation=45)\n",
    "plt.ylabel('Technologie')\n",
    "plt.xlabel('Suma punktów oceny', labelpad= 20.0)\n",
    "plt.title('Ocena dojrzałości i siły społeczności najmniej popularnych \\n technologii według danych z portalu stackoverflow.com')\n",
    "plt.savefig('lowest_popular_rating.png', facecolor='white')\n",
    "plt.show()"
   ],
   "metadata": {
    "collapsed": false
   }
  }
 ],
 "metadata": {
  "kernelspec": {
   "display_name": "Python 3",
   "language": "python",
   "name": "python3"
  },
  "language_info": {
   "mimetype": "text/x-python",
   "name": "python",
   "pygments_lexer": "ipython2",
   "codemirror_mode": {
    "name": "ipython",
    "version": 2
   },
   "version": "2.7.6",
   "nbconvert_exporter": "python",
   "file_extension": ".py"
  },
  "application/vnd.databricks.v1+notebook": {
   "notebookName": "exploration_of_stackoverflow_data",
   "dashboards": [],
   "notebookMetadata": {
    "pythonIndentUnit": 4,
    "mostRecentlyExecutedCommandWithImplicitDF": {
     "commandId": 3923359264760189,
     "dataframes": [
      "_sqldf"
     ]
    }
   },
   "language": "python",
   "widgets": {},
   "notebookOrigID": 3923359264760180
  }
 },
 "nbformat": 4,
 "nbformat_minor": 0
}
