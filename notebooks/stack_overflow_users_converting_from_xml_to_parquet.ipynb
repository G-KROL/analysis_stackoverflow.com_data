{
 "cells": [
  {
   "cell_type": "markdown",
   "source": [
    "\n",
    " Before you start using this notebook install **com.databricks.spark.xml** Maven module on your Apache Spark and then change **datalake_name** in the Python variable and file system command"
   ],
   "metadata": {
    "collapsed": false
   }
  },
  {
   "cell_type": "code",
   "source": [
    "from pyspark.sql.types import *\n",
    "from pyspark.sql import SparkSession\n",
    "from pyspark.sql.functions import *"
   ],
   "metadata": {
    "application/vnd.databricks.v1+cell": {
     "showTitle": false,
     "cellMetadata": {},
     "nuid": "72d645d8-a1f7-46ce-8ead-e2197bd0cd3e",
     "inputWidgets": {},
     "title": ""
    }
   },
   "outputs": [],
   "execution_count": null
  },
  {
   "cell_type": "code",
   "source": [
    "datalake_name = 'cadlstoremke4wb3ui2s6q'"
   ],
   "metadata": {
    "application/vnd.databricks.v1+cell": {
     "showTitle": false,
     "cellMetadata": {},
     "nuid": "140340d9-e82d-4b0f-848f-4d0fe4fd7adf",
     "inputWidgets": {},
     "title": ""
    }
   },
   "outputs": [],
   "execution_count": null
  },
  {
   "cell_type": "code",
   "source": [
    "%fs ls adl://cadlstoremke4wb3ui2s6q.azuredatalakestore.net/"
   ],
   "metadata": {
    "application/vnd.databricks.v1+cell": {
     "showTitle": false,
     "cellMetadata": {},
     "nuid": "27886683-cc53-4f05-ac61-fd1f26cd5f12",
     "inputWidgets": {},
     "title": ""
    }
   },
   "outputs": [],
   "execution_count": null
  },
  {
   "cell_type": "code",
   "source": [
    "%python\n",
    "configs = {\n",
    "  'fs.adl.oauth2.access.token.provider.type': 'CustomAccessTokenProvider',\n",
    "  'fs.adl.oauth2.access.token.custom.provider': spark.conf.get('spark.databricks.passthrough.adls.tokenProviderClassName')\n",
    "}\n",
    "dbutils.fs.mount(\n",
    "source = f'adl://{datalake_name}.azuredatalakestore.net/',\n",
    "mount_point = '/mnt/datalake',\n",
    "extra_configs = configs)"
   ],
   "metadata": {
    "application/vnd.databricks.v1+cell": {
     "showTitle": false,
     "cellMetadata": {},
     "nuid": "59d6bda9-f19b-4ac6-872f-89dd31207041",
     "inputWidgets": {},
     "title": ""
    }
   },
   "outputs": [],
   "execution_count": null
  },
  {
   "cell_type": "code",
   "execution_count": null,
   "outputs": [],
   "source": [
    "%sh\n",
    "\n",
    "sudo apt-get -y install p7zip-full\n",
    "\n",
    "wget https://archive.org/download/stackexchange/stackoverflow.com-Users.7z\n",
    "\n",
    "7za x stackoverflow.com-Users.7z\n",
    "\n",
    "ls -al"
   ],
   "metadata": {
    "collapsed": false
   }
  },
  {
   "cell_type": "code",
   "execution_count": null,
   "outputs": [],
   "source": [
    "%python\n",
    "\n",
    "dbutils.fs.mv('file:/databricks/driver/Users.xml', f'{path}')"
   ],
   "metadata": {
    "collapsed": false
   }
  },
  {
   "cell_type": "code",
   "source": [
    "path = f'adl://{datalake_name}.azuredatalakestore.net/Users.xml'\n",
    "users_output_path = f'adl://{datalake_name}.azuredatalakestore.net/users.parquet'\n",
    "\n",
    "\n",
    "most_popular_questions_with_unique_tag_parquet_path = f'adl://{datalake_name}.azuredatalakestore.net/most_popular_questions_with_unique_tag.parquet'\n",
    "most_popular_answers_with_unique_tag_parquet_path = f'adl://{datalake_name}.azuredatalakestore.net/most_popular_answers_with_unique_tag.parquet'\n",
    "most_popular_accepted_answers_with_unique_tag_parquet_path = f'adl://{datalake_name}.azuredatalakestore.net/most_popular_accepted_answers_with_unique_tag.parquet'\n",
    "\n",
    "\n",
    "lowest_popular_questions_with_unique_tag_parquet_path = f'adl://{datalake_name}.azuredatalakestore.net/lowest_popular_questions_with_unique_tag.parquet'\n",
    "lowest_popular_answers_with_unique_tag_parquet_path = f'adl://{datalake_name}.azuredatalakestore.net/lowest_popular_answers_with_unique_tag.parquet'\n",
    "lowest_popular_accepted_answers_with_unique_tag_parquet_path = f'adl://{datalake_name}.azuredatalakestore.net/lowest_popular_accepted_answers_with_unique_tag.parquet'\n",
    "\n",
    "\n",
    "users_questions_with_most_popular_tags_parquet_path = f'adl://{datalake_name}.azuredatalakestore.net/users_questions_with_most_popular_tags.parquet'\n",
    "users_answers_with_most_popular_tags_parquet_path = f'adl://{datalake_name}.azuredatalakestore.net/users_answers_with_most_popular_tags.parquet'\n",
    "users_accepted_answers_with_most_popular_tags_parquet_path = f'adl://{datalake_name}.azuredatalakestore.net/users_accepted_answers_with_most_popular_tags.parquet'\n",
    "users_questions_and_answers_with_most_popular_tags_parquet_path = f'adl://{datalake_name}.azuredatalakestore.net/users_questions_and_answers_with_most_popular_tags.parquet'\n",
    "\n",
    "\n",
    "users_questions_with_lowest_popular_tags_parquet_path = f'adl://{datalake_name}.azuredatalakestore.net/users_questions_with_lowest_popular_tags.parquet'\n",
    "users_answers_with_lowest_popular_tags_parquet_path = f'adl://{datalake_name}.azuredatalakestore.net/users_answers_with_lowest_popular_tags.parquet'\n",
    "users_accepted_answers_with_lowest_popular_tags_parquet_path = f'adl://{datalake_name}.azuredatalakestore.net/users_accepted_answers_with_lowest_popular_tags.parquet'\n",
    "users_questions_and_answers_with_lowest_popular_tags_parquet_path = f'adl://{datalake_name}.azuredatalakestore.net/users_questions_and_answers_with_lowest_popular_tags.parquet'"
   ],
   "metadata": {
    "application/vnd.databricks.v1+cell": {
     "showTitle": false,
     "cellMetadata": {},
     "nuid": "e220ff8b-04c6-4483-822b-8db7e3e6f5dd",
     "inputWidgets": {},
     "title": ""
    }
   },
   "outputs": [],
   "execution_count": null
  },
  {
   "cell_type": "code",
   "source": [
    "spark = SparkSession.builder.getOrCreate()"
   ],
   "metadata": {
    "application/vnd.databricks.v1+cell": {
     "showTitle": false,
     "cellMetadata": {},
     "nuid": "f3508539-3a6c-40e9-82c1-92c81449113a",
     "inputWidgets": {},
     "title": ""
    }
   },
   "outputs": [],
   "execution_count": null
  },
  {
   "cell_type": "code",
   "source": [
    "schema = StructType() \\\n",
    "            .add('_Id', IntegerType()) \\\n",
    "            .add('_Reputation', StringType()) \\\n",
    "            .add('_CreationDate', TimestampType()) \\\n",
    "            .add('_LastAccessDate', TimestampType()) \\\n",
    "            .add('_Location', StringType())"
   ],
   "metadata": {
    "application/vnd.databricks.v1+cell": {
     "showTitle": false,
     "cellMetadata": {},
     "nuid": "820277a2-0b55-4153-8a58-924c2c256648",
     "inputWidgets": {},
     "title": ""
    }
   },
   "outputs": [],
   "execution_count": null
  },
  {
   "cell_type": "code",
   "source": [
    "users_df = spark.read \\\n",
    "      .format('com.databricks.spark.xml') \\\n",
    "      .option('rootTag', 'users') \\\n",
    "      .option('rowTag', 'row') \\\n",
    "      .load(path, schema = schema)"
   ],
   "metadata": {
    "application/vnd.databricks.v1+cell": {
     "showTitle": false,
     "cellMetadata": {},
     "nuid": "1bafe9c2-e26c-4224-bd5d-6ba009a45b90",
     "inputWidgets": {},
     "title": ""
    }
   },
   "outputs": [],
   "execution_count": null
  },
  {
   "cell_type": "code",
   "source": [
    "users_df.show()"
   ],
   "metadata": {
    "application/vnd.databricks.v1+cell": {
     "showTitle": false,
     "cellMetadata": {},
     "nuid": "a10550ee-9f51-47e1-b5f7-1575b04107e4",
     "inputWidgets": {},
     "title": ""
    }
   },
   "outputs": [],
   "execution_count": null
  },
  {
   "cell_type": "code",
   "source": [
    "users_df.count()"
   ],
   "metadata": {
    "application/vnd.databricks.v1+cell": {
     "showTitle": false,
     "cellMetadata": {},
     "nuid": "8b71935f-eb3b-4857-907e-a87e894f19c9",
     "inputWidgets": {},
     "title": ""
    }
   },
   "outputs": [],
   "execution_count": null
  },
  {
   "cell_type": "code",
   "source": [
    "users_df \\\n",
    "        .filter(col('_Id') == -1) \\\n",
    "        .withColumnRenamed('_Id', 'Id') \\\n",
    "        .withColumnRenamed('_Reputation', 'Reputation') \\\n",
    "        .withColumnRenamed('_CreationDate', 'CreationDate') \\\n",
    "        .withColumnRenamed('_LastAccessDate', 'LastAccessDate') \\\n",
    "        .withColumnRenamed('_Location', 'Location')\n",
    "        .write \\\n",
    "        .mode('append') \\\n",
    "        .format('parquet') \\\n",
    "        .option('path', users_output_path) \\\n",
    "        .save()"
   ],
   "metadata": {
    "application/vnd.databricks.v1+cell": {
     "showTitle": false,
     "cellMetadata": {},
     "nuid": "6484bd3b-a882-4e90-9494-64137e689b4e",
     "inputWidgets": {},
     "title": ""
    }
   },
   "outputs": [],
   "execution_count": null
  },
  {
   "cell_type": "code",
   "source": [
    "users_based_parquet_df = spark.read.parquet(users_output_path)\n",
    "\n",
    "users_based_parquet_df.show()"
   ],
   "metadata": {
    "application/vnd.databricks.v1+cell": {
     "showTitle": false,
     "cellMetadata": {},
     "nuid": "67bfeffc-f05b-484f-a682-c006ca6a931e",
     "inputWidgets": {},
     "title": ""
    }
   },
   "outputs": [],
   "execution_count": null
  },
  {
   "cell_type": "code",
   "execution_count": null,
   "outputs": [],
   "source": [
    "users_based_parquet_df.count()"
   ],
   "metadata": {
    "collapsed": false
   }
  },
  {
   "cell_type": "markdown",
   "source": [
    "## Correlating Users data with Questions and Answers - Most"
   ],
   "metadata": {
    "collapsed": false
   }
  },
  {
   "cell_type": "code",
   "execution_count": null,
   "outputs": [],
   "source": [
    "most_popular_questions_with_unique_tag_df = spark.read.parquet(most_popular_questions_with_unique_tag_parquet_path)\n",
    "most_popular_answers_with_unique_tag_df = spark.read.parquet(most_popular_answers_with_unique_tag_parquet_path)\n",
    "most_popular_accepted_answers_with_unique_tag_df = spark.read.parquet(most_popular_accepted_answers_with_unique_tag_parquet_path)\n",
    "\n",
    "lowest_popular_questions_with_unique_tag_df = spark.read.parquet(lowest_popular_questions_with_unique_tag_parquet_path)\n",
    "lowest_popular_answers_with_unique_tag_df = spark.read.parquet(lowest_popular_answers_with_unique_tag_parquet_path)\n",
    "lowest_popular_accepted_answers_with_unique_tag_df = spark.read.parquet(lowest_popular_accepted_answers_with_unique_tag_parquet_path)"
   ],
   "metadata": {
    "collapsed": false
   }
  },
  {
   "cell_type": "code",
   "execution_count": null,
   "outputs": [],
   "source": [
    "users_questions_with_most_popular_tags_df =  users_based_parquet_df.alias('u') \\\n",
    "    .join(most_popular_questions_with_unique_tag_df.alias('q'), col('u.Id') == col('q.OwnerUserId')) \\\n",
    "    .select('u.*', 'q.Tag', 'q.CreationDate')\n",
    "\n",
    "users_questions_with_most_popular_tags_df \\\n",
    "    .write \\\n",
    "    .mode('overwrite') \\\n",
    "    .format('parquet') \\\n",
    "    .option('path', users_questions_with_most_popular_tags_parquet_path) \\\n",
    "    .save()"
   ],
   "metadata": {
    "collapsed": false
   }
  },
  {
   "cell_type": "code",
   "execution_count": null,
   "outputs": [],
   "source": [
    "\n",
    "users_answers_with_most_popular_tags_df = users_based_parquet_df.alias('u') \\\n",
    "    .join(most_popular_answers_with_unique_tag_df.alias('a'), col('u.Id') == col('a.OwnerUserId')) \\\n",
    "    .select('u.*', 'a.Tag', 'a.CreationDate')\n",
    "\n",
    "users_answers_with_most_popular_tags_df \\\n",
    "    .write \\\n",
    "    .mode('overwrite') \\\n",
    "    .format('parquet') \\\n",
    "    .option('path', users_answers_with_most_popular_tags_parquet_path) \\\n",
    "    .save()"
   ],
   "metadata": {
    "collapsed": false
   }
  },
  {
   "cell_type": "code",
   "execution_count": null,
   "outputs": [],
   "source": [
    "users_accepted_answers_with_most_popular_tags_df = users_based_parquet_df.alias('u') \\\n",
    "    .join(most_popular_accepted_answers_with_unique_tag_df.alias('a'), col('u.Id') == col('a.OwnerUserId')) \\\n",
    "    .select('u.*', 'a.Tag', 'a.CreationDate')\n",
    "\n",
    "users_accepted_answers_with_most_popular_tags_df \\\n",
    "    .write \\\n",
    "    .mode('overwrite') \\\n",
    "    .format('parquet') \\\n",
    "    .option('path', users_accepted_answers_with_most_popular_tags_parquet_path) \\\n",
    "    .save()"
   ],
   "metadata": {
    "collapsed": false
   }
  },
  {
   "cell_type": "code",
   "execution_count": null,
   "outputs": [],
   "source": [
    "users_questions_and_answers_with_most_popular_tags_df = users_questions_with_most_popular_tags_df.union(users_answers_with_most_popular_tags_df)\n",
    "\n",
    "\n",
    "users_questions_and_answers_with_most_popular_tags_df \\\n",
    "    .write \\\n",
    "    .mode('overwrite') \\\n",
    "    .format('parquet') \\\n",
    "    .option('path', users_questions_and_answers_with_most_popular_tags_parquet_path) \\\n",
    "    .save()"
   ],
   "metadata": {
    "collapsed": false
   }
  },
  {
   "cell_type": "markdown",
   "source": [
    "## Correlating Users data with Questions and Answers - Least"
   ],
   "metadata": {
    "collapsed": false
   }
  },
  {
   "cell_type": "code",
   "execution_count": null,
   "outputs": [],
   "source": [
    "users_questions_with_lowest_popular_tags_df =  users_based_parquet_df.alias('u') \\\n",
    "    .join(lowest_popular_questions_with_unique_tag_df.alias('q'), col('u.Id') == col('q.OwnerUserId')) \\\n",
    "    .select('u.*', 'q.Tag', 'q.CreationDate')\n",
    "\n",
    "users_questions_with_lowest_popular_tags_df \\\n",
    "    .write \\\n",
    "    .mode('overwrite') \\\n",
    "    .format('parquet') \\\n",
    "    .option('path', users_questions_with_lowest_popular_tags_parquet_path) \\\n",
    "    .save()\n",
    "\n"
   ],
   "metadata": {
    "collapsed": false
   }
  },
  {
   "cell_type": "code",
   "execution_count": null,
   "outputs": [],
   "source": [
    "users_answers_with_lowest_popular_tags_df = users_based_parquet_df.alias('u') \\\n",
    "    .join(lowest_popular_answers_with_unique_tag_df.alias('a'), col('u.Id') == col('a.OwnerUserId')) \\\n",
    "    .select('u.*', 'a.Tag', 'a.CreationDate')\n",
    "\n",
    "users_answers_with_lowest_popular_tags_df \\\n",
    "    .write \\\n",
    "    .mode('overwrite') \\\n",
    "    .format('parquet') \\\n",
    "    .option('path', users_answers_with_lowest_popular_tags_parquet_path) \\\n",
    "    .save()"
   ],
   "metadata": {
    "collapsed": false
   }
  },
  {
   "cell_type": "code",
   "execution_count": null,
   "outputs": [],
   "source": [
    "users_accepted_answers_with_lowest_popular_tags_df = users_based_parquet_df.alias('u') \\\n",
    "    .join(lowest_popular_accepted_answers_with_unique_tag_df.alias('a'), col('u.Id') == col('a.OwnerUserId')) \\\n",
    "    .select('u.*', 'a.Tag', 'a.CreationDate')\n",
    "\n",
    "users_accepted_answers_with_lowest_popular_tags_df \\\n",
    "    .write \\\n",
    "    .mode('overwrite') \\\n",
    "    .format('parquet') \\\n",
    "    .option('path', users_accepted_answers_with_lowest_popular_tags_parquet_path) \\\n",
    "    .save()"
   ],
   "metadata": {
    "collapsed": false
   }
  },
  {
   "cell_type": "code",
   "execution_count": null,
   "outputs": [],
   "source": [
    "users_questions_and_answers_with_lowest_popular_tags_df = users_questions_with_lowest_popular_tags_df.union(users_answers_with_lowest_popular_tags_df)\n",
    "\n",
    "users_questions_and_answers_with_lowest_popular_tags_df \\\n",
    "    .write \\\n",
    "    .mode('overwrite') \\\n",
    "    .format('parquet') \\\n",
    "    .option('path', users_questions_and_answers_with_lowest_popular_tags_parquet_path) \\\n",
    "    .save()"
   ],
   "metadata": {
    "collapsed": false
   }
  }
 ],
 "metadata": {
  "application/vnd.databricks.v1+notebook": {
   "notebookName": "stack_overflow_users_converting_from_xml_to_parquet",
   "dashboards": [],
   "notebookMetadata": {
    "pythonIndentUnit": 4,
    "mostRecentlyExecutedCommandWithImplicitDF": {
     "commandId": 2817896395009288,
     "dataframes": [
      "_sqldf"
     ]
    }
   },
   "language": "python",
   "widgets": {},
   "notebookOrigID": 2817896395009285
  }
 },
 "nbformat": 4,
 "nbformat_minor": 0
}
