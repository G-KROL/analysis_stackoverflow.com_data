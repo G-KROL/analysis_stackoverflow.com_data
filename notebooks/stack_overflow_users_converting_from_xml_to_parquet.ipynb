{
 "cells": [
  {
   "cell_type": "markdown",
   "source": [
    "\n",
    " Before you start using this notebook install **com.databricks.spark.xml** Maven module on your Apache Spark and then change **datalake_name** in the Python variable and file system command"
   ],
   "metadata": {
    "collapsed": false
   }
  },
  {
   "cell_type": "code",
   "source": [
    "from pyspark.sql.types import *\n",
    "from pyspark.sql import SparkSession\n",
    "from pyspark.sql.functions import *"
   ],
   "metadata": {
    "application/vnd.databricks.v1+cell": {
     "showTitle": false,
     "cellMetadata": {},
     "nuid": "72d645d8-a1f7-46ce-8ead-e2197bd0cd3e",
     "inputWidgets": {},
     "title": ""
    }
   },
   "outputs": [],
   "execution_count": null
  },
  {
   "cell_type": "code",
   "source": [
    "datalake_name = 'cadlstoremke4wb3ui2s6q'"
   ],
   "metadata": {
    "application/vnd.databricks.v1+cell": {
     "showTitle": false,
     "cellMetadata": {},
     "nuid": "140340d9-e82d-4b0f-848f-4d0fe4fd7adf",
     "inputWidgets": {},
     "title": ""
    }
   },
   "outputs": [],
   "execution_count": null
  },
  {
   "cell_type": "code",
   "source": [
    "%fs ls adl://cadlstoremke4wb3ui2s6q.azuredatalakestore.net/"
   ],
   "metadata": {
    "application/vnd.databricks.v1+cell": {
     "showTitle": false,
     "cellMetadata": {},
     "nuid": "27886683-cc53-4f05-ac61-fd1f26cd5f12",
     "inputWidgets": {},
     "title": ""
    }
   },
   "outputs": [],
   "execution_count": null
  },
  {
   "cell_type": "code",
   "source": [
    "%python\n",
    "configs = {\n",
    "  'fs.adl.oauth2.access.token.provider.type': 'CustomAccessTokenProvider',\n",
    "  'fs.adl.oauth2.access.token.custom.provider': spark.conf.get('spark.databricks.passthrough.adls.tokenProviderClassName')\n",
    "}\n",
    "dbutils.fs.mount(\n",
    "source = f'adl://{datalake_name}.azuredatalakestore.net/',\n",
    "mount_point = '/mnt/datalake',\n",
    "extra_configs = configs)"
   ],
   "metadata": {
    "application/vnd.databricks.v1+cell": {
     "showTitle": false,
     "cellMetadata": {},
     "nuid": "59d6bda9-f19b-4ac6-872f-89dd31207041",
     "inputWidgets": {},
     "title": ""
    }
   },
   "outputs": [],
   "execution_count": null
  },
  {
   "cell_type": "code",
   "source": [
    "path = f'adl://{datalake_name}.azuredatalakestore.net/Users.xml'\n",
    "users_output_path = f'adl://{datalake_name}.azuredatalakestore.net/users.parquet'"
   ],
   "metadata": {
    "application/vnd.databricks.v1+cell": {
     "showTitle": false,
     "cellMetadata": {},
     "nuid": "e220ff8b-04c6-4483-822b-8db7e3e6f5dd",
     "inputWidgets": {},
     "title": ""
    }
   },
   "outputs": [],
   "execution_count": null
  },
  {
   "cell_type": "code",
   "source": [
    "spark = SparkSession.builder.getOrCreate()"
   ],
   "metadata": {
    "application/vnd.databricks.v1+cell": {
     "showTitle": false,
     "cellMetadata": {},
     "nuid": "f3508539-3a6c-40e9-82c1-92c81449113a",
     "inputWidgets": {},
     "title": ""
    }
   },
   "outputs": [],
   "execution_count": null
  },
  {
   "cell_type": "code",
   "source": [
    "schema = StructType() \\\n",
    "            .add('_Id', IntegerType()) \\\n",
    "            .add('_Reputation', StringType()) \\\n",
    "            .add('_CreationDate', TimestampType()) \\\n",
    "            .add('_LastAccessDate', TimestampType()) \\\n",
    "            .add('_Location', StringType())"
   ],
   "metadata": {
    "application/vnd.databricks.v1+cell": {
     "showTitle": false,
     "cellMetadata": {},
     "nuid": "820277a2-0b55-4153-8a58-924c2c256648",
     "inputWidgets": {},
     "title": ""
    }
   },
   "outputs": [],
   "execution_count": null
  },
  {
   "cell_type": "code",
   "source": [
    "users_df = spark.read \\\n",
    "      .format('com.databricks.spark.xml') \\\n",
    "      .option('rootTag', 'users') \\\n",
    "      .option('rowTag', 'row') \\\n",
    "      .load(path, schema = schema)"
   ],
   "metadata": {
    "application/vnd.databricks.v1+cell": {
     "showTitle": false,
     "cellMetadata": {},
     "nuid": "1bafe9c2-e26c-4224-bd5d-6ba009a45b90",
     "inputWidgets": {},
     "title": ""
    }
   },
   "outputs": [],
   "execution_count": null
  },
  {
   "cell_type": "code",
   "source": [
    "users_df.show()"
   ],
   "metadata": {
    "application/vnd.databricks.v1+cell": {
     "showTitle": false,
     "cellMetadata": {},
     "nuid": "a10550ee-9f51-47e1-b5f7-1575b04107e4",
     "inputWidgets": {},
     "title": ""
    }
   },
   "outputs": [],
   "execution_count": null
  },
  {
   "cell_type": "code",
   "source": [
    "users_df.count()"
   ],
   "metadata": {
    "application/vnd.databricks.v1+cell": {
     "showTitle": false,
     "cellMetadata": {},
     "nuid": "8b71935f-eb3b-4857-907e-a87e894f19c9",
     "inputWidgets": {},
     "title": ""
    }
   },
   "outputs": [],
   "execution_count": null
  },
  {
   "cell_type": "code",
   "source": [
    "users_df \\\n",
    "        .withColumnRenamed('_Id', 'Id') \\\n",
    "        .withColumnRenamed('_Reputation', 'Reputation') \\\n",
    "        .withColumnRenamed('_CreationDate', 'CreationDate') \\\n",
    "        .withColumnRenamed('_LastAccessDate', 'LastAccessDate') \\\n",
    "        .withColumnRenamed('_Location', 'Location')\n",
    "        .write \\\n",
    "        .mode('append') \\\n",
    "        .format('parquet') \\\n",
    "        .option('path', users_output_path) \\\n",
    "        .save()"
   ],
   "metadata": {
    "application/vnd.databricks.v1+cell": {
     "showTitle": false,
     "cellMetadata": {},
     "nuid": "6484bd3b-a882-4e90-9494-64137e689b4e",
     "inputWidgets": {},
     "title": ""
    }
   },
   "outputs": [],
   "execution_count": null
  },
  {
   "cell_type": "code",
   "source": [
    "users_based_parquet_df = spark.read.parquet(users_output_path)\n",
    "\n",
    "users_based_parquet_df.show()"
   ],
   "metadata": {
    "application/vnd.databricks.v1+cell": {
     "showTitle": false,
     "cellMetadata": {},
     "nuid": "67bfeffc-f05b-484f-a682-c006ca6a931e",
     "inputWidgets": {},
     "title": ""
    }
   },
   "outputs": [],
   "execution_count": null
  },
  {
   "cell_type": "code",
   "execution_count": null,
   "outputs": [],
   "source": [
    "users_based_parquet_df.count()"
   ],
   "metadata": {
    "collapsed": false
   }
  }
 ],
 "metadata": {
  "application/vnd.databricks.v1+notebook": {
   "notebookName": "stack_overflow_users_converting_from_xml_to_parquet",
   "dashboards": [],
   "notebookMetadata": {
    "pythonIndentUnit": 4,
    "mostRecentlyExecutedCommandWithImplicitDF": {
     "commandId": 2817896395009288,
     "dataframes": [
      "_sqldf"
     ]
    }
   },
   "language": "python",
   "widgets": {},
   "notebookOrigID": 2817896395009285
  }
 },
 "nbformat": 4,
 "nbformat_minor": 0
}
