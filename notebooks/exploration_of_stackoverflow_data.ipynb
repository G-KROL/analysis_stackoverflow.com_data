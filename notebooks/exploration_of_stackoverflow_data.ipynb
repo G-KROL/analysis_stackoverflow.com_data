{
 "cells": [
  {
   "cell_type": "code",
   "source": [
    "from pyspark.sql.types import *\n",
    "from pyspark.sql import SparkSession\n",
    "from pyspark.sql.functions import *\n",
    "import numpy as np\n",
    "import matplotlib\n",
    "import matplotlib.pyplot as plt"
   ],
   "metadata": {
    "collapsed": false,
    "application/vnd.databricks.v1+cell": {
     "showTitle": false,
     "cellMetadata": {},
     "nuid": "d786d109-9273-4851-ae23-2156a20dc496",
     "inputWidgets": {},
     "title": ""
    }
   },
   "outputs": [],
   "execution_count": null
  },
  {
   "cell_type": "code",
   "source": [
    "font = {'size'   : 12}\n",
    "\n",
    "matplotlib.rc('font', **font)"
   ],
   "metadata": {
    "collapsed": false,
    "application/vnd.databricks.v1+cell": {
     "showTitle": false,
     "cellMetadata": {},
     "nuid": "8d3cdea7-eef8-4b4d-9ab8-e1a13f770974",
     "inputWidgets": {},
     "title": ""
    }
   },
   "outputs": [],
   "execution_count": null
  },
  {
   "cell_type": "code",
   "source": [
    "datalake_name = 'cadlstorejdlf4tf3x3bwg'\n"
   ],
   "metadata": {
    "collapsed": false,
    "application/vnd.databricks.v1+cell": {
     "showTitle": false,
     "cellMetadata": {},
     "nuid": "0ac62096-1165-41e4-8f09-45093bb760b8",
     "inputWidgets": {},
     "title": ""
    }
   },
   "outputs": [],
   "execution_count": null
  },
  {
   "cell_type": "code",
   "source": [
    "%fs ls adl://cadlstorejdlf4tf3x3bwg.azuredatalakestore.net/\n"
   ],
   "metadata": {
    "collapsed": false,
    "application/vnd.databricks.v1+cell": {
     "showTitle": false,
     "cellMetadata": {},
     "nuid": "572a9b33-0d5b-40c3-9765-f636e51071be",
     "inputWidgets": {},
     "title": ""
    }
   },
   "outputs": [],
   "execution_count": null
  },
  {
   "cell_type": "code",
   "source": [
    "%python\n",
    "configs = {\n",
    "  \"fs.adl.oauth2.access.token.provider.type\": \"CustomAccessTokenProvider\",\n",
    "  \"fs.adl.oauth2.access.token.custom.provider\": spark.conf.get(\"spark.databricks.passthrough.adls.tokenProviderClassName\")\n",
    "}\n",
    "dbutils.fs.mount(\n",
    "source = f\"adl://{datalake_name}.azuredatalakestore.net/\",\n",
    "mount_point = \"/mnt/datalake\",\n",
    "extra_configs = configs)"
   ],
   "metadata": {
    "collapsed": false,
    "application/vnd.databricks.v1+cell": {
     "showTitle": false,
     "cellMetadata": {},
     "nuid": "4164978e-1791-4919-88df-1c5f27400da3",
     "inputWidgets": {},
     "title": ""
    }
   },
   "outputs": [],
   "execution_count": null
  },
  {
   "cell_type": "code",
   "source": [
    "tags_output_path = f'adl://{datalake_name}.azuredatalakestore.net/tags.parquet'\n",
    "posts_output_path = f'adl://{datalake_name}.azuredatalakestore.net/posts.parquet'\n",
    "users_output_path = f'adl://{datalake_name}.azuredatalakestore.net/users.parquet'\n",
    "comments_output_path = f'adl://{datalake_name}.azuredatalakestore.net/comments.parquet'\n",
    "\n",
    "most_popular_questions_with_unique_tag_path = f'adl://{datalake_name}.azuredatalakestore.net/most_popular_questions_with_unique_tag.parquet'\n",
    "most_popular_answers_with_unique_tag_path = f'adl://{datalake_name}.azuredatalakestore.net/most_popular_answers_with_unique_tag.parquet'\n",
    "\n",
    "lowest_popular_questions_with_unique_tag_path = f'adl://{datalake_name}.azuredatalakestore.net/lowest_popular_questions_with_unique_tag.parquet'\n",
    "lowest_popular_answers_with_unique_tag_path = f'adl://{datalake_name}.azuredatalakestore.net/lowest_popular_answers_with_unique_tag.parquet'"
   ],
   "metadata": {
    "collapsed": false,
    "application/vnd.databricks.v1+cell": {
     "showTitle": false,
     "cellMetadata": {},
     "nuid": "5ca27a6d-5889-4a3c-b58d-5b6391c15ee5",
     "inputWidgets": {},
     "title": ""
    }
   },
   "outputs": [],
   "execution_count": null
  },
  {
   "cell_type": "code",
   "execution_count": null,
   "outputs": [],
   "source": [
    "spark = SparkSession.builder.getOrCreate()"
   ],
   "metadata": {
    "collapsed": false
   }
  },
  {
   "cell_type": "code",
   "source": [
    "tags_df = spark.read.parquet(tags_output_path)\n",
    "posts_df = spark.read.parquet(posts_output_path)\n",
    "users_df = spark.read.parquet(users_output_path)\n",
    "comments_df = spark.read.parquet(comments_output_path)\n",
    "\n",
    "most_popular_questions_with_unique_tag_df=spark.read.parquet(most_popular_questions_with_unique_tag_path)\n",
    "most_popular_answers_with_unique_tag_df=spark.read.parquet(most_popular_answers_with_unique_tag_path)\n",
    "\n",
    "lowest_popular_questions_with_unique_tag_df=spark.read.parquet(lowest_popular_questions_with_unique_tag_path)\n",
    "lowest_popular_answers_with_unique_tag_df=spark.read.parquet(lowest_popular_answers_with_unique_tag_path)"
   ],
   "metadata": {
    "collapsed": false,
    "application/vnd.databricks.v1+cell": {
     "showTitle": false,
     "cellMetadata": {},
     "nuid": "dc926b81-6e54-420d-9f09-8edbf2e56c6b",
     "inputWidgets": {},
     "title": ""
    }
   },
   "outputs": [],
   "execution_count": null
  },
  {
   "cell_type": "markdown",
   "source": [
    "## How many Tags are based on Tags Summary?"
   ],
   "metadata": {
    "collapsed": false
   }
  },
  {
   "cell_type": "code",
   "execution_count": null,
   "outputs": [],
   "source": [
    "tags_df.count()"
   ],
   "metadata": {
    "collapsed": false
   }
  },
  {
   "cell_type": "markdown",
   "source": [
    "## How many Questions are based on Tags Summary?"
   ],
   "metadata": {
    "collapsed": false
   }
  },
  {
   "cell_type": "code",
   "execution_count": null,
   "outputs": [],
   "source": [
    "tags_df.select(sum(col('Count'))).show()"
   ],
   "metadata": {
    "collapsed": false
   }
  },
  {
   "cell_type": "markdown",
   "source": [
    "## Number of posts through the years"
   ],
   "metadata": {
    "collapsed": false
   }
  },
  {
   "cell_type": "code",
   "source": [
    "posts_through_the_years_df = posts_df \\\n",
    "    .withColumn('CreationYear', year(col('CreationDate'))) \\\n",
    "    .groupBy(col('CreationYear')) \\\n",
    "    .count() \\\n",
    "    .sort(desc('CreationYear'), desc('count'))\n",
    "\n",
    "posts_through_the_years_df.show()\n"
   ],
   "metadata": {
    "collapsed": false,
    "application/vnd.databricks.v1+cell": {
     "showTitle": false,
     "cellMetadata": {},
     "nuid": "056b380c-6617-4736-b379-0fa115e3724a",
     "inputWidgets": {},
     "title": ""
    }
   },
   "outputs": [],
   "execution_count": null
  },
  {
   "cell_type": "markdown",
   "source": [
    "## Number of posts through the years - PLOT"
   ],
   "metadata": {
    "collapsed": false
   }
  },
  {
   "cell_type": "code",
   "source": [
    "posts_through_the_years_pandas_df = posts_through_the_years_df.toPandas()\n",
    "\n",
    "fig, ax = plt.subplots(figsize=(10, 10), facecolor='white', dpi=100)\n",
    "plt.bar(posts_through_the_years_pandas_df['CreationYear'], posts_through_the_years_pandas_df['count'])\n",
    "plt.ticklabel_format(axis=\"y\", style=\"plain\")\n",
    "\n",
    "most_popular_tags_pandas_min_value = posts_through_the_years_pandas_df['count'].min().round(decimals=-4)\n",
    "most_popular_tags_pandas_max_value = posts_through_the_years_pandas_df['count'].max().round(decimals=-4)\n",
    "most_popular_tags_pandas_max_step = (most_popular_tags_pandas_max_value/6).round(decimals=-4)\n",
    "plt.yticks(np.arange(most_popular_tags_pandas_min_value, (most_popular_tags_pandas_max_value + most_popular_tags_pandas_max_step), step=most_popular_tags_pandas_max_step), rotation = 45)\n",
    "plt.yticks(rotation = 45)\n",
    "\n",
    "plt.ylabel('Ilość postów')\n",
    "plt.xlabel('Poszczególne lata', labelpad= 20.0)\n",
    "plt.title('Ilość postów na przestrzeni czasu według danych z portalu stackoverflow.com')\n",
    "plt.savefig('number_of_posts_through_the_years.png', facecolor='white')\n",
    "plt.show()"
   ],
   "metadata": {
    "collapsed": false,
    "application/vnd.databricks.v1+cell": {
     "showTitle": false,
     "cellMetadata": {},
     "nuid": "45a92abd-a951-4f75-bc03-999b8b90033b",
     "inputWidgets": {},
     "title": ""
    }
   },
   "outputs": [],
   "execution_count": null
  },
  {
   "cell_type": "markdown",
   "source": [
    "## Top 10 Most Active Users from registration to the last post or comment (Without Community Bot)"
   ],
   "metadata": {
    "collapsed": false
   }
  },
  {
   "cell_type": "code",
   "execution_count": null,
   "outputs": [],
   "source": [
    "users_without_bots_df = users_df.filter(col('u.Id') != -1)"
   ],
   "metadata": {
    "collapsed": false
   }
  },
  {
   "cell_type": "code",
   "source": [
    "users_last_posts_activity_df = users_without_bots_df.alias('u') \\\n",
    "    .join(posts_df.alias('p'), col('u.Id') == col('p.OwnerUserId')) \\\n",
    "    .select(col('u.Id'), col('u.CreationDate'), col('p.CreationDate')) \\\n",
    "    .groupBy('u.Id') \\\n",
    "    .agg(max(col('p.CreationDate')).alias('UserLastPostActivityDate')) \\\n",
    "    .sort(desc('UserLastPostActivityDate'))"
   ],
   "metadata": {
    "application/vnd.databricks.v1+cell": {
     "showTitle": false,
     "cellMetadata": {},
     "nuid": "6e353900-1132-4ae7-ab48-66011d8fec42",
     "inputWidgets": {},
     "title": ""
    }
   },
   "outputs": [],
   "execution_count": null
  },
  {
   "cell_type": "code",
   "source": [
    "users_last_comments_activity_df = users_without_bots_df.alias('u') \\\n",
    "    .join(comments_df.alias('c'), col('u.Id') == col('c.UserId')) \\\n",
    "    .select(col('u.Id'), col('u.CreationDate'), col('c.CreationDate')) \\\n",
    "    .groupBy('u.Id') \\\n",
    "    .agg(max(col('c.CreationDate')).alias('UserLastCommentActivityDate')) \\\n",
    "    .sort(desc('UserLastCommentActivityDate'))"
   ],
   "metadata": {
    "application/vnd.databricks.v1+cell": {
     "showTitle": false,
     "cellMetadata": {},
     "nuid": "37eeb236-23af-40bd-b3b7-e761856fecca",
     "inputWidgets": {},
     "title": ""
    }
   },
   "outputs": [],
   "execution_count": null
  },
  {
   "cell_type": "code",
   "source": [
    "users_last_activity_df = users_last_posts_activity_df.alias('up') \\\n",
    "    .join(users_last_comments_activity_df.alias('uc'), col('up.Id') == col('uc.Id')) \\\n",
    "    .select(col('up.Id').alias('UserId'), col('up.UserLastPostActivityDate'), col('uc.UserLastCommentActivityDate'))"
   ],
   "metadata": {
    "application/vnd.databricks.v1+cell": {
     "showTitle": false,
     "cellMetadata": {},
     "nuid": "873a013d-7ee3-462a-b33d-7f4d32a88438",
     "inputWidgets": {},
     "title": ""
    }
   },
   "outputs": [],
   "execution_count": null
  },
  {
   "cell_type": "code",
   "source": [
    "users_last_activity_based_on_posts_and_comments_df = users_last_activity_df \\\n",
    "    .groupBy('UserId') \\\n",
    "    .agg(max(struct(col('UserLastPostActivityDate'), col('UserLastCommentActivityDate'))).alias('UserLastActivityDate')) \\\n",
    "    .withColumn('UserLastActivityDate', to_timestamp(when((col('UserLastActivityDate.UserLastPostActivityDate') > col('UserLastActivityDate.UserLastCommentActivityDate')), col('UserLastActivityDate.UserLastPostActivityDate'))\n",
    "                                                    .otherwise('UserLastActivityDate.UserLastCommentActivityDate'))) \\\n",
    "    .sort(desc('UserLastActivityDate'))"
   ],
   "metadata": {
    "collapsed": false,
    "application/vnd.databricks.v1+cell": {
     "showTitle": false,
     "cellMetadata": {},
     "nuid": "e3c09daf-ddfe-45e1-b38c-cee265a13175",
     "inputWidgets": {},
     "title": ""
    }
   },
   "outputs": [],
   "execution_count": null
  },
  {
   "cell_type": "code",
   "source": [
    "top_ten_users_with_longest_activity_df = users_without_bots_df.alias('u') \\\n",
    "    .join(users_last_activity_based_on_posts_and_comments_df.alias('ula'), col('u.Id') == col('ula.UserId')) \\\n",
    "    .withColumn('ActivityTimeInSeconds', col('ula.UserLastActivityDate').cast('long') - col('u.CreationDate').cast('long')) \\\n",
    "    .withColumn(\"ActivityTimeInMinutes\", round(col(\"ActivityTimeInSeconds\")/60)) \\\n",
    "    .withColumn(\"ActivityTimeInHours\", round(col(\"ActivityTimeInSeconds\")/3600)) \\\n",
    "    .withColumn(\"ActivityTimeInDays\", round(col(\"ActivityTimeInSeconds\")/(24*3600))) \\\n",
    "    .withColumn(\"ActivityTimeInMonths\", round(col(\"ActivityTimeInSeconds\")/(30*24*3600))) \\\n",
    "    .withColumn(\"ActivityTimeInYears\", round(col(\"ActivityTimeInSeconds\")/(12*30*24*3600))) \\\n",
    "    .sort(desc('ActivityTimeInDays')) \\\n",
    "    .select(col('Id').cast(StringType()),  'CreationDate', 'UserLastActivityDate', 'ActivityTimeInSeconds', 'ActivityTimeInMinutes', 'ActivityTimeInHours','ActivityTimeInDays', 'ActivityTimeInMonths', 'ActivityTimeInYears') \\\n",
    "    .limit(10)"
   ],
   "metadata": {
    "application/vnd.databricks.v1+cell": {
     "showTitle": false,
     "cellMetadata": {},
     "nuid": "5e1a45a9-0d33-46ec-a88e-64bf6f19a31e",
     "inputWidgets": {},
     "title": ""
    }
   },
   "outputs": [],
   "execution_count": null
  },
  {
   "cell_type": "markdown",
   "source": [
    "## User Activity from registration to the last post or comment (Without Community Bot) - PLOT"
   ],
   "metadata": {
    "collapsed": false
   }
  },
  {
   "cell_type": "code",
   "source": [
    "top_ten_users_with_longest_activity_pandas_df = top_ten_users_with_longest_activity_df \\\n",
    ".sort(asc('ActivityTimeInDays')) \\\n",
    ".toPandas()\n",
    "\n",
    "fig, ax = plt.subplots(figsize=(10, 10), facecolor='white', dpi=100)\n",
    "\n",
    "top_ten_users_with_longest_activity_pandas_min_value = top_ten_users_with_longest_activity_pandas_df['ActivityTimeInDays'].min().round()\n",
    "top_ten_users_with_longest_activity_pandas_max_value = top_ten_users_with_longest_activity_pandas_df['ActivityTimeInDays'].max().round()\n",
    "top_ten_users_with_longest_activity_pandas_step = 8\n",
    "plt.xlim(xmin= top_ten_users_with_longest_activity_pandas_min_value - top_ten_users_with_longest_activity_pandas_step , xmax=top_ten_users_with_longest_activity_pandas_max_value + 2)\n",
    "\n",
    "plt.barh(top_ten_users_with_longest_activity_pandas_df['Id'], top_ten_users_with_longest_activity_pandas_df['ActivityTimeInDays'])\n",
    "plt.ticklabel_format(axis=\"x\", style=\"plain\")\n",
    "\n",
    "plt.ylabel('Identifikatory najdłużej aktywnych użytkowników', labelpad= 20.0)\n",
    "plt.xlabel('Czas w ilości dni od stworzenia użytkownika do ostatniego postu lub komentarza', labelpad= 20.0)\n",
    "plt.title('Najdłużej aktywni użytkownicy według danych z portalu stackoverflow.com')\n",
    "plt.savefig('top_ten_users_with_longest_activity.png', facecolor='white')\n",
    "plt.show()"
   ],
   "metadata": {
    "collapsed": false,
    "application/vnd.databricks.v1+cell": {
     "showTitle": false,
     "cellMetadata": {},
     "nuid": "65684571-df6a-4302-babb-4d984c85a789",
     "inputWidgets": {},
     "title": ""
    }
   },
   "outputs": [],
   "execution_count": null
  },
  {
   "cell_type": "markdown",
   "source": [
    "## Comparison between the most and least score questions in the most and least popular technologies"
   ],
   "metadata": {
    "collapsed": false
   }
  },
  {
   "cell_type": "code",
   "source": [
    "highest_score_in_most_popular_questions_with_unique_tag_df = most_popular_questions_with_unique_tag_df \\\n",
    "    .groupBy('Tag') \\\n",
    "    .agg(max(col('Score')).alias('HighestScore')) \\\n",
    "    .sort(asc('HighestScore')) \\\n",
    "    .withColumn('Tag', translate(col('Tag'), \"<>\", \"\"))\n",
    "\n",
    "highest_score_in_lowest_popular_questions_with_unique_tag_df = lowest_popular_questions_with_unique_tag_df \\\n",
    "    .groupBy('Tag') \\\n",
    "    .agg(max(col('Score')).alias('HighestScore')) \\\n",
    "    .sort(asc('HighestScore')) \\\n",
    "    .withColumn('Tag', translate(col('Tag'), \"<>\", \"\"))\n",
    "\n",
    "number_of_answers_in_most_popular_questions_with_unique_tag_df = most_popular_questions_with_unique_tag_df \\\n",
    "    .groupBy('Tag') \\\n",
    "    .agg(count(col('AnswerCount')).alias('NumberOfAnswers')) \\\n",
    "    .sort(asc('NumberOfAnswers')) \\\n",
    "    .withColumn('Tag', translate(col('Tag'), \"<>\", \"\"))\n",
    "\n",
    "number_of_answers_in_lowest_popular_questions_with_unique_tag_df = lowest_popular_questions_with_unique_tag_df \\\n",
    "    .groupBy('Tag') \\\n",
    "    .agg(count(col('AnswerCount')).alias('NumberOfAnswers')) \\\n",
    "    .sort(asc('NumberOfAnswers')) \\\n",
    "    .withColumn('Tag', translate(col('Tag'), \"<>\", \"\"))"
   ],
   "metadata": {
    "application/vnd.databricks.v1+cell": {
     "showTitle": false,
     "cellMetadata": {},
     "nuid": "6983a300-ee16-4ec6-8135-72f19cfbe0b3",
     "inputWidgets": {},
     "title": ""
    }
   },
   "outputs": [],
   "execution_count": null
  },
  {
   "cell_type": "markdown",
   "source": [
    "## Comparison between the most and least score questions in the most and least popular technologies - PLOT"
   ],
   "metadata": {
    "collapsed": false
   }
  },
  {
   "cell_type": "code",
   "source": [
    "highest_score_in_most_popular_questions_with_unique_tag_pandas_df = highest_score_in_most_popular_questions_with_unique_tag_df.toPandas()\n",
    "\n",
    "highest_score_in_lowest_popular_questions_with_unique_tag_pandas_df = highest_score_in_lowest_popular_questions_with_unique_tag_df.toPandas()\n",
    "\n",
    "number_of_answers_in_most_popular_questions_with_unique_tag_pandas_df = number_of_answers_in_most_popular_questions_with_unique_tag_df.toPandas()\n",
    "\n",
    "number_of_answers_in_lowest_popular_questions_with_unique_tag_pandas_df = number_of_answers_in_lowest_popular_questions_with_unique_tag_df.toPandas()\n",
    "\n",
    "fig, ax = plt.subplots(2, 2, figsize=(10, 10), facecolor='white', dpi=100)\n",
    "fig.tight_layout(pad=3.7)\n",
    "\n",
    "ax[0, 0].barh(highest_score_in_most_popular_questions_with_unique_tag_pandas_df['Tag'], highest_score_in_most_popular_questions_with_unique_tag_pandas_df['HighestScore'], color='blue') #most_score\n",
    "highest_score_in_most_popular_pandas_min_value = highest_score_in_most_popular_questions_with_unique_tag_pandas_df['HighestScore'].min().round(decimals=-3)\n",
    "highest_score_in_most_popular_pandas_max_value = highest_score_in_most_popular_questions_with_unique_tag_pandas_df['HighestScore'].max().round(decimals=-3)\n",
    "highest_score_in_most_popular_pandas_max_step = (highest_score_in_most_popular_pandas_max_value/5).round(decimals=-3)\n",
    "ax[0, 0].set_xticks(np.arange(highest_score_in_most_popular_pandas_min_value, highest_score_in_most_popular_pandas_max_value + highest_score_in_most_popular_pandas_max_step, step=highest_score_in_most_popular_pandas_max_step))\n",
    "ax[0, 0].set_ylabel('Najpopularniejsze technologie', labelpad= 20.0)\n",
    "ax[0, 0].tick_params(axis='x', labelrotation=45)\n",
    "\n",
    "ax[0, 1].barh(number_of_answers_in_most_popular_questions_with_unique_tag_pandas_df['Tag'], number_of_answers_in_most_popular_questions_with_unique_tag_pandas_df['NumberOfAnswers'], color='blue')#most_answers\n",
    "number_of_answers_most_popular_tags_pandas_min_value = number_of_answers_in_most_popular_questions_with_unique_tag_pandas_df['NumberOfAnswers'].min().round(decimals=-5)\n",
    "number_of_answers_most_popular_tags_pandas_max_value = number_of_answers_in_most_popular_questions_with_unique_tag_pandas_df['NumberOfAnswers'].max().round(decimals=-5)\n",
    "number_of_answers_most_popular_tags_pandas_max_step = (number_of_answers_most_popular_tags_pandas_max_value/5).round(decimals=-5)\n",
    "ax[0, 1].set_xticks(np.arange(number_of_answers_most_popular_tags_pandas_min_value, number_of_answers_most_popular_tags_pandas_max_value + number_of_answers_most_popular_tags_pandas_max_step, step=number_of_answers_most_popular_tags_pandas_max_step))\n",
    "ax[0, 1].ticklabel_format(axis=\"x\", style=\"plain\")\n",
    "ax[0, 1].tick_params(axis='x', labelrotation=45)\n",
    "\n",
    "ax[1, 0].barh(highest_score_in_lowest_popular_questions_with_unique_tag_pandas_df['Tag'], highest_score_in_lowest_popular_questions_with_unique_tag_pandas_df['HighestScore'], color='red') #lowest_score\n",
    "highest_score_in_lowest_popular_pandas_min_value = highest_score_in_lowest_popular_questions_with_unique_tag_pandas_df['HighestScore'].min().round(decimals=-1)\n",
    "highest_score_in_lowest_popular_pandas_max_value = highest_score_in_lowest_popular_questions_with_unique_tag_pandas_df['HighestScore'].max().round(decimals=-1)\n",
    "highest_score_in_lowest_popular_pandas_max_step = (highest_score_in_lowest_popular_pandas_max_value/5).round(decimals=-1)\n",
    "ax[1, 0].set_xticks(np.arange(highest_score_in_lowest_popular_pandas_min_value, highest_score_in_lowest_popular_pandas_max_value + highest_score_in_lowest_popular_pandas_max_step, step=highest_score_in_lowest_popular_pandas_max_step))\n",
    "ax[1, 0].set_ylabel('Najpopularniejsze technologie', labelpad= 20.0)\n",
    "ax[1, 0].set_ylabel('Najmniej popularne technologie', labelpad= 20.0)\n",
    "ax[1, 0].set_xlabel('Największa ilość punktów oceny', labelpad= 20.0)\n",
    "ax[1, 0].tick_params(axis='x', labelrotation=45)\n",
    "\n",
    "ax[1, 1].barh(number_of_answers_in_lowest_popular_questions_with_unique_tag_pandas_df['Tag'], number_of_answers_in_lowest_popular_questions_with_unique_tag_pandas_df['NumberOfAnswers'], color='red') #lowest_answers\n",
    "number_of_answers_lowest_popular_tags_pandas_min_value = number_of_answers_in_lowest_popular_questions_with_unique_tag_pandas_df['NumberOfAnswers'].min().round(decimals=-3)\n",
    "number_of_answers_lowest_popular_tags_pandas_max_value = number_of_answers_in_lowest_popular_questions_with_unique_tag_pandas_df['NumberOfAnswers'].max().round(decimals=-3)\n",
    "number_of_answers_lowest_popular_tags_pandas_max_step = (number_of_answers_lowest_popular_tags_pandas_max_value/5).round(decimals=-3)\n",
    "ax[1, 1].set_xticks(np.arange(number_of_answers_lowest_popular_tags_pandas_min_value, number_of_answers_lowest_popular_tags_pandas_max_value + number_of_answers_lowest_popular_tags_pandas_max_step, step=number_of_answers_lowest_popular_tags_pandas_max_step))\n",
    "ax[1, 1].set_xlabel('Ilość odpowiedzi', labelpad= 20.0)\n",
    "ax[1, 1].tick_params(axis='x', labelrotation=45)\n",
    "\n",
    "fig.suptitle('Porównanie najbardziej i najmniej popularnych technologii na podstawie \\n najwyższej oceny i ilości odpowiedzi w pytaniach według danych z portalu stackoverflow.com')\n",
    "plt.savefig('comparision_most_and_lowest_popular_questions_based_on_score_and_answers.png', facecolor='white')\n",
    "plt.show()"
   ],
   "metadata": {
    "application/vnd.databricks.v1+cell": {
     "showTitle": false,
     "cellMetadata": {},
     "nuid": "bd741132-ee5d-47f6-8178-0a9ae752ce01",
     "inputWidgets": {},
     "title": ""
    }
   },
   "outputs": [],
   "execution_count": null
  },
  {
   "cell_type": "markdown",
   "source": [
    "## Number of views in the most and the least popular technologies"
   ],
   "metadata": {
    "collapsed": false
   }
  },
  {
   "cell_type": "code",
   "source": [
    "sum_of_views_most_popular_questions_with_unique_tag_df = most_popular_questions_with_unique_tag_df \\\n",
    "    .groupBy(col('Tag')) \\\n",
    "    .agg(sum(col('ViewCount')).cast(LongType()).alias('SumOfViews')) \\\n",
    "    .sort(asc('SumOfViews'))\n",
    "\n",
    "sum_of_views_lowest_popular_questions_with_unique_tag_df = lowest_popular_questions_with_unique_tag_df \\\n",
    "    .groupBy(col('Tag')) \\\n",
    "    .agg(sum(col('ViewCount')).cast(LongType()).alias('SumOfViews')) \\\n",
    "    .sort(asc('SumOfViews'))"
   ],
   "metadata": {
    "collapsed": false,
    "application/vnd.databricks.v1+cell": {
     "showTitle": false,
     "cellMetadata": {},
     "nuid": "98fbf3bf-f21a-4bbe-9258-9699aae32589",
     "inputWidgets": {},
     "title": ""
    }
   },
   "outputs": [],
   "execution_count": null
  },
  {
   "cell_type": "markdown",
   "source": [
    "## Number of views in the most and the least popular technologies - PLOT"
   ],
   "metadata": {
    "collapsed": false
   }
  },
  {
   "cell_type": "code",
   "source": [
    "sum_of_views_most_popular_questions_with_unique_tag_pandas_df = sum_of_views_most_popular_questions_with_unique_tag_df.toPandas()\n",
    "\n",
    "fig, ax = plt.subplots(figsize=(10, 10), facecolor='white', dpi=100)\n",
    "plt.barh(sum_of_views_most_popular_questions_with_unique_tag_pandas_df['Tag'], sum_of_views_most_popular_questions_with_unique_tag_pandas_df['SumOfViews'])\n",
    "plt.ticklabel_format(axis=\"x\", style=\"plain\")\n",
    "\n",
    "most_popular_tags_pandas_min_value = sum_of_views_most_popular_questions_with_unique_tag_pandas_df['SumOfViews'].min().round(decimals=-6)\n",
    "most_popular_tags_pandas_max_value = sum_of_views_most_popular_questions_with_unique_tag_pandas_df['SumOfViews'].max().round(decimals=-6)\n",
    "most_popular_tags_pandas_max_step = (most_popular_tags_pandas_max_value/5).round(decimals=-6)\n",
    "plt.xticks(np.arange(most_popular_tags_pandas_min_value, (most_popular_tags_pandas_max_value + most_popular_tags_pandas_max_step), step=most_popular_tags_pandas_max_step), rotation = 45)\n",
    "\n",
    "plt.ylabel('Technologie')\n",
    "plt.xlabel('Ilość wygenerowanych wyświetleń', labelpad= 20.0)\n",
    "plt.title('Ilość wygenerowanych wyświetleń w najpopularniejszych technologiach \\n według danych z portalu stackoverflow.com')\n",
    "plt.savefig('sum_of_views_most_popular_questions_with_unique_tag.png', facecolor='white')\n",
    "plt.show()"
   ],
   "metadata": {
    "collapsed": false,
    "application/vnd.databricks.v1+cell": {
     "showTitle": false,
     "cellMetadata": {},
     "nuid": "84e3c913-3afc-475e-89df-c259ebb43b88",
     "inputWidgets": {},
     "title": ""
    }
   },
   "outputs": [],
   "execution_count": null
  },
  {
   "cell_type": "code",
   "source": [
    "sum_of_views_lowest_popular_questions_with_unique_tag_pandas_df = sum_of_views_lowest_popular_questions_with_unique_tag_df.toPandas()\n",
    "\n",
    "fig, ax = plt.subplots(figsize=(10, 10), facecolor='white', dpi=100)\n",
    "plt.barh(sum_of_views_lowest_popular_questions_with_unique_tag_pandas_df['Tag'], sum_of_views_lowest_popular_questions_with_unique_tag_pandas_df['SumOfViews'])\n",
    "plt.ticklabel_format(axis=\"x\", style=\"plain\")\n",
    "\n",
    "plt.xticks(rotation = 45)\n",
    "\n",
    "plt.ylabel('Technologie')\n",
    "plt.xlabel('Ilość wygenerowanych wyświetleń', labelpad= 20.0)\n",
    "plt.title('Ilość wygenerowanych wyświetleń w najmniej popularnych technologiach \\n według danych z portalu stackoverflow.com ')\n",
    "plt.savefig('sum_of_views_lowest_popular_questions_with_unique_tag.png', facecolor='white')\n",
    "plt.show()"
   ],
   "metadata": {
    "collapsed": false,
    "application/vnd.databricks.v1+cell": {
     "showTitle": false,
     "cellMetadata": {},
     "nuid": "05f475e5-fc48-4e23-85ac-25be0656c048",
     "inputWidgets": {},
     "title": ""
    }
   },
   "outputs": [],
   "execution_count": null
  },
  {
   "cell_type": "markdown",
   "source": [
    "## Number of posts from the most and the least popular technologies through the years"
   ],
   "metadata": {
    "collapsed": false
   }
  },
  {
   "cell_type": "code",
   "source": [
    "most_popular_posts_through_the_years_df = most_popular_questions_with_unique_tag_df \\\n",
    "    .union(most_popular_answers_with_unique_tag_df) \\\n",
    "    .withColumn('CreationYear', year(col('CreationDate'))) \\\n",
    "    .groupBy(col('Tag'), col('CreationYear')) \\\n",
    "    .count() \\\n",
    "    .sort(desc('CreationYear'), desc('count'))\n",
    "\n",
    "lowest_popular_posts_through_the_years_df = lowest_popular_questions_with_unique_tag_df \\\n",
    "    .union(lowest_popular_answers_with_unique_tag_df) \\\n",
    "    .withColumn('CreationYear', year(col('CreationDate'))) \\\n",
    "    .groupBy(col('Tag'), col('CreationYear')) \\\n",
    "    .count() \\\n",
    "    .sort(desc('CreationYear'), desc('count'))"
   ],
   "metadata": {
    "collapsed": false,
    "application/vnd.databricks.v1+cell": {
     "showTitle": false,
     "cellMetadata": {},
     "nuid": "b7df5a1c-3d91-41e8-ae49-685a2a523ab1",
     "inputWidgets": {},
     "title": ""
    }
   },
   "outputs": [],
   "execution_count": null
  },
  {
   "cell_type": "markdown",
   "source": [
    "##  Number of posts from the most and the least popular technologies through the years - PLOT"
   ],
   "metadata": {
    "collapsed": false
   }
  },
  {
   "cell_type": "code",
   "source": [
    "top_10_the_most_popular_technologies_based_on_the_survey_posts = ['<javascript>', '<html>', '<sql>', '<python>', '<typescript>', '<java>', '<c#>', '<bash>', '<php>', '<c++>']\n",
    "\n",
    "most_popular_posts_through_the_years_pandas_df = most_popular_posts_through_the_years_df.toPandas()\n",
    "\n",
    "fig, ax = plt.subplots(figsize=(10, 10), facecolor='white', dpi=100)\n",
    "plt.ticklabel_format(axis=\"y\", style=\"plain\")\n",
    "\n",
    "# Should be done it by foreach - Refactor\n",
    "ax.plot(most_popular_posts_through_the_years_pandas_df[most_popular_posts_through_the_years_pandas_df['Tag'] == '<javascript>']['CreationYear'], most_popular_posts_through_the_years_pandas_df[most_popular_posts_through_the_years_pandas_df['Tag'] == '<javascript>']['count'], label='javascript', color='blue', marker=\"v\")\n",
    "\n",
    "ax.plot(most_popular_posts_through_the_years_pandas_df[most_popular_posts_through_the_years_pandas_df['Tag'] == '<html>']['CreationYear'], most_popular_posts_through_the_years_pandas_df[most_popular_posts_through_the_years_pandas_df['Tag'] == '<html>']['count'], label='html', color='green', marker=\"v\")\n",
    "\n",
    "ax.plot(most_popular_posts_through_the_years_pandas_df[most_popular_posts_through_the_years_pandas_df['Tag'] == '<sql>']['CreationYear'], most_popular_posts_through_the_years_pandas_df[most_popular_posts_through_the_years_pandas_df['Tag'] == '<sql>']['count'], label='sql', color='red', marker=\"v\")\n",
    "\n",
    "ax.plot(most_popular_posts_through_the_years_pandas_df[most_popular_posts_through_the_years_pandas_df['Tag'] == '<python>']['CreationYear'], most_popular_posts_through_the_years_pandas_df[most_popular_posts_through_the_years_pandas_df['Tag'] == '<python>']['count'], label='python', color='cyan', marker=\"v\")\n",
    "\n",
    "ax.plot(most_popular_posts_through_the_years_pandas_df[most_popular_posts_through_the_years_pandas_df['Tag'] == '<typescript>']['CreationYear'], most_popular_posts_through_the_years_pandas_df[most_popular_posts_through_the_years_pandas_df['Tag'] == '<typescript>']['count'], label='typescript', color='magenta', marker=\"v\")\n",
    "\n",
    "ax.plot(most_popular_posts_through_the_years_pandas_df[most_popular_posts_through_the_years_pandas_df['Tag'] == '<java>']['CreationYear'], most_popular_posts_through_the_years_pandas_df[most_popular_posts_through_the_years_pandas_df['Tag'] == '<java>']['count'], label='java', color='yellow', marker=\"v\")\n",
    "\n",
    "ax.plot(most_popular_posts_through_the_years_pandas_df[most_popular_posts_through_the_years_pandas_df['Tag'] == '<c#>']['CreationYear'], most_popular_posts_through_the_years_pandas_df[most_popular_posts_through_the_years_pandas_df['Tag'] == '<c#>']['count'], label='c#', color='black', marker=\"v\")\n",
    "\n",
    "ax.plot(most_popular_posts_through_the_years_pandas_df[most_popular_posts_through_the_years_pandas_df['Tag'] == '<bash>']['CreationYear'], most_popular_posts_through_the_years_pandas_df[most_popular_posts_through_the_years_pandas_df['Tag'] == '<bash>']['count'], label='bash', color='orange', marker=\"v\")\n",
    "\n",
    "ax.plot(most_popular_posts_through_the_years_pandas_df[most_popular_posts_through_the_years_pandas_df['Tag'] == '<php>']['CreationYear'], most_popular_posts_through_the_years_pandas_df[most_popular_posts_through_the_years_pandas_df['Tag'] == '<php>']['count'], label='php', color='gray', marker=\"v\")\n",
    "\n",
    "ax.plot(most_popular_posts_through_the_years_pandas_df[most_popular_posts_through_the_years_pandas_df['Tag'] == '<c++>']['CreationYear'], most_popular_posts_through_the_years_pandas_df[most_popular_posts_through_the_years_pandas_df['Tag'] == '<c++>']['count'], label='c++', color='brown', marker=\"v\")\n",
    "\n",
    "ax.set_xlabel('Poszczególne lata')\n",
    "ax.set_ylabel('Ilość postów')\n",
    "plt.title('Ilość postów w czasie dla każdej z najpopularniejszych technologii \\n w ciągu ostatnich lat według danych z portalu stackoverflow.com')\n",
    "ax.legend(loc='center left', bbox_to_anchor=(1, 0.5))\n",
    "plt.savefig('most_popular_posts_through_the_years.png', facecolor='white')\n",
    "plt.show()\n"
   ],
   "metadata": {
    "collapsed": false,
    "application/vnd.databricks.v1+cell": {
     "showTitle": false,
     "cellMetadata": {},
     "nuid": "7de720fa-3f33-4b95-8df6-367c12545923",
     "inputWidgets": {},
     "title": ""
    }
   },
   "outputs": [],
   "execution_count": null
  },
  {
   "cell_type": "code",
   "source": [
    "top_10_the_lowest_popular_technologies_based_on_the_survey_posts = ['<crystal-lang>', '<apl>', '<sas>', '<ocaml>', '<cobol>', '<fortran>', '<erlang>', '<julia>', '<f#>', '<lisp>']\n",
    "\n",
    "lowest_popular_posts_through_the_years_pandas_df = lowest_popular_posts_through_the_years_df.toPandas()\n",
    "\n",
    "fig, ax = plt.subplots(figsize=(10, 10), facecolor='white', dpi=100)\n",
    "plt.ticklabel_format(axis=\"y\", style=\"plain\")\n",
    "\n",
    "# Should be done it by foreach - Refactor\n",
    "ax.plot(lowest_popular_posts_through_the_years_pandas_df[lowest_popular_posts_through_the_years_pandas_df['Tag'] == '<crystal-lang>']['CreationYear'], lowest_popular_posts_through_the_years_pandas_df[lowest_popular_posts_through_the_years_pandas_df['Tag'] == '<crystal-lang>']['count'], label='crystal-lang', color='mediumblue', marker=\"v\")\n",
    "\n",
    "ax.plot(lowest_popular_posts_through_the_years_pandas_df[lowest_popular_posts_through_the_years_pandas_df['Tag'] == '<apl>']['CreationYear'], lowest_popular_posts_through_the_years_pandas_df[lowest_popular_posts_through_the_years_pandas_df['Tag'] == '<apl>']['count'], label='apl', color='darkgreen', marker=\"v\")\n",
    "\n",
    "ax.plot(lowest_popular_posts_through_the_years_pandas_df[lowest_popular_posts_through_the_years_pandas_df['Tag'] == '<sas>']['CreationYear'], lowest_popular_posts_through_the_years_pandas_df[lowest_popular_posts_through_the_years_pandas_df['Tag'] == '<sas>']['count'], label='sas', color='tomato', marker=\"v\")\n",
    "\n",
    "ax.plot(lowest_popular_posts_through_the_years_pandas_df[lowest_popular_posts_through_the_years_pandas_df['Tag'] == '<ocaml>']['CreationYear'], lowest_popular_posts_through_the_years_pandas_df[lowest_popular_posts_through_the_years_pandas_df['Tag'] == '<ocaml>']['count'], label='ocaml', color='darkcyan', marker=\"v\")\n",
    "\n",
    "ax.plot(lowest_popular_posts_through_the_years_pandas_df[lowest_popular_posts_through_the_years_pandas_df['Tag'] == '<cobol>']['CreationYear'], lowest_popular_posts_through_the_years_pandas_df[lowest_popular_posts_through_the_years_pandas_df['Tag'] == '<cobol>']['count'], label='cobol', color='pink', marker=\"v\")\n",
    "\n",
    "ax.plot(lowest_popular_posts_through_the_years_pandas_df[lowest_popular_posts_through_the_years_pandas_df['Tag'] == '<fortran>']['CreationYear'], lowest_popular_posts_through_the_years_pandas_df[lowest_popular_posts_through_the_years_pandas_df['Tag'] == '<fortran>']['count'], label='fortran', color='gold', marker=\"v\")\n",
    "\n",
    "ax.plot(lowest_popular_posts_through_the_years_pandas_df[lowest_popular_posts_through_the_years_pandas_df['Tag'] == '<erlang>']['CreationYear'], lowest_popular_posts_through_the_years_pandas_df[lowest_popular_posts_through_the_years_pandas_df['Tag'] == '<erlang>']['count'], label='erlang', color='dimgray', marker=\"v\")\n",
    "\n",
    "ax.plot(lowest_popular_posts_through_the_years_pandas_df[lowest_popular_posts_through_the_years_pandas_df['Tag'] == '<julia>']['CreationYear'], lowest_popular_posts_through_the_years_pandas_df[lowest_popular_posts_through_the_years_pandas_df['Tag'] == '<julia>']['count'], label='julia', color='darkorange', marker=\"v\")\n",
    "\n",
    "ax.plot(lowest_popular_posts_through_the_years_pandas_df[lowest_popular_posts_through_the_years_pandas_df['Tag'] == '<f#>']['CreationYear'], lowest_popular_posts_through_the_years_pandas_df[lowest_popular_posts_through_the_years_pandas_df['Tag'] == '<f#>']['count'], label='f#', color='lightgray', marker=\"v\")\n",
    "\n",
    "ax.plot(lowest_popular_posts_through_the_years_pandas_df[lowest_popular_posts_through_the_years_pandas_df['Tag'] == '<lisp>']['CreationYear'], lowest_popular_posts_through_the_years_pandas_df[lowest_popular_posts_through_the_years_pandas_df['Tag'] == '<lisp>']['count'], label='lisp', color='firebrick', marker=\"v\")\n",
    "\n",
    "ax.set_xlabel('Poszczególne lata')\n",
    "ax.set_ylabel('Ilość postów')\n",
    "plt.title('Ilość postów w czasie dla każdej z najmniej popularnych technologii \\n w ciągu ostatnich lat według danych z portalu stackoverflow.com')\n",
    "ax.legend(loc='center left', bbox_to_anchor=(1, 0.5))\n",
    "plt.savefig('lowest_popular_posts_through_the_years.png', facecolor='white')\n",
    "plt.show()"
   ],
   "metadata": {
    "collapsed": false,
    "application/vnd.databricks.v1+cell": {
     "showTitle": false,
     "cellMetadata": {},
     "nuid": "2eb5ba8e-cf1a-4700-864b-58d79d50c9eb",
     "inputWidgets": {},
     "title": ""
    }
   },
   "outputs": [],
   "execution_count": null
  },
  {
   "cell_type": "markdown",
   "source": [
    "## Percentage distribution of Users that never post anything"
   ],
   "metadata": {
    "collapsed": false
   }
  },
  {
   "cell_type": "code",
   "source": [
    "number_of_all_users = users_df.count()\n",
    "\n",
    "number_of_users_that_never_post = users_df.alias('u') \\\n",
    "    .join(posts_df.alias('p'), col('u.Id') == col('p.OwnerUserId'), how='left') \\\n",
    "    .filter(col('p.OwnerUserId').isNull()) \\\n",
    "    .count()\n",
    "\n",
    "number_of_users_that_post = number_of_all_users - number_of_users_that_never_post"
   ],
   "metadata": {
    "collapsed": false,
    "application/vnd.databricks.v1+cell": {
     "showTitle": false,
     "cellMetadata": {},
     "nuid": "9311a702-544e-4c5e-973a-f7576b704b83",
     "inputWidgets": {},
     "title": ""
    }
   },
   "outputs": [],
   "execution_count": null
  },
  {
   "cell_type": "markdown",
   "source": [
    "## Percentage distribution of Users that never post anything - PLOT"
   ],
   "metadata": {
    "collapsed": false
   }
  },
  {
   "cell_type": "code",
   "source": [
    "labels = 'Użytkownicy którzy \\n chociaż raz zapostowali', 'Użytkownicy którzy \\n nigdy nic nie zapostowali'\n",
    "sizes = [number_of_users_that_post, number_of_users_that_never_post]\n",
    "explode = (0, 0.1)\n",
    "\n",
    "fig1, ax = plt.subplots(figsize=(10, 10), facecolor='white', dpi=100)\n",
    "ax.pie(sizes, explode=explode, autopct='%1.1f%%')\n",
    "ax.axis('equal')\n",
    "\n",
    "ax.legend(labels, loc=\"center left\", bbox_to_anchor=(1, 0, 0.5, 1))\n",
    "plt.title('Procentowa ilość użytkowników którzy \\n nigdy nic nie zapostowali według danych z portalu stackoverflow.com')\n",
    "\n",
    "plt.savefig('comparision_of_number_of_users_that_never_post.png', facecolor='white')\n",
    "plt.show()"
   ],
   "metadata": {
    "collapsed": false,
    "application/vnd.databricks.v1+cell": {
     "showTitle": false,
     "cellMetadata": {},
     "nuid": "0a5018b4-4437-401a-879e-394eea925876",
     "inputWidgets": {},
     "title": ""
    }
   },
   "outputs": [],
   "execution_count": null
  }
 ],
 "metadata": {
  "kernelspec": {
   "display_name": "Python 3",
   "language": "python",
   "name": "python3"
  },
  "language_info": {
   "mimetype": "text/x-python",
   "name": "python",
   "pygments_lexer": "ipython2",
   "codemirror_mode": {
    "name": "ipython",
    "version": 2
   },
   "version": "2.7.6",
   "nbconvert_exporter": "python",
   "file_extension": ".py"
  },
  "application/vnd.databricks.v1+notebook": {
   "notebookName": "exploration_of_stackoverflow_data",
   "dashboards": [],
   "notebookMetadata": {
    "pythonIndentUnit": 4,
    "mostRecentlyExecutedCommandWithImplicitDF": {
     "commandId": 3923359264760189,
     "dataframes": [
      "_sqldf"
     ]
    }
   },
   "language": "python",
   "widgets": {},
   "notebookOrigID": 3923359264760180
  }
 },
 "nbformat": 4,
 "nbformat_minor": 0
}
